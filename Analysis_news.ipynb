{
 "cells": [
  {
   "cell_type": "markdown",
   "metadata": {},
   "source": [
    "In this part of the project, we will start by performing some analysis on the features to see how the differ between the two sets, then we will run a model on them and see how well it performs."
   ]
  },
  {
   "cell_type": "markdown",
   "metadata": {},
   "source": [
    "## Features Analysis"
   ]
  },
  {
   "cell_type": "markdown",
   "metadata": {},
   "source": [
    "After computing the various features for the True and Fake news datasets, we will now plot our results to compare the tendency of each feature in the Fake news vs the True news. This will help us see if the feature is relevant in detecting that type of news or not."
   ]
  },
  {
   "cell_type": "code",
   "execution_count": 1,
   "metadata": {},
   "outputs": [],
   "source": [
    "import numpy as np \n",
    "import pandas as pd\n",
    "import matplotlib.pyplot as plt\n",
    "import os\n",
    "from sklearn.model_selection import train_test_split\n",
    "from sklearn.metrics import precision_recall_curve, plot_precision_recall_curve, average_precision_score\n",
    "from sklearn.neural_network import MLPClassifier\n",
    "%matplotlib inline"
   ]
  },
  {
   "cell_type": "code",
   "execution_count": 2,
   "metadata": {},
   "outputs": [],
   "source": [
    "from scipy import stats\n",
    "from scipy.stats import levene\n",
    "import seaborn as sns"
   ]
  },
  {
   "cell_type": "code",
   "execution_count": 3,
   "metadata": {},
   "outputs": [],
   "source": [
    "#remove warnings\n",
    "import warnings\n",
    "warnings.filterwarnings('ignore')"
   ]
  },
  {
   "cell_type": "code",
   "execution_count": 4,
   "metadata": {},
   "outputs": [],
   "source": [
    "#set the features data folder name \n",
    "FEATURES_FOLDER = 'news_features'\n",
    "\n",
    "#load the Fake news dataframe\n",
    "df_Fake_text =  pd.read_csv(os.path.join(FEATURES_FOLDER,'df_Fake_text.csv'))"
   ]
  },
  {
   "cell_type": "code",
   "execution_count": 5,
   "metadata": {},
   "outputs": [],
   "source": [
    "#rename some columns because previous names are less appealing \n",
    "df_Fake_text.rename(columns = {'numSentence': 'nb_sentences', 'numWords': 'nb_words', 'totSentiment': 'tot_sentiments' , 'avgSentiment': 'avg_sentiment'}, inplace = True)"
   ]
  },
  {
   "cell_type": "code",
   "execution_count": 6,
   "metadata": {},
   "outputs": [
    {
     "data": {
      "text/html": [
       "<div>\n",
       "<style scoped>\n",
       "    .dataframe tbody tr th:only-of-type {\n",
       "        vertical-align: middle;\n",
       "    }\n",
       "\n",
       "    .dataframe tbody tr th {\n",
       "        vertical-align: top;\n",
       "    }\n",
       "\n",
       "    .dataframe thead th {\n",
       "        text-align: right;\n",
       "    }\n",
       "</style>\n",
       "<table border=\"1\" class=\"dataframe\">\n",
       "  <thead>\n",
       "    <tr style=\"text-align: right;\">\n",
       "      <th></th>\n",
       "      <th>text</th>\n",
       "      <th>nb_sentences</th>\n",
       "      <th>nb_words</th>\n",
       "      <th>tot_sentiments</th>\n",
       "      <th>avg_sentiment</th>\n",
       "      <th>positive_Sentiment</th>\n",
       "      <th>negative_Sentiment</th>\n",
       "      <th>neutral_Sentiment</th>\n",
       "      <th>parses</th>\n",
       "      <th>politeness</th>\n",
       "      <th>premises_conclusions</th>\n",
       "      <th>subjectivity</th>\n",
       "      <th>polarity</th>\n",
       "      <th>comparaison</th>\n",
       "      <th>contingency</th>\n",
       "      <th>expansion</th>\n",
       "    </tr>\n",
       "  </thead>\n",
       "  <tbody>\n",
       "    <tr>\n",
       "      <th>0</th>\n",
       "      <td>donald trump just couldn t wish all americans ...</td>\n",
       "      <td>27.0</td>\n",
       "      <td>462.0</td>\n",
       "      <td>52.0</td>\n",
       "      <td>1.925926</td>\n",
       "      <td>7.0</td>\n",
       "      <td>10.0</td>\n",
       "      <td>10.0</td>\n",
       "      <td>['(ROOT\\n  (S\\n    (NP\\n      (NP (JJ donald) ...</td>\n",
       "      <td>0.422506</td>\n",
       "      <td>18</td>\n",
       "      <td>0.592490</td>\n",
       "      <td>0.082463</td>\n",
       "      <td>8</td>\n",
       "      <td>27</td>\n",
       "      <td>50</td>\n",
       "    </tr>\n",
       "    <tr>\n",
       "      <th>1</th>\n",
       "      <td>house intelligence committee chairman devin nu...</td>\n",
       "      <td>10.0</td>\n",
       "      <td>308.0</td>\n",
       "      <td>12.0</td>\n",
       "      <td>1.200000</td>\n",
       "      <td>0.0</td>\n",
       "      <td>8.0</td>\n",
       "      <td>2.0</td>\n",
       "      <td>['(ROOT\\n  (S\\n    (NP (NN house) (NN intellig...</td>\n",
       "      <td>0.455562</td>\n",
       "      <td>21</td>\n",
       "      <td>0.334098</td>\n",
       "      <td>-0.005004</td>\n",
       "      <td>7</td>\n",
       "      <td>16</td>\n",
       "      <td>40</td>\n",
       "    </tr>\n",
       "    <tr>\n",
       "      <th>2</th>\n",
       "      <td>on friday, it was revealed that former milwauk...</td>\n",
       "      <td>25.0</td>\n",
       "      <td>544.0</td>\n",
       "      <td>41.0</td>\n",
       "      <td>1.640000</td>\n",
       "      <td>3.0</td>\n",
       "      <td>12.0</td>\n",
       "      <td>10.0</td>\n",
       "      <td>['(ROOT\\n  (S\\n    (PP (IN on)\\n      (NP (NNP...</td>\n",
       "      <td>0.441890</td>\n",
       "      <td>20</td>\n",
       "      <td>0.542352</td>\n",
       "      <td>0.009671</td>\n",
       "      <td>9</td>\n",
       "      <td>24</td>\n",
       "      <td>47</td>\n",
       "    </tr>\n",
       "    <tr>\n",
       "      <th>3</th>\n",
       "      <td>on christmas day, donald trump announced that ...</td>\n",
       "      <td>17.0</td>\n",
       "      <td>411.0</td>\n",
       "      <td>26.0</td>\n",
       "      <td>1.529412</td>\n",
       "      <td>2.0</td>\n",
       "      <td>10.0</td>\n",
       "      <td>5.0</td>\n",
       "      <td>['(ROOT\\n  (S\\n    (PP (IN on)\\n      (NP (NNP...</td>\n",
       "      <td>0.470385</td>\n",
       "      <td>22</td>\n",
       "      <td>0.372581</td>\n",
       "      <td>0.009140</td>\n",
       "      <td>13</td>\n",
       "      <td>18</td>\n",
       "      <td>48</td>\n",
       "    </tr>\n",
       "    <tr>\n",
       "      <th>4</th>\n",
       "      <td>pope francis used his annual christmas day mes...</td>\n",
       "      <td>19.0</td>\n",
       "      <td>420.0</td>\n",
       "      <td>33.0</td>\n",
       "      <td>1.736842</td>\n",
       "      <td>6.0</td>\n",
       "      <td>11.0</td>\n",
       "      <td>2.0</td>\n",
       "      <td>['(ROOT\\n  (S\\n    (NP (NN pope) (NNS francis)...</td>\n",
       "      <td>0.456240</td>\n",
       "      <td>25</td>\n",
       "      <td>0.495222</td>\n",
       "      <td>-0.011722</td>\n",
       "      <td>4</td>\n",
       "      <td>26</td>\n",
       "      <td>48</td>\n",
       "    </tr>\n",
       "  </tbody>\n",
       "</table>\n",
       "</div>"
      ],
      "text/plain": [
       "                                                text  nb_sentences  nb_words  \\\n",
       "0  donald trump just couldn t wish all americans ...          27.0     462.0   \n",
       "1  house intelligence committee chairman devin nu...          10.0     308.0   \n",
       "2  on friday, it was revealed that former milwauk...          25.0     544.0   \n",
       "3  on christmas day, donald trump announced that ...          17.0     411.0   \n",
       "4  pope francis used his annual christmas day mes...          19.0     420.0   \n",
       "\n",
       "   tot_sentiments  avg_sentiment  positive_Sentiment  negative_Sentiment  \\\n",
       "0            52.0       1.925926                 7.0                10.0   \n",
       "1            12.0       1.200000                 0.0                 8.0   \n",
       "2            41.0       1.640000                 3.0                12.0   \n",
       "3            26.0       1.529412                 2.0                10.0   \n",
       "4            33.0       1.736842                 6.0                11.0   \n",
       "\n",
       "   neutral_Sentiment                                             parses  \\\n",
       "0               10.0  ['(ROOT\\n  (S\\n    (NP\\n      (NP (JJ donald) ...   \n",
       "1                2.0  ['(ROOT\\n  (S\\n    (NP (NN house) (NN intellig...   \n",
       "2               10.0  ['(ROOT\\n  (S\\n    (PP (IN on)\\n      (NP (NNP...   \n",
       "3                5.0  ['(ROOT\\n  (S\\n    (PP (IN on)\\n      (NP (NNP...   \n",
       "4                2.0  ['(ROOT\\n  (S\\n    (NP (NN pope) (NNS francis)...   \n",
       "\n",
       "   politeness  premises_conclusions  subjectivity  polarity  comparaison  \\\n",
       "0    0.422506                    18      0.592490  0.082463            8   \n",
       "1    0.455562                    21      0.334098 -0.005004            7   \n",
       "2    0.441890                    20      0.542352  0.009671            9   \n",
       "3    0.470385                    22      0.372581  0.009140           13   \n",
       "4    0.456240                    25      0.495222 -0.011722            4   \n",
       "\n",
       "   contingency  expansion  \n",
       "0           27         50  \n",
       "1           16         40  \n",
       "2           24         47  \n",
       "3           18         48  \n",
       "4           26         48  "
      ]
     },
     "execution_count": 6,
     "metadata": {},
     "output_type": "execute_result"
    }
   ],
   "source": [
    "#print some entries\n",
    "df_Fake_text.head()"
   ]
  },
  {
   "cell_type": "code",
   "execution_count": 7,
   "metadata": {},
   "outputs": [],
   "source": [
    "##load the True news dataframe\n",
    "df_True_text =  pd.read_csv(os.path.join(FEATURES_FOLDER,'df_True_text2.csv' ))"
   ]
  },
  {
   "cell_type": "code",
   "execution_count": 8,
   "metadata": {},
   "outputs": [],
   "source": [
    "#rename some columns because previous names are less appealing \n",
    "df_True_text.rename(columns = {'numSentence': 'nb_sentences', 'numWords': 'nb_words', 'totSentiment': 'tot_sentiments' , 'avgSentiment': 'avg_sentiment'}, inplace = True)"
   ]
  },
  {
   "cell_type": "code",
   "execution_count": 9,
   "metadata": {},
   "outputs": [
    {
     "data": {
      "text/html": [
       "<div>\n",
       "<style scoped>\n",
       "    .dataframe tbody tr th:only-of-type {\n",
       "        vertical-align: middle;\n",
       "    }\n",
       "\n",
       "    .dataframe tbody tr th {\n",
       "        vertical-align: top;\n",
       "    }\n",
       "\n",
       "    .dataframe thead th {\n",
       "        text-align: right;\n",
       "    }\n",
       "</style>\n",
       "<table border=\"1\" class=\"dataframe\">\n",
       "  <thead>\n",
       "    <tr style=\"text-align: right;\">\n",
       "      <th></th>\n",
       "      <th>text</th>\n",
       "      <th>nb_sentences</th>\n",
       "      <th>nb_words</th>\n",
       "      <th>tot_sentiments</th>\n",
       "      <th>avg_sentiment</th>\n",
       "      <th>positive_Sentiment</th>\n",
       "      <th>negative_Sentiment</th>\n",
       "      <th>neutral_Sentiment</th>\n",
       "      <th>parses</th>\n",
       "      <th>politeness</th>\n",
       "      <th>premises_conclusions</th>\n",
       "      <th>subjectivity</th>\n",
       "      <th>polarity</th>\n",
       "      <th>comparaison</th>\n",
       "      <th>contingency</th>\n",
       "      <th>expansion</th>\n",
       "    </tr>\n",
       "  </thead>\n",
       "  <tbody>\n",
       "    <tr>\n",
       "      <th>0</th>\n",
       "      <td>the head of a conservative republican faction ...</td>\n",
       "      <td>31.0</td>\n",
       "      <td>730.0</td>\n",
       "      <td>63.0</td>\n",
       "      <td>2.032258</td>\n",
       "      <td>10.0</td>\n",
       "      <td>9.0</td>\n",
       "      <td>12.0</td>\n",
       "      <td>['(ROOT\\n  (S\\n    (NP\\n      (NP\\n        (NP...</td>\n",
       "      <td>0.456962</td>\n",
       "      <td>45</td>\n",
       "      <td>0.410250</td>\n",
       "      <td>0.037083</td>\n",
       "      <td>15</td>\n",
       "      <td>26</td>\n",
       "      <td>82</td>\n",
       "    </tr>\n",
       "    <tr>\n",
       "      <th>1</th>\n",
       "      <td>transgender people will be allowed for the fir...</td>\n",
       "      <td>22.0</td>\n",
       "      <td>614.0</td>\n",
       "      <td>38.0</td>\n",
       "      <td>1.727273</td>\n",
       "      <td>4.0</td>\n",
       "      <td>10.0</td>\n",
       "      <td>8.0</td>\n",
       "      <td>['(ROOT\\n  (S\\n    (S\\n      (NP (JJ transgend...</td>\n",
       "      <td>0.458206</td>\n",
       "      <td>23</td>\n",
       "      <td>0.308401</td>\n",
       "      <td>0.044354</td>\n",
       "      <td>10</td>\n",
       "      <td>25</td>\n",
       "      <td>57</td>\n",
       "    </tr>\n",
       "    <tr>\n",
       "      <th>2</th>\n",
       "      <td>the special counsel investigation of links bet...</td>\n",
       "      <td>19.0</td>\n",
       "      <td>452.0</td>\n",
       "      <td>39.0</td>\n",
       "      <td>2.052632</td>\n",
       "      <td>5.0</td>\n",
       "      <td>4.0</td>\n",
       "      <td>10.0</td>\n",
       "      <td>['(ROOT\\n  (S\\n    (S\\n      (NP\\n        (NP ...</td>\n",
       "      <td>0.449653</td>\n",
       "      <td>23</td>\n",
       "      <td>0.316798</td>\n",
       "      <td>0.115930</td>\n",
       "      <td>9</td>\n",
       "      <td>20</td>\n",
       "      <td>49</td>\n",
       "    </tr>\n",
       "    <tr>\n",
       "      <th>3</th>\n",
       "      <td>trump campaign adviser george papadopoulos tol...</td>\n",
       "      <td>16.0</td>\n",
       "      <td>374.0</td>\n",
       "      <td>30.0</td>\n",
       "      <td>1.875000</td>\n",
       "      <td>4.0</td>\n",
       "      <td>6.0</td>\n",
       "      <td>6.0</td>\n",
       "      <td>['(ROOT\\n  (S\\n    (S\\n      (NP (NN trump) (N...</td>\n",
       "      <td>0.461039</td>\n",
       "      <td>28</td>\n",
       "      <td>0.306569</td>\n",
       "      <td>0.035968</td>\n",
       "      <td>8</td>\n",
       "      <td>22</td>\n",
       "      <td>51</td>\n",
       "    </tr>\n",
       "    <tr>\n",
       "      <th>4</th>\n",
       "      <td>president donald trump called on the u.s. post...</td>\n",
       "      <td>45.0</td>\n",
       "      <td>827.0</td>\n",
       "      <td>77.0</td>\n",
       "      <td>1.711111</td>\n",
       "      <td>8.0</td>\n",
       "      <td>21.0</td>\n",
       "      <td>16.0</td>\n",
       "      <td>['(ROOT\\n  (S\\n    (NP\\n      (NP (NN presiden...</td>\n",
       "      <td>0.450035</td>\n",
       "      <td>47</td>\n",
       "      <td>0.398611</td>\n",
       "      <td>0.034322</td>\n",
       "      <td>20</td>\n",
       "      <td>34</td>\n",
       "      <td>85</td>\n",
       "    </tr>\n",
       "  </tbody>\n",
       "</table>\n",
       "</div>"
      ],
      "text/plain": [
       "                                                text  nb_sentences  nb_words  \\\n",
       "0  the head of a conservative republican faction ...          31.0     730.0   \n",
       "1  transgender people will be allowed for the fir...          22.0     614.0   \n",
       "2  the special counsel investigation of links bet...          19.0     452.0   \n",
       "3  trump campaign adviser george papadopoulos tol...          16.0     374.0   \n",
       "4  president donald trump called on the u.s. post...          45.0     827.0   \n",
       "\n",
       "   tot_sentiments  avg_sentiment  positive_Sentiment  negative_Sentiment  \\\n",
       "0            63.0       2.032258                10.0                 9.0   \n",
       "1            38.0       1.727273                 4.0                10.0   \n",
       "2            39.0       2.052632                 5.0                 4.0   \n",
       "3            30.0       1.875000                 4.0                 6.0   \n",
       "4            77.0       1.711111                 8.0                21.0   \n",
       "\n",
       "   neutral_Sentiment                                             parses  \\\n",
       "0               12.0  ['(ROOT\\n  (S\\n    (NP\\n      (NP\\n        (NP...   \n",
       "1                8.0  ['(ROOT\\n  (S\\n    (S\\n      (NP (JJ transgend...   \n",
       "2               10.0  ['(ROOT\\n  (S\\n    (S\\n      (NP\\n        (NP ...   \n",
       "3                6.0  ['(ROOT\\n  (S\\n    (S\\n      (NP (NN trump) (N...   \n",
       "4               16.0  ['(ROOT\\n  (S\\n    (NP\\n      (NP (NN presiden...   \n",
       "\n",
       "   politeness  premises_conclusions  subjectivity  polarity  comparaison  \\\n",
       "0    0.456962                    45      0.410250  0.037083           15   \n",
       "1    0.458206                    23      0.308401  0.044354           10   \n",
       "2    0.449653                    23      0.316798  0.115930            9   \n",
       "3    0.461039                    28      0.306569  0.035968            8   \n",
       "4    0.450035                    47      0.398611  0.034322           20   \n",
       "\n",
       "   contingency  expansion  \n",
       "0           26         82  \n",
       "1           25         57  \n",
       "2           20         49  \n",
       "3           22         51  \n",
       "4           34         85  "
      ]
     },
     "execution_count": 9,
     "metadata": {},
     "output_type": "execute_result"
    }
   ],
   "source": [
    "#print some entries\n",
    "df_True_text.head()"
   ]
  },
  {
   "cell_type": "code",
   "execution_count": 10,
   "metadata": {},
   "outputs": [
    {
     "name": "stdout",
     "output_type": "stream",
     "text": [
      "shape of the True news dataframe: (21391, 16) \n",
      "shape of the Fake news dataframe: (22732, 16)\n"
     ]
    }
   ],
   "source": [
    "print(\"shape of the True news dataframe:\", df_True_text.shape, \"\\nshape of the Fake news dataframe:\", df_Fake_text.shape)"
   ]
  },
  {
   "cell_type": "markdown",
   "metadata": {},
   "source": [
    "To keep the two datasets matched, we will ignore the last entries in the Fake news dataframe to get the same length for the two sets."
   ]
  },
  {
   "cell_type": "code",
   "execution_count": 11,
   "metadata": {},
   "outputs": [],
   "source": [
    "df_Fake_text= df_Fake_text.iloc[ : len(df_True_text)]"
   ]
  },
  {
   "cell_type": "code",
   "execution_count": 12,
   "metadata": {},
   "outputs": [
    {
     "name": "stdout",
     "output_type": "stream",
     "text": [
      "shape of the True news dataframe: (21391, 16) \n",
      "shape of the Fake news dataframe: (21391, 16)\n"
     ]
    }
   ],
   "source": [
    "print(\"shape of the True news dataframe:\", df_True_text.shape, \"\\nshape of the Fake news dataframe:\", df_Fake_text.shape)"
   ]
  },
  {
   "cell_type": "code",
   "execution_count": 13,
   "metadata": {},
   "outputs": [],
   "source": [
    "#method to compute bootstrapped standard errors \n",
    "#It's a modified version of the method we used in Becoming a DataVizard exercise\n",
    "def bootstrap_std(data, nbr_draws):\n",
    "    means = np.zeros(nbr_draws)\n",
    "    data = np.array(data)\n",
    "\n",
    "    for n in range(nbr_draws):\n",
    "        indices = np.random.randint(0, len(data), len(data))\n",
    "        data_tmp = data[indices] \n",
    "        means[n] = np.nanmean(data_tmp)\n",
    "        \n",
    "    #return the standard deviation of the means\n",
    "    return np.std(means)"
   ]
  },
  {
   "cell_type": "markdown",
   "metadata": {},
   "source": [
    "### Sentiments Plots "
   ]
  },
  {
   "cell_type": "markdown",
   "metadata": {},
   "source": [
    "#### Stanford coreNLP"
   ]
  },
  {
   "cell_type": "markdown",
   "metadata": {},
   "source": [
    "The coreNLP sentiment analyser computes the sentiment based on how words compose the meaning of longer phrases and not on words independently. We computed the sentiments of each sentence using it and then took the average of the sentences sentiments to get the sentiments of a given news. This was performed on 3000 Real and Fake news respectively. Since the news are independent, (we estimate that 3000 is quite representative of the entire dataset).  \n",
    "We show here average number of Sentiments with coreNLP for 3000 Fake and Real news resepectively."
   ]
  },
  {
   "cell_type": "code",
   "execution_count": 14,
   "metadata": {},
   "outputs": [
    {
     "data": {
      "image/png": "[encoded data removed]",
      "text/plain": [
       "<Figure size 576x216 with 3 Axes>"
      ]
     },
     "metadata": {
      "needs_background": "light"
     },
     "output_type": "display_data"
    }
   ],
   "source": [
    "#labels for the plots\n",
    "labels=['Fake ' , 'True']\n",
    "\n",
    "#colors\n",
    "color_Fake = 'white'\n",
    "color_True= 'deepskyblue'\n",
    "\n",
    "#distance between the two bars in the plot\n",
    "distance=0.3\n",
    "\n",
    "#width of the bar\n",
    "width = 0.45\n",
    "\n",
    "#create 3 subplots for the 3 graphs\n",
    "fig, (ax1, ax2, ax3) = plt.subplots(1, 3, figsize=(8 , 3))\n",
    "\n",
    "#first plot: negative sentiments\n",
    "\n",
    "#plot the bar for the avg negative sentiments of the Fake news\n",
    "ax1.bar(0,\n",
    "                    np.mean(df_Fake_text['negative_Sentiment'].iloc[:3001]),\n",
    "                    yerr=bootstrap_std(df_Fake_text['negative_Sentiment'].iloc[:3001], 1000),\n",
    "                    width=width,\n",
    "                    label='Fake',\n",
    "                    color=color_Fake,\n",
    "                    linewidth=0.5,\n",
    "                    edgecolor='black',\n",
    "                    capsize=3\n",
    "  )\n",
    "\n",
    "#plot the bar for the avg negative sentiment of the True news\n",
    "ax1.bar(width+distance ,\n",
    "                    np.mean(df_True_text['negative_Sentiment'].iloc[:3001]),\n",
    "                    yerr=bootstrap_std(df_True_text['negative_Sentiment'].iloc[:3001], 1000),\n",
    "                    width=width,\n",
    "                    label='True',\n",
    "                    color=color_True,\n",
    "                    linewidth=0.5,\n",
    "                    edgecolor='black',\n",
    "                    capsize=3\n",
    ")\n",
    "\n",
    "\n",
    "#remove x_axis ticks and set the title\n",
    "ax1.set_xticks([])\n",
    "ax1.set_title('Negative')\n",
    "\n",
    "\n",
    "\n",
    "#second plot: positive sentiments\n",
    "\n",
    "#plot the bar for the avg positive sentiments of the Fake news\n",
    "ax2.bar(0,\n",
    "                    np.mean(df_Fake_text['positive_Sentiment'].iloc[:3001]),\n",
    "                    yerr=bootstrap_std(df_Fake_text['positive_Sentiment'].iloc[:3001],1000),\n",
    "                    width=width,\n",
    "                    color=color_Fake,\n",
    "                    label='Fake',\n",
    "                    linewidth=1,\n",
    "                    edgecolor='black',\n",
    "                    capsize=3 )\n",
    "\n",
    "#plot the bar for the avg positive sentiments of the True news\n",
    "ax2.bar(width+distance,\n",
    "                    np.mean(df_True_text['positive_Sentiment'].iloc[:3001]),\n",
    "                    yerr=bootstrap_std(df_True_text['positive_Sentiment'].iloc[:3001],1000),\n",
    "                    width=width,\n",
    "                    color= color_True,\n",
    "                    label='True' , \n",
    "                    linewidth=1,\n",
    "                    edgecolor='black',\n",
    "                    capsize=3 )\n",
    "\n",
    "#remove x_axis ticks and set the title\n",
    "ax2.set_xticks([])\n",
    "ax2.set_title('Positive')\n",
    "\n",
    "\n",
    "\n",
    "#Third plot: neutral sentiments\n",
    "\n",
    "#plot the bar for the avg neutral sentiments of the Fake news\n",
    "ax3.bar(0,\n",
    "                    np.mean(df_Fake_text['neutral_Sentiment'].iloc[:3001]),\n",
    "                    yerr=bootstrap_std(df_Fake_text['neutral_Sentiment'].iloc[:3001],1000),\n",
    "                    width=width,\n",
    "                    color=color_Fake,\n",
    "                    label='Fake',\n",
    "                    linewidth=1,\n",
    "                    edgecolor='black',\n",
    "                    capsize=3 )\n",
    "\n",
    "#plot the bar for the avg neutral sentiments of the True news\n",
    "ax3.bar(width+distance,\n",
    "                    np.mean(df_True_text['neutral_Sentiment'].iloc[:3001]),\n",
    "                    yerr=bootstrap_std(df_True_text['neutral_Sentiment'].iloc[:3001],1000),\n",
    "                    width=width,\n",
    "                    color= color_True,\n",
    "                    label='True' , \n",
    "                    linewidth=1,\n",
    "                    edgecolor='black',\n",
    "                    capsize=3 )\n",
    "#remove x_axis ticks and set the title\n",
    "ax3.set_xticks([])\n",
    "ax3.set_title('Neutral')\n",
    "\n",
    "#add legend\n",
    "plt.legend(loc='center left', bbox_to_anchor=(1, 0.5))\n",
    "\n",
    "#set plot title\n",
    "fig.suptitle('avg Sentiments with coreNLP for 3000 news', y=0)\n",
    "\n",
    "plt.tight_layout()\n",
    "plt.show()"
   ]
  },
  {
   "cell_type": "markdown",
   "metadata": {},
   "source": [
    "As we can see from these plots, the Fake news have on average more negative sentiments and less positive sentiments than True news. The number of neutral sentiments is close for the two datasets, we will perform a statistical test to check if the diffrence is significant."
   ]
  },
  {
   "cell_type": "code",
   "execution_count": 15,
   "metadata": {},
   "outputs": [
    {
     "name": "stdout",
     "output_type": "stream",
     "text": [
      "normal test on neutral sentiments of Fake news: NormaltestResult(statistic=1466.3580418722927, pvalue=0.0)\n",
      "normal test on neutral sentiments of True news: NormaltestResult(statistic=4773.441281799178, pvalue=0.0)\n"
     ]
    }
   ],
   "source": [
    "print(\"normal test on neutral sentiments of Fake news:\",stats.normaltest(df_Fake_text['neutral_Sentiment'].iloc[:3001]))\n",
    "print(\"normal test on neutral sentiments of True news:\",stats.normaltest(df_True_text['neutral_Sentiment'].iloc[:3001]))"
   ]
  },
  {
   "cell_type": "markdown",
   "metadata": {},
   "source": [
    "Both normal tests gave zero p_values, thus the null hypothesis can be rejected. They both come from a normal distribution.  \n",
    "Now we will check if they have the same variance."
   ]
  },
  {
   "cell_type": "code",
   "execution_count": 16,
   "metadata": {},
   "outputs": [
    {
     "name": "stdout",
     "output_type": "stream",
     "text": [
      "variance test: LeveneResult(statistic=42.41117263972351, pvalue=7.997317294010308e-11)\n"
     ]
    }
   ],
   "source": [
    "print(\"variance test:\", levene(df_Fake_text['neutral_Sentiment'].iloc[:3001], df_True_text['neutral_Sentiment'].iloc[:3001] ))"
   ]
  },
  {
   "cell_type": "markdown",
   "metadata": {},
   "source": [
    "The levene test gave a significant p_value (<0.05), thus the two sets do not have equal variances.    \n",
    "Since we have two normal distributions with diffrent variances, we use a Welch's t-test."
   ]
  },
  {
   "cell_type": "code",
   "execution_count": 17,
   "metadata": {},
   "outputs": [
    {
     "name": "stdout",
     "output_type": "stream",
     "text": [
      "Welch's t-test: Ttest_indResult(statistic=1.4761405980153088, pvalue=0.1399625570406107)\n"
     ]
    }
   ],
   "source": [
    "print(\"Welch's t-test:\", stats.ttest_ind(df_Fake_text['neutral_Sentiment'].iloc[:3001], df_True_text['neutral_Sentiment'].iloc[:3001], equal_var = False))"
   ]
  },
  {
   "cell_type": "markdown",
   "metadata": {},
   "source": [
    "The Welch's t-test gave a large p_value (>0.05) thus we cannot reject the null hypothesis of identical average values."
   ]
  },
  {
   "cell_type": "markdown",
   "metadata": {},
   "source": [
    "#### Text Blob"
   ]
  },
  {
   "cell_type": "markdown",
   "metadata": {},
   "source": [
    "After some researches, we found that other methods exist to perform sentiment analysis. This alternative method is part of the TextBlob library that allows to compute the polarity of a text. This last, is much less time consuming, thus we were able to compute the polarity of the entire dataset. However note that while the Stanford analyser computes the number of sentiments (very negative, negative, neutral, positive, very positive) on each sentence, the TextBlob method computes the polarity on an entire text and returns a value in the interval [-1, 1] where values under zero represent negative sentiments, values above zero represent positive sentiments and zero is the neutral sentiment.  \n",
    "After computing the polarity of each news, we split the range [-1, 1] into 5 bins to get the sets of sentiments as we had with the Stanford coreNLP. We present here the number of news by sentiment category\n",
    "\n"
   ]
  },
  {
   "cell_type": "code",
   "execution_count": 18,
   "metadata": {},
   "outputs": [
    {
     "name": "stdout",
     "output_type": "stream",
     "text": [
      "the split of the range [-1,1] into 5 bins: [-1, -0.6, -0.19999999999999996, 0.20000000000000018, 0.6000000000000001]\n"
     ]
    }
   ],
   "source": [
    "print(\"the split of the range [-1,1] into 5 bins:\", [-1 , -1+0.4, -1+0.4*2 , -1+0.4*3, -1+0.4*4])"
   ]
  },
  {
   "cell_type": "code",
   "execution_count": 19,
   "metadata": {},
   "outputs": [
    {
     "data": {
      "image/png": "[encoded data removed]",
      "text/plain": [
       "<Figure size 720x216 with 4 Axes>"
      ]
     },
     "metadata": {
      "needs_background": "light"
     },
     "output_type": "display_data"
    }
   ],
   "source": [
    "#labels for the plots\n",
    "labels=['Fake ' , 'True']\n",
    "\n",
    "#colors\n",
    "color_Fake = 'white'\n",
    "color_True= 'deepskyblue'\n",
    "\n",
    "#distance between the two bars in the plot\n",
    "distance=0.3\n",
    "\n",
    "#width of the bar\n",
    "width = 0.45\n",
    "\n",
    "#create 4 subplots for the 4 graphs\n",
    "fig, (ax1, ax2, ax3, ax4) = plt.subplots(1, 4, figsize=(10 , 3))\n",
    "\n",
    "#we divide the polarity into bins to get the set of sentiments: \"very negative\": 1 , \"negative\":2  ,\"neutral\":3 , \"positive\":4, \n",
    "#\"very positive\":5 fro both True and Fake news\n",
    "True_polarity_sentiments = pd.cut(df_True_text['polarity'],\n",
    "                            bins=5,\n",
    "                            labels=[1, 2, 3, 4, 5])\n",
    "\n",
    "Fake_polarity_sentiments = pd.cut(df_Fake_text['polarity'],\n",
    "                            bins=5,\n",
    "                            labels=[1, 2, 3, 4, 5])\n",
    "\n",
    "\n",
    "#first plot: negative sentiments\n",
    "\n",
    "#plot the bar for the avg negative sentiments of the Fake news\n",
    "ax1.bar(0,\n",
    "                    len(df_Fake_text[df_Fake_text['polarity']<-1+0.4*2]),\n",
    "                    width=width,\n",
    "                    label='Fake',\n",
    "                    color=color_Fake,\n",
    "                    linewidth=0.5,\n",
    "                    edgecolor='black',\n",
    "                    capsize=3\n",
    "  )\n",
    "\n",
    "#plot the bar for the avg negative sentiment of the True news\n",
    "ax1.bar(width+distance ,\n",
    "                    len(df_True_text[df_True_text['polarity']<-1+0.4*2]),\n",
    "                    width=width,\n",
    "                    label='True',\n",
    "                    color=color_True,\n",
    "                    linewidth=0.5,\n",
    "                    edgecolor='black',\n",
    "                    capsize=3\n",
    ")\n",
    "\n",
    "\n",
    "#remove x_axis ticks and set the title\n",
    "ax1.set_xticks([])\n",
    "ax1.set_title('Negative')\n",
    "\n",
    "\n",
    "\n",
    "#second plot: positive sentiments\n",
    "\n",
    "#plot the bar for the avg positive sentiments of the Fake news\n",
    "ax2.bar(0,\n",
    "                    len(df_Fake_text[-1+0.4*3<df_Fake_text['polarity']]),\n",
    "                    width=width,\n",
    "                    color=color_Fake,\n",
    "                    label='Fake',\n",
    "                    linewidth=1,\n",
    "                    edgecolor='black',\n",
    "                    capsize=3 )\n",
    "\n",
    "#plot the bar for the avg positive sentiments of the True news\n",
    "ax2.bar(width+distance,\n",
    "                    len(df_True_text[-1+0.4*3<df_True_text['polarity']]),\n",
    "                    width=width,\n",
    "                    color= color_True,\n",
    "                    label='True' , \n",
    "                    linewidth=1,\n",
    "                    edgecolor='black',\n",
    "                    capsize=3 )\n",
    "\n",
    "#remove x_axis ticks and set the title\n",
    "ax2.set_xticks([])\n",
    "ax2.set_title('Positive')\n",
    "\n",
    "\n",
    "\n",
    "#Third plot: neutral sentiments\n",
    "\n",
    "#plot the bar for the avg neutral sentiments of the Fake news\n",
    "ax3.bar(0,\n",
    "                    len(df_Fake_text[(-1+0.4*2<=df_Fake_text['polarity'])  & (df_Fake_text['polarity']<=-1+0.4*3)]),\n",
    "                    width=width,\n",
    "                    color=color_Fake,\n",
    "                    label='Fake',\n",
    "                    linewidth=1,\n",
    "                    edgecolor='black',\n",
    "                    capsize=3 )\n",
    "\n",
    "#plot the bar for the avg neutral sentiments of the True news\n",
    "ax3.bar(width+distance,\n",
    "                    len(df_True_text[(-1+0.4*2<=df_True_text['polarity'])  & (df_True_text['polarity']<=-1+0.4*3)]),\n",
    "                    width=width,\n",
    "                    color= color_True,\n",
    "                    label='True' , \n",
    "                    linewidth=1,\n",
    "                    edgecolor='black',\n",
    "                    capsize=3 )\n",
    "#remove x_axis ticks and set the title\n",
    "ax3.set_xticks([])\n",
    "ax3.set_title('Neutral')\n",
    "\n",
    "\n",
    "#Third plot: non neutral sentiments (positive + negative)\n",
    "\n",
    "#plot the bar for the avg non neutral sentiments of the Fake news\n",
    "ax4.bar(0,\n",
    "                    len(df_Fake_text[(-1+0.4*2>df_Fake_text['polarity'])  | (df_Fake_text['polarity']>-1+0.4*3)]),\n",
    "                    width=width,\n",
    "                    color=color_Fake,\n",
    "                    label='Fake',\n",
    "                    linewidth=1,\n",
    "                    edgecolor='black',\n",
    "                    capsize=3 )\n",
    "\n",
    "#plot the bar for the avg non neutral sentiments of the True news\n",
    "ax4.bar(width+distance,\n",
    "                    len(df_True_text[(-1+0.4*2>df_True_text['polarity'])  | (df_True_text['polarity']>-1+0.4*3)]),\n",
    "                    width=width,\n",
    "                    color= color_True,\n",
    "                    label='True' , \n",
    "                    linewidth=1,\n",
    "                    edgecolor='black',\n",
    "                    capsize=3 )\n",
    "#remove x_axis ticks and set the title\n",
    "ax4.set_xticks([])\n",
    "ax4.set_title('non Neutral')\n",
    "\n",
    "\n",
    "#add legend\n",
    "plt.legend(loc='center left', bbox_to_anchor=(1, 0.5))\n",
    "\n",
    "#set plot title\n",
    "fig.suptitle('number of news by sentiment category using Textblob polarity', y=0)\n",
    "\n",
    "plt.tight_layout()\n",
    "plt.show()"
   ]
  },
  {
   "cell_type": "markdown",
   "metadata": {},
   "source": [
    "There are more positive and negative news (considering overall sentiment of the news, the polarity!) among the Fake news then among the True news. The fourth plot confirms that the Fake news are more sentimental than the True news that tend to be more neutral."
   ]
  },
  {
   "cell_type": "markdown",
   "metadata": {},
   "source": [
    "Here we plot the average sentiments computed with the Stanford coreNLP and the average polarity computed with the TextBlob."
   ]
  },
  {
   "cell_type": "code",
   "execution_count": 20,
   "metadata": {},
   "outputs": [
    {
     "data": {
      "image/png": "[encoded data removed]",
      "text/plain": [
       "<Figure size 576x216 with 2 Axes>"
      ]
     },
     "metadata": {
      "needs_background": "light"
     },
     "output_type": "display_data"
    }
   ],
   "source": [
    "#labels for the plots\n",
    "labels=['Fake ' , 'True']\n",
    "\n",
    "#colors\n",
    "color_Fake = 'white'\n",
    "color_True= 'deepskyblue'\n",
    "\n",
    "#distance between the two bars in the plot\n",
    "distance=0.3\n",
    "\n",
    "#width of the bar\n",
    "width = 0.45\n",
    "\n",
    "#create 2 subplots for the 2 graphs\n",
    "fig, (ax1, ax2) = plt.subplots(1, 2, figsize=(8 , 3))\n",
    "\n",
    "#first plot: avg sentiment\n",
    "\n",
    "#plot the bar for the avg sentiment of the Fake news\n",
    "ax1.bar(0,\n",
    "                    np.mean(df_Fake_text['avg_sentiment']),\n",
    "                    yerr=bootstrap_std(df_Fake_text['avg_sentiment'], 1000),\n",
    "                    width=width,\n",
    "                    label='Fake',\n",
    "                    color=color_Fake,\n",
    "                    linewidth=0.5,\n",
    "                    edgecolor='black',\n",
    "                    capsize=3\n",
    "  )\n",
    "\n",
    "#plot the bar for the avg sentiment of the True news\n",
    "ax1.bar(width+distance ,\n",
    "                    np.mean(df_True_text['avg_sentiment']),\n",
    "                    yerr=bootstrap_std(df_True_text['avg_sentiment'], 1000),\n",
    "                    width=width,\n",
    "                    label='True',\n",
    "                    color=color_True,\n",
    "                    linewidth=0.5,\n",
    "                    edgecolor='black',\n",
    "                    capsize=3\n",
    ")\n",
    "\n",
    "\n",
    "#remove x_axis ticks and set the title\n",
    "ax1.set_xticks([])\n",
    "ax1.set_title('avg nb of sentiments with coreNLP')\n",
    "\n",
    "\n",
    "\n",
    "#second plot: avg polarity \n",
    "\n",
    "#plot the bar for the avg polarity of the Fake news\n",
    "ax2.bar(0,\n",
    "                    np.mean(df_Fake_text['polarity']),\n",
    "                    yerr=bootstrap_std(df_Fake_text['polarity'],1000),\n",
    "                    width=width,\n",
    "                    color=color_Fake,\n",
    "                    label='Fake',\n",
    "                    linewidth=1,\n",
    "                    edgecolor='black',\n",
    "                    capsize=3 )\n",
    "\n",
    "#plot the bar for the avg polarity of the True news\n",
    "ax2.bar(width+distance,\n",
    "                    np.mean(df_True_text['polarity']),\n",
    "                    yerr=bootstrap_std(df_True_text['polarity'],1000),\n",
    "                    width=width,\n",
    "                    color= color_True,\n",
    "                    label='True' , \n",
    "                    linewidth=1,\n",
    "                    edgecolor='black',\n",
    "                    capsize=3 )\n",
    "\n",
    "#remove x_axis ticks and set the title\n",
    "ax2.set_xticks([])\n",
    "ax2.set_title('polarity')\n",
    "\n",
    "\n",
    "\n",
    "\n",
    "#add legend\n",
    "plt.legend(loc='center left', bbox_to_anchor=(1, 0.5))\n",
    "\n",
    "#set plot title\n",
    "\n",
    "fig.suptitle('nb of sentiments with coreNLP vs polarity', y=0)\n",
    "\n",
    "plt.tight_layout()\n",
    "plt.show()"
   ]
  },
  {
   "cell_type": "markdown",
   "metadata": {},
   "source": [
    "From the plot on the left, we can see that on average the True news have more positive sentiments than the Fake news, when we work with the coreNLP sentiment analyzer over the 3000 samples. The plot on the right shows that the on average the Fake news are more positive than the True news."
   ]
  },
  {
   "cell_type": "markdown",
   "metadata": {},
   "source": [
    "### Talkativeness Plots"
   ]
  },
  {
   "cell_type": "code",
   "execution_count": 21,
   "metadata": {},
   "outputs": [
    {
     "data": {
      "image/png": "[encoded data removed]",
      "text/plain": [
       "<Figure size 432x216 with 2 Axes>"
      ]
     },
     "metadata": {
      "needs_background": "light"
     },
     "output_type": "display_data"
    }
   ],
   "source": [
    "#first plot: nb words\n",
    "\n",
    "#create two subplots for the two graphs\n",
    "fig, (ax1, ax2) = plt.subplots(1, 2, figsize=(6 , 3))\n",
    "\n",
    "#plot the bar for the avg nb of words of the Fake news\n",
    "ax1.bar(0,\n",
    "                    np.mean(df_Fake_text['nb_words']),\n",
    "                    yerr=bootstrap_std(df_Fake_text['nb_words'], 1000),\n",
    "                    width=width,\n",
    "                    label='Fake',\n",
    "                    color=color_Fake,\n",
    "                    linewidth=0.5,\n",
    "                    edgecolor='black',\n",
    "                    capsize=3\n",
    "  )\n",
    "\n",
    "#plot the bar for the avg nb of words of the True news\n",
    "ax1.bar(width + distance,\n",
    "                    np.mean(df_True_text['nb_words']),\n",
    "                    yerr=bootstrap_std(df_True_text['nb_words'], 1000),\n",
    "                    width=width,\n",
    "                    label='True',\n",
    "                    color=color_True,\n",
    "                    linewidth=0.5,\n",
    "                    edgecolor='black',\n",
    "                    capsize=3\n",
    ")\n",
    "\n",
    "\n",
    "#remove x_axis ticks and set title\n",
    "ax1.set_xticks([])\n",
    "ax1.set_title('nb words')\n",
    "\n",
    "\n",
    "\n",
    "#second plot: nb sentences\n",
    "\n",
    "#plot the bar for the avg nb of sentences of the Fake news\n",
    "ax2.bar(0,\n",
    "                    np.mean(df_Fake_text['nb_sentences']),\n",
    "                    yerr=bootstrap_std(df_Fake_text['nb_sentences'],1000),\n",
    "                    width=width,\n",
    "                    color=color_Fake,\n",
    "                    label='Fake',\n",
    "                    linewidth=1,\n",
    "                    edgecolor='black',\n",
    "                    capsize=3 )\n",
    "\n",
    "#plot the bar for the avg nb of sentences of the True news\n",
    "ax2.bar(width+ distance,\n",
    "                    np.mean(df_True_text['nb_sentences']),\n",
    "                    yerr=bootstrap_std(df_True_text['nb_sentences'],1000),\n",
    "                    width=width,\n",
    "                    color= color_True,\n",
    "                    label='True' , \n",
    "                    linewidth=1,\n",
    "                    edgecolor='black',\n",
    "                    capsize=3 )\n",
    "\n",
    "#remove x_axis ticks and set title\n",
    "ax2.set_xticks([])\n",
    "ax2.set_title('nb sentences')\n",
    "\n",
    "#add legend\n",
    "plt.legend(loc='center left', bbox_to_anchor=(1, 0.5))\n",
    "\n",
    "#set plot title\n",
    "fig.suptitle('Talkativeness', y=0)\n",
    "\n",
    "plt.tight_layout()\n",
    "plt.show()"
   ]
  },
  {
   "cell_type": "markdown",
   "metadata": {},
   "source": [
    "There is a significant diffrence in the average number of words between the two sets, with the Fake news have a higher value on average. However, for the number of sentences, we can see from the plot that the average values are very close. To check if the diffrence is significant we perform a t-test"
   ]
  },
  {
   "cell_type": "code",
   "execution_count": 22,
   "metadata": {},
   "outputs": [
    {
     "name": "stdout",
     "output_type": "stream",
     "text": [
      "normal test on nb_sentences of Fake news: NormaltestResult(statistic=21843.577867833174, pvalue=0.0)\n",
      "normal test on nb_sentences of True news: NormaltestResult(statistic=13989.994437538517, pvalue=0.0)\n"
     ]
    }
   ],
   "source": [
    "print(\"normal test on nb_sentences of Fake news:\",stats.normaltest(df_Fake_text['nb_sentences']))\n",
    "print(\"normal test on nb_sentences of True news:\",stats.normaltest(df_True_text['nb_sentences']))"
   ]
  },
  {
   "cell_type": "markdown",
   "metadata": {},
   "source": [
    "Both normal tests gave zero p_values, thus the null hypothesis can be rejected. They both come from a normal distribution.\n",
    "Now we will check if they have the same variance."
   ]
  },
  {
   "cell_type": "code",
   "execution_count": 23,
   "metadata": {},
   "outputs": [
    {
     "name": "stdout",
     "output_type": "stream",
     "text": [
      "variance test: LeveneResult(statistic=212.60516870239596, pvalue=4.840847311391434e-48)\n"
     ]
    }
   ],
   "source": [
    "print(\"variance test:\", levene(df_Fake_text['nb_sentences'], df_True_text['nb_sentences'] ))"
   ]
  },
  {
   "cell_type": "markdown",
   "metadata": {},
   "source": [
    "The levene test gave a significant p_value (<0.05), thus the two sets do not have equal variances.\n",
    "Since we have two normal distributions with diffrent variances, we use a Welch's t-test."
   ]
  },
  {
   "cell_type": "code",
   "execution_count": 24,
   "metadata": {},
   "outputs": [
    {
     "name": "stdout",
     "output_type": "stream",
     "text": [
      "Welch's t-test: Ttest_indResult(statistic=-2.1218912456953176, pvalue=0.03385260504290328)\n"
     ]
    }
   ],
   "source": [
    "print(\"Welch's t-test:\", stats.ttest_ind(df_Fake_text['nb_sentences'], df_True_text['nb_sentences'], equal_var = False))"
   ]
  },
  {
   "cell_type": "markdown",
   "metadata": {},
   "source": [
    "The Welch's t-test resulted in a significant p_value(<0.05), then we reject the null hypothesis of equal averages. The diffrence in the number of sentences is significant with the True news having more sentences than the Fake ones."
   ]
  },
  {
   "cell_type": "markdown",
   "metadata": {},
   "source": [
    "### Politeness plots"
   ]
  },
  {
   "cell_type": "code",
   "execution_count": 25,
   "metadata": {},
   "outputs": [
    {
     "data": {
      "image/png": "[encoded data removed]",
      "text/plain": [
       "<Figure size 288x216 with 1 Axes>"
      ]
     },
     "metadata": {
      "needs_background": "light"
     },
     "output_type": "display_data"
    }
   ],
   "source": [
    "#plot: politeness\n",
    "\n",
    "#create one subplot\n",
    "fig, ax1 = plt.subplots(1, 1, figsize=(4 , 3))\n",
    "\n",
    "#plot the bar for the avg politeness of the Fake news\n",
    "ax1.bar(0,\n",
    "                    np.mean(df_Fake_text['politeness']),\n",
    "                    yerr=bootstrap_std(df_Fake_text['politeness'], 1000),\n",
    "                    width=width,\n",
    "                    label='Fake',\n",
    "                    color=color_Fake,\n",
    "                    linewidth=0.5,\n",
    "                    edgecolor='black',\n",
    "                    capsize=3\n",
    "  )\n",
    "\n",
    "#plot the bar for the avg politeness of the True news\n",
    "ax1.bar(width + distance,\n",
    "                    np.mean(df_True_text['politeness']),\n",
    "                    yerr=bootstrap_std(df_True_text['politeness'], 1000),\n",
    "                    width=width,\n",
    "                    label='True',\n",
    "                    color=color_True,\n",
    "                    linewidth=0.5,\n",
    "                    edgecolor='black',\n",
    "                    capsize=3\n",
    ")\n",
    "\n",
    "\n",
    "#remove x_axis ticks \n",
    "ax1.set_xticks([])\n",
    "\n",
    "\n",
    "#add legend\n",
    "plt.legend(loc='center left', bbox_to_anchor=(1, 0.5))\n",
    "\n",
    "#set plot title\n",
    "fig.suptitle('avg Politeness', y=0)\n",
    "\n",
    "plt.tight_layout()\n",
    "plt.show()"
   ]
  },
  {
   "cell_type": "markdown",
   "metadata": {},
   "source": [
    "The two types of news seem to have the same average politeness. To check the significance of the diffrence we will perform a t-test."
   ]
  },
  {
   "cell_type": "code",
   "execution_count": 26,
   "metadata": {},
   "outputs": [
    {
     "name": "stdout",
     "output_type": "stream",
     "text": [
      "normal test on the politeness of Fake news: NormaltestResult(statistic=3699.5459991581783, pvalue=0.0)\n",
      "normal test on the politeness of True news: NormaltestResult(statistic=2976.1615525275147, pvalue=0.0)\n"
     ]
    }
   ],
   "source": [
    "print(\"normal test on the politeness of Fake news:\",stats.normaltest(df_Fake_text['politeness']))\n",
    "print(\"normal test on the politeness of True news:\",stats.normaltest(df_True_text['politeness']))"
   ]
  },
  {
   "cell_type": "markdown",
   "metadata": {},
   "source": [
    "Both normal tests gave zero p_values, thus the null hypothesis can be rejected. They both come from a normal distribution. Now we will check if they have the same variance."
   ]
  },
  {
   "cell_type": "code",
   "execution_count": 27,
   "metadata": {},
   "outputs": [
    {
     "name": "stdout",
     "output_type": "stream",
     "text": [
      "variance test: LeveneResult(statistic=246.66957414354937, pvalue=1.9751524271839856e-55)\n"
     ]
    }
   ],
   "source": [
    "print(\"variance test:\", levene(df_Fake_text['politeness'], df_True_text['politeness'] ))"
   ]
  },
  {
   "cell_type": "markdown",
   "metadata": {},
   "source": [
    "The levene test gave a significant p_value (<0.05), thus the two sets do not have equal variances. Since we have two normal distributions with diffrent variances, we use a Welch's t-test."
   ]
  },
  {
   "cell_type": "code",
   "execution_count": 28,
   "metadata": {},
   "outputs": [
    {
     "name": "stdout",
     "output_type": "stream",
     "text": [
      "Welch's t-test: Ttest_indResult(statistic=-39.50721584180166, pvalue=0.0)\n"
     ]
    }
   ],
   "source": [
    "print(\"Welch's t-test:\", stats.ttest_ind(df_Fake_text['politeness'], df_True_text['politeness'], equal_var = False))"
   ]
  },
  {
   "cell_type": "markdown",
   "metadata": {},
   "source": [
    "The Welch's t-test resulted in a significant p_value(<0.05), then we reject the null hypothesis of equal averages. The diffrence in the politeness is significant with the True news being more polite than the Fake ones."
   ]
  },
  {
   "cell_type": "markdown",
   "metadata": {},
   "source": [
    "To better visualize the subjectivity, we plot here the its distribution over the two sets."
   ]
  },
  {
   "cell_type": "code",
   "execution_count": 29,
   "metadata": {},
   "outputs": [
    {
     "data": {
      "text/plain": [
       "Text(0.5, 0, 'distribution of politeness over the two sets of news')"
      ]
     },
     "execution_count": 29,
     "metadata": {},
     "output_type": "execute_result"
    },
    {
     "data": {
      "image/png": "[encoded data removed]",
      "text/plain": [
       "<Figure size 720x360 with 1 Axes>"
      ]
     },
     "metadata": {
      "needs_background": "light"
     },
     "output_type": "display_data"
    }
   ],
   "source": [
    "#plot the distribution of politeness over the two sets of news\n",
    "fig, ax1 = plt.subplots(1, figsize=(10 , 5))\n",
    "ax1 =sns.distplot(df_Fake_text['politeness'])\n",
    "ax1= sns.distplot(df_True_text['politeness'])\n",
    "fig.suptitle(\"distribution of politeness over the two sets of news\", y=0)"
   ]
  },
  {
   "cell_type": "markdown",
   "metadata": {},
   "source": [
    "### Premises and conclusions plots"
   ]
  },
  {
   "cell_type": "code",
   "execution_count": 30,
   "metadata": {},
   "outputs": [
    {
     "data": {
      "image/png": "[encoded data removed]",
      "text/plain": [
       "<Figure size 288x216 with 1 Axes>"
      ]
     },
     "metadata": {
      "needs_background": "light"
     },
     "output_type": "display_data"
    }
   ],
   "source": [
    "#plot: premises and conclusions\n",
    "\n",
    "#create one subplot\n",
    "fig, ax1 = plt.subplots(1, 1, figsize=(4 , 3))\n",
    "\n",
    "#plot the bar for the avg premises and conclusions of the Fake news\n",
    "ax1.bar(0,\n",
    "                    np.mean(df_Fake_text['premises_conclusions']),\n",
    "                    yerr=bootstrap_std(df_Fake_text['premises_conclusions'], 1000),\n",
    "                    width=width,\n",
    "                    label='Fake',\n",
    "                    color=color_Fake,\n",
    "                    linewidth=0.5,\n",
    "                    edgecolor='black',\n",
    "                    capsize=3\n",
    "  )\n",
    "\n",
    "#plot the bar for the avg premises and conclusions of the True news\n",
    "ax1.bar(width + distance,\n",
    "                    np.mean(df_True_text['premises_conclusions']),\n",
    "                    yerr=bootstrap_std(df_True_text['premises_conclusions'], 1000),\n",
    "                    width=width,\n",
    "                    label='True',\n",
    "                    color=color_True,\n",
    "                    linewidth=0.5,\n",
    "                    edgecolor='black',\n",
    "                    capsize=3\n",
    ")\n",
    "\n",
    "\n",
    "#remove x_axis ticks \n",
    "ax1.set_xticks([])\n",
    "\n",
    "\n",
    "#add legend\n",
    "plt.legend(loc='center left', bbox_to_anchor=(1, 0.5))\n",
    "\n",
    "#set plot title\n",
    "fig.suptitle('avg premises and conclusions', y=0)\n",
    "\n",
    "plt.tight_layout()\n",
    "plt.show()"
   ]
  },
  {
   "cell_type": "markdown",
   "metadata": {},
   "source": [
    "The two types of news have on average the same number of premises and conclusions. We perform a statitical test to check if the diffrence is significant."
   ]
  },
  {
   "cell_type": "code",
   "execution_count": 31,
   "metadata": {},
   "outputs": [
    {
     "name": "stdout",
     "output_type": "stream",
     "text": [
      "normal test on the premises and conclusions of Fake news: NormaltestResult(statistic=27775.053000913264, pvalue=0.0)\n",
      "normal test on the premises and conclusions of True news: NormaltestResult(statistic=8669.742490914217, pvalue=0.0)\n"
     ]
    }
   ],
   "source": [
    "print(\"normal test on the premises and conclusions of Fake news:\",stats.normaltest(df_Fake_text['premises_conclusions']))\n",
    "print(\"normal test on the premises and conclusions of True news:\",stats.normaltest(df_True_text['premises_conclusions']))"
   ]
  },
  {
   "cell_type": "markdown",
   "metadata": {},
   "source": [
    "Both normal tests gave zero p_values, thus the null hypothesis can be rejected. They both come from a normal distribution. Now we will check if they have the same variance."
   ]
  },
  {
   "cell_type": "code",
   "execution_count": 32,
   "metadata": {},
   "outputs": [
    {
     "name": "stdout",
     "output_type": "stream",
     "text": [
      "variance test: LeveneResult(statistic=168.4026639741178, pvalue=1.9529330929375062e-38)\n"
     ]
    }
   ],
   "source": [
    "print(\"variance test:\", levene(df_Fake_text['premises_conclusions'], df_True_text['premises_conclusions'] ))"
   ]
  },
  {
   "cell_type": "markdown",
   "metadata": {},
   "source": [
    "The levene test gave a significant p_value (<0.05), thus the two sets do not have equal variances. Since we have two normal distributions with diffrent variances, we use a Welch's t-test."
   ]
  },
  {
   "cell_type": "code",
   "execution_count": 33,
   "metadata": {},
   "outputs": [
    {
     "name": "stdout",
     "output_type": "stream",
     "text": [
      "Welch's t-test: Ttest_indResult(statistic=1.1030311898883463, pvalue=0.2700199201752161)\n"
     ]
    }
   ],
   "source": [
    "print(\"Welch's t-test:\", stats.ttest_ind(df_Fake_text['premises_conclusions'], df_True_text['premises_conclusions'], equal_var = False))"
   ]
  },
  {
   "cell_type": "markdown",
   "metadata": {},
   "source": [
    "The Welch's t-test resulted in a large p_value(>0.05), then we cannot reject the null hypothesis of equal averages."
   ]
  },
  {
   "cell_type": "markdown",
   "metadata": {},
   "source": [
    "### Subjectivity plots"
   ]
  },
  {
   "cell_type": "code",
   "execution_count": 34,
   "metadata": {},
   "outputs": [
    {
     "data": {
      "image/png": "[encoded data removed]",
      "text/plain": [
       "<Figure size 288x216 with 1 Axes>"
      ]
     },
     "metadata": {
      "needs_background": "light"
     },
     "output_type": "display_data"
    }
   ],
   "source": [
    "#plot: subjectivity\n",
    "\n",
    "#create one subplot\n",
    "fig, ax1 = plt.subplots(1, 1, figsize=(4 , 3))\n",
    "\n",
    "#plot the bar for the avg subjectivity of the Fake news\n",
    "ax1.bar(0,\n",
    "                    np.mean(df_Fake_text['subjectivity']),\n",
    "                    yerr=bootstrap_std(df_Fake_text['subjectivity'], 1000),\n",
    "                    width=width,\n",
    "                    label='Fake',\n",
    "                    color=color_Fake,\n",
    "                    linewidth=0.5,\n",
    "                    edgecolor='black',\n",
    "                    capsize=3\n",
    "  )\n",
    "\n",
    "#plot the bar for the avg subjectivity of the True news\n",
    "ax1.bar(width + distance,\n",
    "                    np.mean(df_True_text['subjectivity']),\n",
    "                    yerr=bootstrap_std(df_True_text['subjectivity'], 1000),\n",
    "                    width=width,\n",
    "                    label='True',\n",
    "                    color=color_True,\n",
    "                    linewidth=0.5,\n",
    "                    edgecolor='black',\n",
    "                    capsize=3\n",
    ")\n",
    "\n",
    "\n",
    "#remove x_axis ticks \n",
    "ax1.set_xticks([])\n",
    "\n",
    "\n",
    "#add legend\n",
    "plt.legend(loc='center left', bbox_to_anchor=(1, 0.5))\n",
    "\n",
    "#set plot title\n",
    "fig.suptitle('avg subjectivity', y=0)\n",
    "\n",
    "plt.tight_layout()\n",
    "plt.show()"
   ]
  },
  {
   "cell_type": "markdown",
   "metadata": {},
   "source": [
    "The Fake news are on avergae more subejctive than the True news. \n",
    "This feature can be useful for detecting Fake news."
   ]
  },
  {
   "cell_type": "markdown",
   "metadata": {},
   "source": [
    "### Expansion, contingency and comparison plots "
   ]
  },
  {
   "cell_type": "code",
   "execution_count": 35,
   "metadata": {},
   "outputs": [
    {
     "data": {
      "image/png": "[encoded data removed]",
      "text/plain": [
       "<Figure size 576x216 with 3 Axes>"
      ]
     },
     "metadata": {
      "needs_background": "light"
     },
     "output_type": "display_data"
    }
   ],
   "source": [
    "#labels for the plots\n",
    "labels=['Fake ' , 'True']\n",
    "\n",
    "#colors\n",
    "color_Fake = 'white'\n",
    "color_True= 'deepskyblue'\n",
    "\n",
    "#distance between the two bars in the plot\n",
    "distance=0.3\n",
    "\n",
    "#width of the bar\n",
    "width = 0.45\n",
    "\n",
    "#create 3 subplots for the 3 graphs\n",
    "fig, (ax1, ax2, ax3) = plt.subplots(1, 3, figsize=(8 , 3))\n",
    "\n",
    "#first plot: discourse expansion \n",
    "\n",
    "#plot the bar for the avg discourse expansion of the Fake news\n",
    "ax1.bar(0,\n",
    "                    np.mean(df_Fake_text['expansion']),\n",
    "                    yerr=bootstrap_std(df_Fake_text['expansion'], 1000),\n",
    "                    width=width,\n",
    "                    label='Fake',\n",
    "                    color=color_Fake,\n",
    "                    linewidth=0.5,\n",
    "                    edgecolor='black',\n",
    "                    capsize=3\n",
    "  )\n",
    "\n",
    "#plot the bar for the avg discourse expansion of the True news\n",
    "ax1.bar(width+distance ,\n",
    "                    np.mean(df_True_text['expansion']),\n",
    "                    yerr=bootstrap_std(df_True_text['expansion'], 1000),\n",
    "                    width=width,\n",
    "                    label='True',\n",
    "                    color=color_True,\n",
    "                    linewidth=0.5,\n",
    "                    edgecolor='black',\n",
    "                    capsize=3\n",
    ")\n",
    "\n",
    "\n",
    "#remove x_axis ticks and set the title\n",
    "ax1.set_xticks([])\n",
    "ax1.set_title('expansion')\n",
    "\n",
    "\n",
    "\n",
    "#second plot: discourse contingency\n",
    "\n",
    "#plot the bar for the avg discourse contingency of the Fake news\n",
    "ax2.bar(0,\n",
    "                    np.mean(df_Fake_text['contingency']),\n",
    "                    yerr=bootstrap_std(df_Fake_text['contingency'],1000),\n",
    "                    width=width,\n",
    "                    color=color_Fake,\n",
    "                    label='Fake',\n",
    "                    linewidth=1,\n",
    "                    edgecolor='black',\n",
    "                    capsize=3 )\n",
    "\n",
    "#plot the bar for the avg discourse contingency of the True news\n",
    "ax2.bar(width+distance,\n",
    "                    np.mean(df_True_text['contingency']),\n",
    "                    yerr=bootstrap_std(df_True_text['contingency'],1000),\n",
    "                    width=width,\n",
    "                    color= color_True,\n",
    "                    label='True' , \n",
    "                    linewidth=1,\n",
    "                    edgecolor='black',\n",
    "                    capsize=3 )\n",
    "\n",
    "#remove x_axis ticks and set the title\n",
    "ax2.set_xticks([])\n",
    "ax2.set_title('contingency')\n",
    "\n",
    "\n",
    "\n",
    "#Third plot: discourse comparison\n",
    "\n",
    "#plot the bar for the avg discourse comparison of the Fake news\n",
    "ax3.bar(0,\n",
    "                    np.mean(df_Fake_text['comparaison']),\n",
    "                    yerr=bootstrap_std(df_Fake_text['comparaison'],1000),\n",
    "                    width=width,\n",
    "                    color=color_Fake,\n",
    "                    label='Fake',\n",
    "                    linewidth=1,\n",
    "                    edgecolor='black',\n",
    "                    capsize=3 )\n",
    "\n",
    "#plot the bar for the avg discourse comparison of the True news\n",
    "ax3.bar(width+distance,\n",
    "                    np.mean(df_True_text['comparaison']),\n",
    "                    yerr=bootstrap_std(df_True_text['comparaison'],1000),\n",
    "                    width=width,\n",
    "                    color= color_True,\n",
    "                    label='True' , \n",
    "                    linewidth=1,\n",
    "                    edgecolor='black',\n",
    "                    capsize=3 )\n",
    "#remove x_axis ticks and set the title\n",
    "ax3.set_xticks([])\n",
    "ax3.set_title('comparison')\n",
    "\n",
    "#add legend\n",
    "plt.legend(loc='center left', bbox_to_anchor=(1, 0.5))\n",
    "\n",
    "#set plot title\n",
    "fig.suptitle('discourse markers', y=0)\n",
    "#plt.title('avg Sentiments', x=0, y=0)\n",
    "plt.tight_layout()\n",
    "plt.show()"
   ]
  },
  {
   "cell_type": "markdown",
   "metadata": {},
   "source": [
    "On avergae contain more expansion, contingency and comparison discourse connectors than the True news. This shows that True news are less eloquant than Fake news."
   ]
  },
  {
   "cell_type": "markdown",
   "metadata": {},
   "source": [
    "Now that we analysed the features, we will run a classification model using them as input and check the performance."
   ]
  },
  {
   "cell_type": "markdown",
   "metadata": {},
   "source": [
    "## Classification with MLP (Multi-Layer Perceptron)"
   ]
  },
  {
   "cell_type": "markdown",
   "metadata": {},
   "source": [
    "In this section, we want to classify the fake and True news using the features we have collected. \n",
    "The objective here is to verify if the \"Linguistic harbringers of betrayal\" model generalizes to other datasets.\n",
    "We only retain the features that have been computed for all the dataset and that have been used by the author for homogenity. We thus remove the following features: \n",
    "* text\n",
    "* parses\n",
    "* tot_sentiments\n",
    "* average_sentiment\n",
    "* positive_Sentiment\n",
    "* negative_Sentiment\n",
    "* neutral_Sentiment"
   ]
  },
  {
   "cell_type": "code",
   "execution_count": 36,
   "metadata": {},
   "outputs": [
    {
     "data": {
      "text/html": [
       "<div>\n",
       "<style scoped>\n",
       "    .dataframe tbody tr th:only-of-type {\n",
       "        vertical-align: middle;\n",
       "    }\n",
       "\n",
       "    .dataframe tbody tr th {\n",
       "        vertical-align: top;\n",
       "    }\n",
       "\n",
       "    .dataframe thead th {\n",
       "        text-align: right;\n",
       "    }\n",
       "</style>\n",
       "<table border=\"1\" class=\"dataframe\">\n",
       "  <thead>\n",
       "    <tr style=\"text-align: right;\">\n",
       "      <th></th>\n",
       "      <th>nb_sentences</th>\n",
       "      <th>nb_words</th>\n",
       "      <th>politeness</th>\n",
       "      <th>premises_conclusions</th>\n",
       "      <th>subjectivity</th>\n",
       "      <th>polarity</th>\n",
       "      <th>comparaison</th>\n",
       "      <th>contingency</th>\n",
       "      <th>expansion</th>\n",
       "      <th>label</th>\n",
       "    </tr>\n",
       "  </thead>\n",
       "  <tbody>\n",
       "    <tr>\n",
       "      <th>15151</th>\n",
       "      <td>14.0</td>\n",
       "      <td>507.0</td>\n",
       "      <td>0.491815</td>\n",
       "      <td>27</td>\n",
       "      <td>0.496941</td>\n",
       "      <td>0.059933</td>\n",
       "      <td>11</td>\n",
       "      <td>25</td>\n",
       "      <td>62</td>\n",
       "      <td>0.0</td>\n",
       "    </tr>\n",
       "    <tr>\n",
       "      <th>17184</th>\n",
       "      <td>10.0</td>\n",
       "      <td>246.0</td>\n",
       "      <td>0.453200</td>\n",
       "      <td>15</td>\n",
       "      <td>0.433654</td>\n",
       "      <td>0.112843</td>\n",
       "      <td>6</td>\n",
       "      <td>12</td>\n",
       "      <td>34</td>\n",
       "      <td>0.0</td>\n",
       "    </tr>\n",
       "    <tr>\n",
       "      <th>19245</th>\n",
       "      <td>36.0</td>\n",
       "      <td>857.0</td>\n",
       "      <td>0.463926</td>\n",
       "      <td>37</td>\n",
       "      <td>0.389757</td>\n",
       "      <td>-0.012535</td>\n",
       "      <td>21</td>\n",
       "      <td>44</td>\n",
       "      <td>119</td>\n",
       "      <td>1.0</td>\n",
       "    </tr>\n",
       "    <tr>\n",
       "      <th>15651</th>\n",
       "      <td>25.0</td>\n",
       "      <td>625.0</td>\n",
       "      <td>0.467116</td>\n",
       "      <td>42</td>\n",
       "      <td>0.473980</td>\n",
       "      <td>0.119983</td>\n",
       "      <td>15</td>\n",
       "      <td>38</td>\n",
       "      <td>87</td>\n",
       "      <td>1.0</td>\n",
       "    </tr>\n",
       "    <tr>\n",
       "      <th>7243</th>\n",
       "      <td>17.0</td>\n",
       "      <td>506.0</td>\n",
       "      <td>0.488818</td>\n",
       "      <td>46</td>\n",
       "      <td>0.508408</td>\n",
       "      <td>0.166389</td>\n",
       "      <td>10</td>\n",
       "      <td>20</td>\n",
       "      <td>60</td>\n",
       "      <td>1.0</td>\n",
       "    </tr>\n",
       "  </tbody>\n",
       "</table>\n",
       "</div>"
      ],
      "text/plain": [
       "       nb_sentences  nb_words  politeness  premises_conclusions  subjectivity  \\\n",
       "15151          14.0     507.0    0.491815                    27      0.496941   \n",
       "17184          10.0     246.0    0.453200                    15      0.433654   \n",
       "19245          36.0     857.0    0.463926                    37      0.389757   \n",
       "15651          25.0     625.0    0.467116                    42      0.473980   \n",
       "7243           17.0     506.0    0.488818                    46      0.508408   \n",
       "\n",
       "       polarity  comparaison  contingency  expansion  label  \n",
       "15151  0.059933           11           25         62    0.0  \n",
       "17184  0.112843            6           12         34    0.0  \n",
       "19245 -0.012535           21           44        119    1.0  \n",
       "15651  0.119983           15           38         87    1.0  \n",
       "7243   0.166389           10           20         60    1.0  "
      ]
     },
     "execution_count": 36,
     "metadata": {},
     "output_type": "execute_result"
    }
   ],
   "source": [
    "# We add the labels for the True News that we set to one\n",
    "df_True_text[\"label\"] = np.ones(len(df_True_text))\n",
    "\n",
    "# We add the labels for the Fake News that we set to zero\n",
    "df_Fake_text[\"label\"] = np.zeros(len(df_Fake_text))\n",
    "\n",
    "# We create a full dataset and we drop unused features\n",
    "X = pd.concat([df_Fake_text, df_True_text]).drop(columns=[\"text\",  \"parses\", \"tot_sentiments\", \"avg_sentiment\", \"positive_Sentiment\", \"negative_Sentiment\", \"neutral_Sentiment\"])\n",
    "X.sample(5)"
   ]
  },
  {
   "cell_type": "code",
   "execution_count": 37,
   "metadata": {},
   "outputs": [],
   "source": [
    "# We scale the data with the z_score scaling\n",
    "X_norm = X.drop(columns=[\"label\"])\n",
    "X_norm = (X_norm - X_norm.mean(axis=0))/X_norm.std(axis=0)\n",
    "\n",
    "# We finally split the data into 80% training and 20% test\n",
    "X_train, X_test, y_train, y_test = train_test_split(X_norm, X[\"label\"])"
   ]
  },
  {
   "cell_type": "code",
   "execution_count": 38,
   "metadata": {},
   "outputs": [
    {
     "name": "stdout",
     "output_type": "stream",
     "text": [
      "Iteration 1, loss = 0.53026470\n",
      "Validation score: 0.757245\n",
      "Iteration 2, loss = 0.46566083\n",
      "Validation score: 0.778124\n",
      "Iteration 3, loss = 0.45035393\n",
      "Validation score: 0.775008\n",
      "Iteration 4, loss = 0.44066567\n",
      "Validation score: 0.781864\n",
      "Iteration 5, loss = 0.43286157\n",
      "Validation score: 0.786226\n",
      "Iteration 6, loss = 0.42998827\n",
      "Validation score: 0.791835\n",
      "Iteration 7, loss = 0.42524670\n",
      "Validation score: 0.782487\n",
      "Iteration 8, loss = 0.42232007\n",
      "Validation score: 0.799626\n",
      "Iteration 9, loss = 0.41759476\n",
      "Validation score: 0.791835\n",
      "Iteration 10, loss = 0.41553619\n",
      "Validation score: 0.796510\n",
      "Iteration 11, loss = 0.41305826\n",
      "Validation score: 0.797445\n",
      "Iteration 12, loss = 0.41054756\n",
      "Validation score: 0.798691\n",
      "Iteration 13, loss = 0.41071686\n",
      "Validation score: 0.794640\n",
      "Iteration 14, loss = 0.40794193\n",
      "Validation score: 0.797756\n",
      "Iteration 15, loss = 0.40722591\n",
      "Validation score: 0.802742\n",
      "Iteration 16, loss = 0.40359211\n",
      "Validation score: 0.800249\n",
      "Iteration 17, loss = 0.40173745\n",
      "Validation score: 0.796198\n",
      "Iteration 18, loss = 0.40021758\n",
      "Validation score: 0.802119\n",
      "Iteration 19, loss = 0.39773269\n",
      "Validation score: 0.804300\n",
      "Iteration 20, loss = 0.39681912\n",
      "Validation score: 0.799938\n",
      "Iteration 21, loss = 0.39710211\n",
      "Validation score: 0.801807\n",
      "Iteration 22, loss = 0.39451438\n",
      "Validation score: 0.807105\n",
      "Iteration 23, loss = 0.39275350\n",
      "Validation score: 0.801807\n",
      "Iteration 24, loss = 0.39210018\n",
      "Validation score: 0.808352\n",
      "Iteration 25, loss = 0.39020566\n",
      "Validation score: 0.808352\n",
      "Iteration 26, loss = 0.38773046\n",
      "Validation score: 0.810844\n",
      "Iteration 27, loss = 0.38776435\n",
      "Validation score: 0.808040\n",
      "Iteration 28, loss = 0.38614311\n",
      "Validation score: 0.814584\n",
      "Iteration 29, loss = 0.38460169\n",
      "Validation score: 0.813337\n",
      "Iteration 30, loss = 0.38579009\n",
      "Validation score: 0.808663\n",
      "Iteration 31, loss = 0.38324775\n",
      "Validation score: 0.811779\n",
      "Iteration 32, loss = 0.38131439\n",
      "Validation score: 0.811468\n",
      "Iteration 33, loss = 0.38074820\n",
      "Validation score: 0.811779\n",
      "Iteration 34, loss = 0.38108514\n",
      "Validation score: 0.817077\n",
      "Iteration 35, loss = 0.37977782\n",
      "Validation score: 0.812091\n",
      "Iteration 36, loss = 0.38003783\n",
      "Validation score: 0.814896\n",
      "Iteration 37, loss = 0.37655712\n",
      "Validation score: 0.814584\n",
      "Iteration 38, loss = 0.37768098\n",
      "Validation score: 0.812403\n",
      "Iteration 39, loss = 0.37720612\n",
      "Validation score: 0.812403\n",
      "Iteration 40, loss = 0.37821934\n",
      "Validation score: 0.805235\n",
      "Iteration 41, loss = 0.37504843\n",
      "Validation score: 0.812091\n",
      "Iteration 42, loss = 0.37595919\n",
      "Validation score: 0.812091\n",
      "Iteration 43, loss = 0.37364033\n",
      "Validation score: 0.814896\n",
      "Iteration 44, loss = 0.37324133\n",
      "Validation score: 0.812403\n",
      "Iteration 45, loss = 0.37291777\n",
      "Validation score: 0.815519\n",
      "Validation score did not improve more than tol=0.000100 for 10 consecutive epochs. Stopping.\n"
     ]
    },
    {
     "data": {
      "text/plain": [
       "MLPClassifier(alpha=0.001, early_stopping=True, hidden_layer_sizes=[256, 64],\n",
       "              verbose=True)"
      ]
     },
     "execution_count": 38,
     "metadata": {},
     "output_type": "execute_result"
    }
   ],
   "source": [
    "# We build a model with 16 neurones as input layer, \n",
    "# 256 neurones for the first hidden layer, \n",
    "# 64 neurones for the second hidden layer, \n",
    "# 1 neurone for the last layer that is going to provide the output.\n",
    "# We add early stopping and l2 regularization to avoid overfitting.\n",
    "clf = MLPClassifier([256, 64], verbose=True, early_stopping=True, alpha=0.001)\n",
    "\n",
    "#train the model\n",
    "clf.fit(X_train, y_train)"
   ]
  },
  {
   "cell_type": "code",
   "execution_count": 39,
   "metadata": {},
   "outputs": [
    {
     "name": "stdout",
     "output_type": "stream",
     "text": [
      "test accuracy: 0.8205871353777113\n"
     ]
    }
   ],
   "source": [
    "# We print the test accuracy\n",
    "print(\"test accuracy:\", clf.score(X_test, y_test))"
   ]
  },
  {
   "cell_type": "code",
   "execution_count": 40,
   "metadata": {},
   "outputs": [
    {
     "data": {
      "text/plain": [
       "Text(0.5, 1.0, '2-class Precision-Recall curve')"
      ]
     },
     "execution_count": 40,
     "metadata": {},
     "output_type": "execute_result"
    },
    {
     "data": {
      "image/png": "[encoded data removed]",
      "text/plain": [
       "<Figure size 432x288 with 1 Axes>"
      ]
     },
     "metadata": {
      "needs_background": "light"
     },
     "output_type": "display_data"
    }
   ],
   "source": [
    "# We predict the labels for the test set\n",
    "y_score = clf.predict(X_test)\n",
    "\n",
    "# We plot the precision recall curve\n",
    "disp = plot_precision_recall_curve(clf, X_test, y_test)\n",
    "disp.ax_.set_title('2-class Precision-Recall curve')"
   ]
  },
  {
   "cell_type": "markdown",
   "metadata": {},
   "source": [
    "The Precision-Recall curves summarize the trade-off between the true positive rate and the positive predictive value for a predictive model using different probability thresholds. We see that the model performs well as we got an average precison of 87% and it has a considerable AUC (Area Under the Curve)."
   ]
  }
 ],
 "metadata": {
  "kernelspec": {
   "display_name": "Python 3",
   "language": "python",
   "name": "python3"
  },
  "language_info": {
   "codemirror_mode": {
    "name": "ipython",
    "version": 3
   },
   "file_extension": ".py",
   "mimetype": "text/x-python",
   "name": "python",
   "nbconvert_exporter": "python",
   "pygments_lexer": "ipython3",
   "version": "3.8.5"
  }
 },
 "nbformat": 4,
 "nbformat_minor": 4
}
