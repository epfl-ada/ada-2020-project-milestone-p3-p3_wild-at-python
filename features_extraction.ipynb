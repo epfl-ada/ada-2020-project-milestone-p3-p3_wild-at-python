{
 "cells": [
  {
   "cell_type": "markdown",
   "metadata": {},
   "source": [
    "**Note:** This code was run on google colab"
   ]
  },
  {
   "cell_type": "code",
   "execution_count": null,
   "metadata": {
    "id": "_3tD97vwCeag"
   },
   "outputs": [],
   "source": [
    "import numpy as np \n",
    "import pandas as pd\n",
    "import matplotlib.pyplot as plt\n",
    "%matplotlib inline\n",
    "from textblob import TextBlob"
   ]
  },
  {
   "cell_type": "code",
   "execution_count": null,
   "metadata": {
    "id": "QNZxjaBdCedI"
   },
   "outputs": [],
   "source": [
    "#set the features data folder name \n",
    "FEATURES_FOLDER = 'news_features'\n",
    "\n",
    "#Load the True news dataframe\n",
    "df_True_text =  pd.read_csv(os.path.join(FEATURES_FOLDER,'df_True_text2.csv'))\n",
    "\n",
    "#Load the Fake news dataframe\n",
    "df_Fake_text =  pd.read_csv(os.path.join(FEATURES_FOLDER,'df_Fake_text.csv'))"
   ]
  },
  {
   "cell_type": "markdown",
   "metadata": {
    "id": "S7Xcm5vlirIC"
   },
   "source": [
    "### Politeness"
   ]
  },
  {
   "cell_type": "markdown",
   "metadata": {
    "id": "7-j9U8WBYhqL"
   },
   "source": [
    "We compute the politeness of each news using the politeness Pypi politeness package, which is A port of the Stanford Politeness API. https://pypi.org/project/politeness/"
   ]
  },
  {
   "cell_type": "code",
   "execution_count": null,
   "metadata": {
    "colab": {
     "base_uri": "https://localhost:8080/",
     "height": 1000
    },
    "id": "qVor3ce4ute0",
    "outputId": "42d03485-b1b0-45b3-f378-e79c6a76cb75"
   },
   "outputs": [],
   "source": [
    "#install the politeness library\n",
    "!pip install politeness==0.1.2"
   ]
  },
  {
   "cell_type": "code",
   "execution_count": null,
   "metadata": {
    "colab": {
     "base_uri": "https://localhost:8080/"
    },
    "id": "xqGetpb32-d3",
    "outputId": "e031eb5f-c3bc-47a6-b3b0-32befacead90"
   },
   "outputs": [
    {
     "name": "stdout",
     "output_type": "stream",
     "text": [
      "NLTK Downloader\n",
      "---------------------------------------------------------------------------\n",
      "    d) Download   l) List    u) Update   c) Config   h) Help   q) Quit\n",
      "---------------------------------------------------------------------------\n",
      "Downloader> d\n",
      "\n",
      "Download which package (l=list; x=cancel)?\n",
      "  Identifier> all\n",
      "    Downloading collection 'all'\n",
      "       | \n",
      "       | Downloading package abc to /root/nltk_data...\n",
      "       |   Unzipping corpora/abc.zip.\n",
      "       | Downloading package alpino to /root/nltk_data...\n",
      "       |   Unzipping corpora/alpino.zip.\n",
      "       | Downloading package biocreative_ppi to /root/nltk_data...\n",
      "       |   Unzipping corpora/biocreative_ppi.zip.\n",
      "       | Downloading package brown to /root/nltk_data...\n",
      "       |   Unzipping corpora/brown.zip.\n",
      "       | Downloading package brown_tei to /root/nltk_data...\n",
      "       |   Unzipping corpora/brown_tei.zip.\n",
      "       | Downloading package cess_cat to /root/nltk_data...\n",
      "       |   Unzipping corpora/cess_cat.zip.\n",
      "       | Downloading package cess_esp to /root/nltk_data...\n",
      "       |   Unzipping corpora/cess_esp.zip.\n",
      "       | Downloading package chat80 to /root/nltk_data...\n",
      "       |   Unzipping corpora/chat80.zip.\n",
      "       | Downloading package city_database to /root/nltk_data...\n",
      "       |   Unzipping corpora/city_database.zip.\n",
      "       | Downloading package cmudict to /root/nltk_data...\n",
      "       |   Unzipping corpora/cmudict.zip.\n",
      "       | Downloading package comparative_sentences to\n",
      "       |     /root/nltk_data...\n",
      "       |   Unzipping corpora/comparative_sentences.zip.\n",
      "       | Downloading package comtrans to /root/nltk_data...\n",
      "       | Downloading package conll2000 to /root/nltk_data...\n",
      "       |   Unzipping corpora/conll2000.zip.\n",
      "       | Downloading package conll2002 to /root/nltk_data...\n",
      "       |   Unzipping corpora/conll2002.zip.\n",
      "       | Downloading package conll2007 to /root/nltk_data...\n",
      "       | Downloading package crubadan to /root/nltk_data...\n",
      "       |   Unzipping corpora/crubadan.zip.\n",
      "       | Downloading package dependency_treebank to /root/nltk_data...\n",
      "       |   Unzipping corpora/dependency_treebank.zip.\n",
      "       | Downloading package dolch to /root/nltk_data...\n",
      "       |   Unzipping corpora/dolch.zip.\n",
      "       | Downloading package europarl_raw to /root/nltk_data...\n",
      "       |   Unzipping corpora/europarl_raw.zip.\n",
      "       | Downloading package floresta to /root/nltk_data...\n",
      "       |   Unzipping corpora/floresta.zip.\n",
      "       | Downloading package framenet_v15 to /root/nltk_data...\n",
      "       |   Unzipping corpora/framenet_v15.zip.\n",
      "       | Downloading package framenet_v17 to /root/nltk_data...\n",
      "       |   Unzipping corpora/framenet_v17.zip.\n",
      "       | Downloading package gazetteers to /root/nltk_data...\n",
      "       |   Unzipping corpora/gazetteers.zip.\n",
      "       | Downloading package genesis to /root/nltk_data...\n",
      "       |   Unzipping corpora/genesis.zip.\n",
      "       | Downloading package gutenberg to /root/nltk_data...\n",
      "       |   Unzipping corpora/gutenberg.zip.\n",
      "       | Downloading package ieer to /root/nltk_data...\n",
      "       |   Unzipping corpora/ieer.zip.\n",
      "       | Downloading package inaugural to /root/nltk_data...\n",
      "       |   Unzipping corpora/inaugural.zip.\n",
      "       | Downloading package indian to /root/nltk_data...\n",
      "       |   Unzipping corpora/indian.zip.\n",
      "       | Downloading package jeita to /root/nltk_data...\n",
      "       | Downloading package kimmo to /root/nltk_data...\n",
      "       |   Unzipping corpora/kimmo.zip.\n",
      "       | Downloading package knbc to /root/nltk_data...\n",
      "       | Downloading package lin_thesaurus to /root/nltk_data...\n",
      "       |   Unzipping corpora/lin_thesaurus.zip.\n",
      "       | Downloading package mac_morpho to /root/nltk_data...\n",
      "       |   Unzipping corpora/mac_morpho.zip.\n",
      "       | Downloading package machado to /root/nltk_data...\n",
      "       | Downloading package masc_tagged to /root/nltk_data...\n",
      "       | Downloading package moses_sample to /root/nltk_data...\n",
      "       |   Unzipping models/moses_sample.zip.\n",
      "       | Downloading package movie_reviews to /root/nltk_data...\n",
      "       |   Unzipping corpora/movie_reviews.zip.\n",
      "       | Downloading package names to /root/nltk_data...\n",
      "       |   Unzipping corpora/names.zip.\n",
      "       | Downloading package nombank.1.0 to /root/nltk_data...\n",
      "       | Downloading package nps_chat to /root/nltk_data...\n",
      "       |   Unzipping corpora/nps_chat.zip.\n",
      "       | Downloading package omw to /root/nltk_data...\n",
      "       |   Unzipping corpora/omw.zip.\n",
      "       | Downloading package opinion_lexicon to /root/nltk_data...\n",
      "       |   Unzipping corpora/opinion_lexicon.zip.\n",
      "       | Downloading package paradigms to /root/nltk_data...\n",
      "       |   Unzipping corpora/paradigms.zip.\n",
      "       | Downloading package pil to /root/nltk_data...\n",
      "       |   Unzipping corpora/pil.zip.\n",
      "       | Downloading package pl196x to /root/nltk_data...\n",
      "       |   Unzipping corpora/pl196x.zip.\n",
      "       | Downloading package ppattach to /root/nltk_data...\n",
      "       |   Unzipping corpora/ppattach.zip.\n",
      "       | Downloading package problem_reports to /root/nltk_data...\n",
      "       |   Unzipping corpora/problem_reports.zip.\n",
      "       | Downloading package propbank to /root/nltk_data...\n",
      "       | Downloading package ptb to /root/nltk_data...\n",
      "       |   Unzipping corpora/ptb.zip.\n",
      "       | Downloading package product_reviews_1 to /root/nltk_data...\n",
      "       |   Unzipping corpora/product_reviews_1.zip.\n",
      "       | Downloading package product_reviews_2 to /root/nltk_data...\n",
      "       |   Unzipping corpora/product_reviews_2.zip.\n",
      "       | Downloading package pros_cons to /root/nltk_data...\n",
      "       |   Unzipping corpora/pros_cons.zip.\n",
      "       | Downloading package qc to /root/nltk_data...\n",
      "       |   Unzipping corpora/qc.zip.\n",
      "       | Downloading package reuters to /root/nltk_data...\n",
      "       | Downloading package rte to /root/nltk_data...\n",
      "       |   Unzipping corpora/rte.zip.\n",
      "       | Downloading package semcor to /root/nltk_data...\n",
      "       | Downloading package senseval to /root/nltk_data...\n",
      "       |   Unzipping corpora/senseval.zip.\n",
      "       | Downloading package sentiwordnet to /root/nltk_data...\n",
      "       |   Unzipping corpora/sentiwordnet.zip.\n",
      "       | Downloading package sentence_polarity to /root/nltk_data...\n",
      "       |   Unzipping corpora/sentence_polarity.zip.\n",
      "       | Downloading package shakespeare to /root/nltk_data...\n",
      "       |   Unzipping corpora/shakespeare.zip.\n",
      "       | Downloading package sinica_treebank to /root/nltk_data...\n",
      "       |   Unzipping corpora/sinica_treebank.zip.\n",
      "       | Downloading package smultron to /root/nltk_data...\n",
      "       |   Unzipping corpora/smultron.zip.\n",
      "       | Downloading package state_union to /root/nltk_data...\n",
      "       |   Unzipping corpora/state_union.zip.\n",
      "       | Downloading package stopwords to /root/nltk_data...\n",
      "       |   Unzipping corpora/stopwords.zip.\n",
      "       | Downloading package subjectivity to /root/nltk_data...\n",
      "       |   Unzipping corpora/subjectivity.zip.\n",
      "       | Downloading package swadesh to /root/nltk_data...\n",
      "       |   Unzipping corpora/swadesh.zip.\n",
      "       | Downloading package switchboard to /root/nltk_data...\n",
      "       |   Unzipping corpora/switchboard.zip.\n",
      "       | Downloading package timit to /root/nltk_data...\n",
      "       |   Unzipping corpora/timit.zip.\n",
      "       | Downloading package toolbox to /root/nltk_data...\n",
      "       |   Unzipping corpora/toolbox.zip.\n",
      "       | Downloading package treebank to /root/nltk_data...\n",
      "       |   Unzipping corpora/treebank.zip.\n",
      "       | Downloading package twitter_samples to /root/nltk_data...\n",
      "       |   Unzipping corpora/twitter_samples.zip.\n",
      "       | Downloading package udhr to /root/nltk_data...\n",
      "       |   Unzipping corpora/udhr.zip.\n",
      "       | Downloading package udhr2 to /root/nltk_data...\n",
      "       |   Unzipping corpora/udhr2.zip.\n",
      "       | Downloading package unicode_samples to /root/nltk_data...\n",
      "       |   Unzipping corpora/unicode_samples.zip.\n",
      "       | Downloading package universal_treebanks_v20 to\n",
      "       |     /root/nltk_data...\n",
      "       | Downloading package verbnet to /root/nltk_data...\n",
      "       |   Unzipping corpora/verbnet.zip.\n",
      "       | Downloading package verbnet3 to /root/nltk_data...\n",
      "       |   Unzipping corpora/verbnet3.zip.\n",
      "       | Downloading package webtext to /root/nltk_data...\n",
      "       |   Unzipping corpora/webtext.zip.\n",
      "       | Downloading package wordnet to /root/nltk_data...\n",
      "       |   Unzipping corpora/wordnet.zip.\n",
      "       | Downloading package wordnet_ic to /root/nltk_data...\n",
      "       |   Unzipping corpora/wordnet_ic.zip.\n",
      "       | Downloading package words to /root/nltk_data...\n",
      "       |   Unzipping corpora/words.zip.\n",
      "       | Downloading package ycoe to /root/nltk_data...\n",
      "       |   Unzipping corpora/ycoe.zip.\n",
      "       | Downloading package rslp to /root/nltk_data...\n",
      "       |   Unzipping stemmers/rslp.zip.\n",
      "       | Downloading package maxent_treebank_pos_tagger to\n",
      "       |     /root/nltk_data...\n",
      "       |   Unzipping taggers/maxent_treebank_pos_tagger.zip.\n",
      "       | Downloading package universal_tagset to /root/nltk_data...\n",
      "       |   Unzipping taggers/universal_tagset.zip.\n",
      "       | Downloading package maxent_ne_chunker to /root/nltk_data...\n",
      "       |   Unzipping chunkers/maxent_ne_chunker.zip.\n",
      "       | Downloading package punkt to /root/nltk_data...\n",
      "       |   Unzipping tokenizers/punkt.zip.\n",
      "       | Downloading package book_grammars to /root/nltk_data...\n",
      "       |   Unzipping grammars/book_grammars.zip.\n",
      "       | Downloading package sample_grammars to /root/nltk_data...\n",
      "       |   Unzipping grammars/sample_grammars.zip.\n",
      "       | Downloading package spanish_grammars to /root/nltk_data...\n",
      "       |   Unzipping grammars/spanish_grammars.zip.\n",
      "       | Downloading package basque_grammars to /root/nltk_data...\n",
      "       |   Unzipping grammars/basque_grammars.zip.\n",
      "       | Downloading package large_grammars to /root/nltk_data...\n",
      "       |   Unzipping grammars/large_grammars.zip.\n",
      "       | Downloading package tagsets to /root/nltk_data...\n",
      "       |   Unzipping help/tagsets.zip.\n",
      "       | Downloading package snowball_data to /root/nltk_data...\n",
      "       | Downloading package bllip_wsj_no_aux to /root/nltk_data...\n",
      "       |   Unzipping models/bllip_wsj_no_aux.zip.\n",
      "       | Downloading package word2vec_sample to /root/nltk_data...\n",
      "       |   Unzipping models/word2vec_sample.zip.\n",
      "       | Downloading package panlex_swadesh to /root/nltk_data...\n",
      "       | Downloading package mte_teip5 to /root/nltk_data...\n",
      "       |   Unzipping corpora/mte_teip5.zip.\n",
      "       | Downloading package averaged_perceptron_tagger to\n",
      "       |     /root/nltk_data...\n",
      "       |   Unzipping taggers/averaged_perceptron_tagger.zip.\n",
      "       | Downloading package averaged_perceptron_tagger_ru to\n",
      "       |     /root/nltk_data...\n",
      "       |   Unzipping taggers/averaged_perceptron_tagger_ru.zip.\n",
      "       | Downloading package perluniprops to /root/nltk_data...\n",
      "       |   Unzipping misc/perluniprops.zip.\n",
      "       | Downloading package nonbreaking_prefixes to\n",
      "       |     /root/nltk_data...\n",
      "       |   Unzipping corpora/nonbreaking_prefixes.zip.\n",
      "       | Downloading package vader_lexicon to /root/nltk_data...\n",
      "       | Downloading package porter_test to /root/nltk_data...\n",
      "       |   Unzipping stemmers/porter_test.zip.\n",
      "       | Downloading package wmt15_eval to /root/nltk_data...\n",
      "       |   Unzipping models/wmt15_eval.zip.\n",
      "       | Downloading package mwa_ppdb to /root/nltk_data...\n",
      "       |   Unzipping misc/mwa_ppdb.zip.\n",
      "       | \n",
      "     Done downloading collection all\n",
      "\n",
      "---------------------------------------------------------------------------\n",
      "    d) Download   l) List    u) Update   c) Config   h) Help   q) Quit\n",
      "---------------------------------------------------------------------------\n",
      "Downloader> q\n"
     ]
    },
    {
     "data": {
      "text/plain": [
       "True"
      ]
     },
     "execution_count": 7,
     "metadata": {
      "tags": []
     },
     "output_type": "execute_result"
    }
   ],
   "source": [
    "# import and download Natural Language Toolkit\n",
    "import nltk\n",
    "nltk.download()"
   ]
  },
  {
   "cell_type": "code",
   "execution_count": null,
   "metadata": {
    "id": "9ldn358b0DvN"
   },
   "outputs": [],
   "source": [
    "import politeness\n",
    "from politeness.classifier import Classifier\n",
    "\n",
    "#instantiate the politeness classifier\n",
    "cls = Classifier()"
   ]
  },
  {
   "cell_type": "markdown",
   "metadata": {
    "id": "tirG5kfWalxR"
   },
   "source": [
    "Note: At first the goal was to uses the parses computed by the coreNLP in the previous step. However scince these coputations take way too long  and we are unable to perform them on the entire dataset. We decided to compute the remaining parses using the TextBlob method which is much faster and enables us to compute the politeness for the entire dataset"
   ]
  },
  {
   "cell_type": "code",
   "execution_count": null,
   "metadata": {
    "id": "MCHbmOzSCTq6"
   },
   "outputs": [],
   "source": [
    "#method that computes the politeness of each sentence in the given text.\n",
    "#the test is split into sentences using the sent_tokenizer of the nltk library then we compute the parses for each sentence using the parse \n",
    "#method of the TextBlob library. Then each sentence and it's corresponding parses are passed to the classifier to get the predicted politenss\n",
    "#the method returns the average politeness over all the sentences in the given news\n",
    "#since we are already divinding the news into sentences, we will also return the number of sentences to avoid recomputing it\n",
    "def get_politeness(doc): \n",
    "    #split into sentences\n",
    "    sentences = nltk.tokenize.sent_tokenize(doc['text'])\n",
    "    politeness= []\n",
    "    for idx, sentence in enumerate(sentences): \n",
    "      #get the parses\n",
    "      parses= TextBlob(sentences[0]).parse()\n",
    "      #get the prediction\n",
    "      #the predict method returns class probabilities as a dict { 'polite': float, 'impolite': float }, we take only the\n",
    "      #'polite' argument\n",
    "      prediction= cls.predict( {'sentence': sentence , 'parses': parses} )[0]\n",
    "      #save the prediction\n",
    "      politeness.append(list(prediction.values())[0][0])\n",
    "    \n",
    "    #return the average politeness\n",
    "    return np.mean(politeness), len(sentences)\n",
    "\n"
   ]
  },
  {
   "cell_type": "markdown",
   "metadata": {
    "id": "oMSLeBOOi_Aa"
   },
   "source": [
    "#### True news"
   ]
  },
  {
   "cell_type": "markdown",
   "metadata": {
    "id": "LMV7lzqtaBXe"
   },
   "source": [
    "we compute the politeness for the True news "
   ]
  },
  {
   "cell_type": "code",
   "execution_count": null,
   "metadata": {
    "id": "AxFYITSEDNVX"
   },
   "outputs": [],
   "source": [
    "#add an empty column for the politeness in the True news dataframe\n",
    "df_True_text[['politeness']]=None"
   ]
  },
  {
   "cell_type": "code",
   "execution_count": null,
   "metadata": {
    "colab": {
     "base_uri": "https://localhost:8080/",
     "height": 279
    },
    "id": "KgWl0wRgCegg",
    "outputId": "c1cc2ed9-f9f3-404d-ea56-d01d5769706b"
   },
   "outputs": [
    {
     "data": {
      "text/html": [
       "<div>\n",
       "<style scoped>\n",
       "    .dataframe tbody tr th:only-of-type {\n",
       "        vertical-align: middle;\n",
       "    }\n",
       "\n",
       "    .dataframe tbody tr th {\n",
       "        vertical-align: top;\n",
       "    }\n",
       "\n",
       "    .dataframe thead th {\n",
       "        text-align: right;\n",
       "    }\n",
       "</style>\n",
       "<table border=\"1\" class=\"dataframe\">\n",
       "  <thead>\n",
       "    <tr style=\"text-align: right;\">\n",
       "      <th></th>\n",
       "      <th>text</th>\n",
       "      <th>numSentence</th>\n",
       "      <th>numWords</th>\n",
       "      <th>totSentiment</th>\n",
       "      <th>avgSentiment</th>\n",
       "      <th>positive_Sentiment</th>\n",
       "      <th>negative_Sentiment</th>\n",
       "      <th>neutral_Sentiment</th>\n",
       "      <th>parses</th>\n",
       "      <th>politeness</th>\n",
       "    </tr>\n",
       "  </thead>\n",
       "  <tbody>\n",
       "    <tr>\n",
       "      <th>0</th>\n",
       "      <td>the head of a conservative republican faction ...</td>\n",
       "      <td>31.0</td>\n",
       "      <td>730.0</td>\n",
       "      <td>63.0</td>\n",
       "      <td>2.032258</td>\n",
       "      <td>10.0</td>\n",
       "      <td>9.0</td>\n",
       "      <td>12.0</td>\n",
       "      <td>['(ROOT\\n  (S\\n    (NP\\n      (NP\\n        (NP...</td>\n",
       "      <td>NaN</td>\n",
       "    </tr>\n",
       "    <tr>\n",
       "      <th>1</th>\n",
       "      <td>transgender people will be allowed for the fir...</td>\n",
       "      <td>22.0</td>\n",
       "      <td>614.0</td>\n",
       "      <td>38.0</td>\n",
       "      <td>1.727273</td>\n",
       "      <td>4.0</td>\n",
       "      <td>10.0</td>\n",
       "      <td>8.0</td>\n",
       "      <td>['(ROOT\\n  (S\\n    (S\\n      (NP (JJ transgend...</td>\n",
       "      <td>NaN</td>\n",
       "    </tr>\n",
       "    <tr>\n",
       "      <th>2</th>\n",
       "      <td>the special counsel investigation of links bet...</td>\n",
       "      <td>19.0</td>\n",
       "      <td>452.0</td>\n",
       "      <td>39.0</td>\n",
       "      <td>2.052632</td>\n",
       "      <td>5.0</td>\n",
       "      <td>4.0</td>\n",
       "      <td>10.0</td>\n",
       "      <td>['(ROOT\\n  (S\\n    (S\\n      (NP\\n        (NP ...</td>\n",
       "      <td>NaN</td>\n",
       "    </tr>\n",
       "    <tr>\n",
       "      <th>3</th>\n",
       "      <td>trump campaign adviser george papadopoulos tol...</td>\n",
       "      <td>16.0</td>\n",
       "      <td>374.0</td>\n",
       "      <td>30.0</td>\n",
       "      <td>1.875000</td>\n",
       "      <td>4.0</td>\n",
       "      <td>6.0</td>\n",
       "      <td>6.0</td>\n",
       "      <td>['(ROOT\\n  (S\\n    (S\\n      (NP (NN trump) (N...</td>\n",
       "      <td>NaN</td>\n",
       "    </tr>\n",
       "    <tr>\n",
       "      <th>4</th>\n",
       "      <td>president donald trump called on the u.s. post...</td>\n",
       "      <td>45.0</td>\n",
       "      <td>827.0</td>\n",
       "      <td>77.0</td>\n",
       "      <td>1.711111</td>\n",
       "      <td>8.0</td>\n",
       "      <td>21.0</td>\n",
       "      <td>16.0</td>\n",
       "      <td>['(ROOT\\n  (S\\n    (NP\\n      (NP (NN presiden...</td>\n",
       "      <td>NaN</td>\n",
       "    </tr>\n",
       "  </tbody>\n",
       "</table>\n",
       "</div>"
      ],
      "text/plain": [
       "                                                text  ...  politeness\n",
       "0  the head of a conservative republican faction ...  ...         NaN\n",
       "1  transgender people will be allowed for the fir...  ...         NaN\n",
       "2  the special counsel investigation of links bet...  ...         NaN\n",
       "3  trump campaign adviser george papadopoulos tol...  ...         NaN\n",
       "4  president donald trump called on the u.s. post...  ...         NaN\n",
       "\n",
       "[5 rows x 10 columns]"
      ]
     },
     "execution_count": 50,
     "metadata": {
      "tags": []
     },
     "output_type": "execute_result"
    }
   ],
   "source": [
    "df_True_text.head()"
   ]
  },
  {
   "cell_type": "code",
   "execution_count": null,
   "metadata": {
    "colab": {
     "base_uri": "https://localhost:8080/"
    },
    "id": "AK1G6YoCMmmx",
    "outputId": "f5a0d44b-47a6-41b3-8453-ac202052e727"
   },
   "outputs": [],
   "source": [
    "#compute the politeness for each True news and save the dataframe after each 20 steps to avoid losing a lot of computations in case of a\n",
    "#runtime stop\n",
    "#we also compute the number of sentences and number of words in each news for the talkativeness\n",
    "for i in range( 0, len(df_True_text)): \n",
    "    #print(i)\n",
    "    politeness, nb_sentences = get_politeness(df_True_text.iloc[i])\n",
    "    df_True_text['politeness'].iloc[i] = politeness\n",
    "    df_True_text['numSentence'].iloc[i] = nb_sentences\n",
    "    df_True_text['numWords'].iloc[i]= len( df_True_text['text'].iloc[i].split())\n",
    "    if( i%20 ==0):\n",
    "        #print(\"let's save\")\n",
    "        df_True_text.to_csv(os.path.join(FEATURES_FOLDER,'df_True_text2.csv'), index=False)"
   ]
  },
  {
   "cell_type": "code",
   "execution_count": null,
   "metadata": {
    "id": "H94aerq9blS3"
   },
   "outputs": [],
   "source": [
    "#save the dataframe\n",
    "df_True_text.to_csv(os.path.join(FEATURES_FOLDER,'df_True_text.csv'), index=False)"
   ]
  },
  {
   "cell_type": "markdown",
   "metadata": {
    "id": "SnsTxaKLjIEE"
   },
   "source": [
    "#### Fake news"
   ]
  },
  {
   "cell_type": "markdown",
   "metadata": {
    "id": "I4-aUx3qbVuT"
   },
   "source": [
    "We compute the politeness of the Fake news"
   ]
  },
  {
   "cell_type": "code",
   "execution_count": null,
   "metadata": {
    "id": "X9ct7r4VCTyU"
   },
   "outputs": [],
   "source": [
    "#add an empty column for the politeness in the Fake news dataframe\n",
    "df_Fake_text[['politeness']]=None"
   ]
  },
  {
   "cell_type": "code",
   "execution_count": null,
   "metadata": {
    "colab": {
     "base_uri": "https://localhost:8080/",
     "height": 635
    },
    "id": "ABW2Mg4tCT2M",
    "outputId": "bfc8869a-2407-48c5-e0e3-611f2a3d2dcc"
   },
   "outputs": [
    {
     "data": {
      "text/html": [
       "<div>\n",
       "<style scoped>\n",
       "    .dataframe tbody tr th:only-of-type {\n",
       "        vertical-align: middle;\n",
       "    }\n",
       "\n",
       "    .dataframe tbody tr th {\n",
       "        vertical-align: top;\n",
       "    }\n",
       "\n",
       "    .dataframe thead th {\n",
       "        text-align: right;\n",
       "    }\n",
       "</style>\n",
       "<table border=\"1\" class=\"dataframe\">\n",
       "  <thead>\n",
       "    <tr style=\"text-align: right;\">\n",
       "      <th></th>\n",
       "      <th>text</th>\n",
       "      <th>numSentence</th>\n",
       "      <th>numWords</th>\n",
       "      <th>totSentiment</th>\n",
       "      <th>avgSentiment</th>\n",
       "      <th>positive_Sentiment</th>\n",
       "      <th>negative_Sentiment</th>\n",
       "      <th>neutral_Sentiment</th>\n",
       "      <th>parses</th>\n",
       "      <th>politeness</th>\n",
       "    </tr>\n",
       "  </thead>\n",
       "  <tbody>\n",
       "    <tr>\n",
       "      <th>0</th>\n",
       "      <td>donald trump just couldn t wish all americans ...</td>\n",
       "      <td>27.0</td>\n",
       "      <td>462.0</td>\n",
       "      <td>52.0</td>\n",
       "      <td>1.925926</td>\n",
       "      <td>7.0</td>\n",
       "      <td>10.0</td>\n",
       "      <td>10.0</td>\n",
       "      <td>['(ROOT\\n  (S\\n    (NP\\n      (NP (JJ donald) ...</td>\n",
       "      <td>None</td>\n",
       "    </tr>\n",
       "    <tr>\n",
       "      <th>1</th>\n",
       "      <td>house intelligence committee chairman devin nu...</td>\n",
       "      <td>10.0</td>\n",
       "      <td>308.0</td>\n",
       "      <td>12.0</td>\n",
       "      <td>1.200000</td>\n",
       "      <td>0.0</td>\n",
       "      <td>8.0</td>\n",
       "      <td>2.0</td>\n",
       "      <td>['(ROOT\\n  (S\\n    (NP (NN house) (NN intellig...</td>\n",
       "      <td>None</td>\n",
       "    </tr>\n",
       "    <tr>\n",
       "      <th>2</th>\n",
       "      <td>on friday, it was revealed that former milwauk...</td>\n",
       "      <td>25.0</td>\n",
       "      <td>544.0</td>\n",
       "      <td>41.0</td>\n",
       "      <td>1.640000</td>\n",
       "      <td>3.0</td>\n",
       "      <td>12.0</td>\n",
       "      <td>10.0</td>\n",
       "      <td>['(ROOT\\n  (S\\n    (PP (IN on)\\n      (NP (NNP...</td>\n",
       "      <td>None</td>\n",
       "    </tr>\n",
       "    <tr>\n",
       "      <th>3</th>\n",
       "      <td>on christmas day, donald trump announced that ...</td>\n",
       "      <td>17.0</td>\n",
       "      <td>411.0</td>\n",
       "      <td>26.0</td>\n",
       "      <td>1.529412</td>\n",
       "      <td>2.0</td>\n",
       "      <td>10.0</td>\n",
       "      <td>5.0</td>\n",
       "      <td>['(ROOT\\n  (S\\n    (PP (IN on)\\n      (NP (NNP...</td>\n",
       "      <td>None</td>\n",
       "    </tr>\n",
       "    <tr>\n",
       "      <th>4</th>\n",
       "      <td>pope francis used his annual christmas day mes...</td>\n",
       "      <td>19.0</td>\n",
       "      <td>420.0</td>\n",
       "      <td>33.0</td>\n",
       "      <td>1.736842</td>\n",
       "      <td>6.0</td>\n",
       "      <td>11.0</td>\n",
       "      <td>2.0</td>\n",
       "      <td>['(ROOT\\n  (S\\n    (NP (NN pope) (NNS francis)...</td>\n",
       "      <td>None</td>\n",
       "    </tr>\n",
       "  </tbody>\n",
       "</table>\n",
       "</div>"
      ],
      "text/plain": [
       "                                                text  ...  politeness\n",
       "0  donald trump just couldn t wish all americans ...  ...        None\n",
       "1  house intelligence committee chairman devin nu...  ...        None\n",
       "2  on friday, it was revealed that former milwauk...  ...        None\n",
       "3  on christmas day, donald trump announced that ...  ...        None\n",
       "4  pope francis used his annual christmas day mes...  ...        None\n",
       "\n",
       "[5 rows x 10 columns]"
      ]
     },
     "execution_count": 11,
     "metadata": {
      "tags": []
     },
     "output_type": "execute_result"
    }
   ],
   "source": [
    "df_Fake_text.head()"
   ]
  },
  {
   "cell_type": "code",
   "execution_count": null,
   "metadata": {
    "id": "3cFEDYuFjPmi"
   },
   "outputs": [],
   "source": [
    "df_Fake_text.to_csv(os.path.join(FEATURES_FOLDER,'df_Fake_text.csv'), index=False)"
   ]
  },
  {
   "cell_type": "code",
   "execution_count": null,
   "metadata": {
    "colab": {
     "base_uri": "https://localhost:8080/"
    },
    "id": "jJQ427zEqk2p",
    "outputId": "10018e68-8a75-4b00-fee7-df6b7dca88bf"
   },
   "outputs": [
    {
     "data": {
      "text/plain": [
       "text                  with president elect donald trump s inaugurati...\n",
       "numSentence                                                          23\n",
       "numWords                                                            369\n",
       "totSentiment                                                         29\n",
       "avgSentiment                                                    1.26087\n",
       "positive_Sentiment                                                    0\n",
       "negative_Sentiment                                                   17\n",
       "neutral_Sentiment                                                     6\n",
       "parses                ['(ROOT\\n  (S\\n    (PP\\n      (PP (IN with)\\n ...\n",
       "politeness                                                         None\n",
       "Name: 2937, dtype: object"
      ]
     },
     "execution_count": 30,
     "metadata": {
      "tags": []
     },
     "output_type": "execute_result"
    }
   ],
   "source": [
    "#check an entry\n",
    "df_Fake_text.iloc[2933]"
   ]
  },
  {
   "cell_type": "code",
   "execution_count": null,
   "metadata": {
    "colab": {
     "base_uri": "https://localhost:8080/"
    },
    "id": "U_m0FLThjPpj",
    "outputId": "30e3c0d6-bd0a-41b0-e5a1-046443d59f84"
   },
   "outputs": [],
   "source": [
    "#compute the politeness for each Fake news and save the dataframe after each 20 steps to avoid losing a lot of computations in case of a\n",
    "#runtime stop\n",
    "#we also compute the number of sentences and number of words in each news for the talkativeness\n",
    "for i in range(0 , len(df_Fake_text)): \n",
    "    #print(i)\n",
    "    politeness, nb_sentences = get_politeness(df_Fake_text.iloc[i])\n",
    "    df_Fake_text['politeness'].iloc[i] = politeness\n",
    "    df_Fake_text['numSentence'].iloc[i] = nb_sentences\n",
    "    df_Fake_text['numWords'].iloc[i]= len( df_Fake_text['text'].iloc[i].split())\n",
    "    if( i%20 ==0):\n",
    "        #print(\"let's save\")\n",
    "        df_Fake_text.to_csv(os.path.join(FEATURES_FOLDER,'df_Fake_text.csv'), index=False)"
   ]
  },
  {
   "cell_type": "code",
   "execution_count": null,
   "metadata": {
    "id": "uHuTnxpLsTBh"
   },
   "outputs": [],
   "source": [
    "#save the dataframe\n",
    "df_Fake_text.to_csv(os.path.join(FEATURES_FOLDER,'df_Fake_text.csv'), index=False)"
   ]
  },
  {
   "cell_type": "code",
   "execution_count": null,
   "metadata": {
    "colab": {
     "base_uri": "https://localhost:8080/",
     "height": 635
    },
    "id": "AxwLLlPQjp5s",
    "outputId": "4372a4e9-5c68-4c0f-bdf5-84592e833a30"
   },
   "outputs": [
    {
     "data": {
      "text/html": [
       "<div>\n",
       "<style scoped>\n",
       "    .dataframe tbody tr th:only-of-type {\n",
       "        vertical-align: middle;\n",
       "    }\n",
       "\n",
       "    .dataframe tbody tr th {\n",
       "        vertical-align: top;\n",
       "    }\n",
       "\n",
       "    .dataframe thead th {\n",
       "        text-align: right;\n",
       "    }\n",
       "</style>\n",
       "<table border=\"1\" class=\"dataframe\">\n",
       "  <thead>\n",
       "    <tr style=\"text-align: right;\">\n",
       "      <th></th>\n",
       "      <th>text</th>\n",
       "      <th>numSentence</th>\n",
       "      <th>numWords</th>\n",
       "      <th>totSentiment</th>\n",
       "      <th>avgSentiment</th>\n",
       "      <th>positive_Sentiment</th>\n",
       "      <th>negative_Sentiment</th>\n",
       "      <th>neutral_Sentiment</th>\n",
       "      <th>parses</th>\n",
       "      <th>politeness</th>\n",
       "      <th>premises_conclusions</th>\n",
       "      <th>subjectivity</th>\n",
       "      <th>polarity</th>\n",
       "    </tr>\n",
       "  </thead>\n",
       "  <tbody>\n",
       "    <tr>\n",
       "      <th>0</th>\n",
       "      <td>donald trump just couldn t wish all americans ...</td>\n",
       "      <td>27.0</td>\n",
       "      <td>462.0</td>\n",
       "      <td>52.0</td>\n",
       "      <td>1.925926</td>\n",
       "      <td>7.0</td>\n",
       "      <td>10.0</td>\n",
       "      <td>10.0</td>\n",
       "      <td>['(ROOT\\n  (S\\n    (NP\\n      (NP (JJ donald) ...</td>\n",
       "      <td>0.422506</td>\n",
       "      <td>18</td>\n",
       "      <td>0.59249</td>\n",
       "      <td>0.0824626</td>\n",
       "    </tr>\n",
       "    <tr>\n",
       "      <th>1</th>\n",
       "      <td>house intelligence committee chairman devin nu...</td>\n",
       "      <td>10.0</td>\n",
       "      <td>308.0</td>\n",
       "      <td>12.0</td>\n",
       "      <td>1.200000</td>\n",
       "      <td>0.0</td>\n",
       "      <td>8.0</td>\n",
       "      <td>2.0</td>\n",
       "      <td>['(ROOT\\n  (S\\n    (NP (NN house) (NN intellig...</td>\n",
       "      <td>0.455562</td>\n",
       "      <td>21</td>\n",
       "      <td>0.334098</td>\n",
       "      <td>-0.00500448</td>\n",
       "    </tr>\n",
       "    <tr>\n",
       "      <th>2</th>\n",
       "      <td>on friday, it was revealed that former milwauk...</td>\n",
       "      <td>25.0</td>\n",
       "      <td>544.0</td>\n",
       "      <td>41.0</td>\n",
       "      <td>1.640000</td>\n",
       "      <td>3.0</td>\n",
       "      <td>12.0</td>\n",
       "      <td>10.0</td>\n",
       "      <td>['(ROOT\\n  (S\\n    (PP (IN on)\\n      (NP (NNP...</td>\n",
       "      <td>0.44189</td>\n",
       "      <td>20</td>\n",
       "      <td>0.542352</td>\n",
       "      <td>0.00967144</td>\n",
       "    </tr>\n",
       "    <tr>\n",
       "      <th>3</th>\n",
       "      <td>on christmas day, donald trump announced that ...</td>\n",
       "      <td>17.0</td>\n",
       "      <td>411.0</td>\n",
       "      <td>26.0</td>\n",
       "      <td>1.529412</td>\n",
       "      <td>2.0</td>\n",
       "      <td>10.0</td>\n",
       "      <td>5.0</td>\n",
       "      <td>['(ROOT\\n  (S\\n    (PP (IN on)\\n      (NP (NNP...</td>\n",
       "      <td>0.470385</td>\n",
       "      <td>22</td>\n",
       "      <td>0.372581</td>\n",
       "      <td>0.00913978</td>\n",
       "    </tr>\n",
       "    <tr>\n",
       "      <th>4</th>\n",
       "      <td>pope francis used his annual christmas day mes...</td>\n",
       "      <td>19.0</td>\n",
       "      <td>420.0</td>\n",
       "      <td>33.0</td>\n",
       "      <td>1.736842</td>\n",
       "      <td>6.0</td>\n",
       "      <td>11.0</td>\n",
       "      <td>2.0</td>\n",
       "      <td>['(ROOT\\n  (S\\n    (NP (NN pope) (NNS francis)...</td>\n",
       "      <td>0.45624</td>\n",
       "      <td>25</td>\n",
       "      <td>0.495222</td>\n",
       "      <td>-0.0117222</td>\n",
       "    </tr>\n",
       "  </tbody>\n",
       "</table>\n",
       "</div>"
      ],
      "text/plain": [
       "                                                text  ...    polarity\n",
       "0  donald trump just couldn t wish all americans ...  ...   0.0824626\n",
       "1  house intelligence committee chairman devin nu...  ... -0.00500448\n",
       "2  on friday, it was revealed that former milwauk...  ...  0.00967144\n",
       "3  on christmas day, donald trump announced that ...  ...  0.00913978\n",
       "4  pope francis used his annual christmas day mes...  ...  -0.0117222\n",
       "\n",
       "[5 rows x 13 columns]"
      ]
     },
     "execution_count": 113,
     "metadata": {
      "tags": []
     },
     "output_type": "execute_result"
    }
   ],
   "source": [
    "df_Fake_text.head()"
   ]
  },
  {
   "cell_type": "markdown",
   "metadata": {
    "id": "Ug0kmur_YoWF"
   },
   "source": [
    "### Premises and conclusions"
   ]
  },
  {
   "cell_type": "markdown",
   "metadata": {
    "id": "BYi_RcE4b6UJ"
   },
   "source": [
    "To compute the number of Premises and conclusions on each news, we used the markers from the article \"Premise, Conclusion and Conditional Indicators, CLAUDE GRATTON, Department of Philosophy University of Nevada at Las Vegas, Las Vegas, NY 89154-5028 U.SA\". We saved those markers in the file \"premises_conclusions.txt\"."
   ]
  },
  {
   "cell_type": "code",
   "execution_count": null,
   "metadata": {
    "id": "WP7iwQBcYsD4"
   },
   "outputs": [],
   "source": [
    "#Load the \"premises_conclusions.txt\" file\n",
    "text_file = open(\"premises_conclusions.txt\", \"r\")\n",
    "premises_conclusions = text_file.readlines( )"
   ]
  },
  {
   "cell_type": "code",
   "execution_count": null,
   "metadata": {
    "colab": {
     "base_uri": "https://localhost:8080/"
    },
    "id": "C9-8a9aOY0YV",
    "outputId": "e4870f3e-cd4c-410f-c634-2ccb1d710fb3"
   },
   "outputs": [
    {
     "data": {
      "text/plain": [
       "['consequently',\n",
       " 'as shown by the fact that',\n",
       " 'as',\n",
       " 'from this we can deduce that',\n",
       " 'accordingly',\n",
       " 'from this it follows tha',\n",
       " 'entails that',\n",
       " 'this is shown by',\n",
       " 'shows that',\n",
       " 'however',\n",
       " 'i conclude that',\n",
       " 'follows from',\n",
       " 'i impersonal pronouns sometimes refer to earlier statements ',\n",
       " 'moreover',\n",
       " 'this proves that',\n",
       " 'furthermore',\n",
       " 'hence',\n",
       " 'then',\n",
       " 'that is proven from',\n",
       " 'granted that',\n",
       " 'supposing that',\n",
       " 'for',\n",
       " 'because',\n",
       " 'nevertheless',\n",
       " 'that is why',\n",
       " 'here is why',\n",
       " 'obviously',\n",
       " 'implies that',\n",
       " 'due to the reason that',\n",
       " 'despite the fact that',\n",
       " 'i n view of the fact that',\n",
       " 'may be deduced from',\n",
       " 'may be inferred from',\n",
       " 'also',\n",
       " 'thus ',\n",
       " 'it can be derived from that',\n",
       " 'this bears out the point that',\n",
       " 'establishes that',\n",
       " 'proves that',\n",
       " 'this is proven from',\n",
       " 'supports that',\n",
       " 'in support of',\n",
       " 'consider',\n",
       " 'evidently',\n",
       " 'inasmuch as',\n",
       " 'on the hypothesis that',\n",
       " 'ind icates that',\n",
       " 'guarantees that',\n",
       " 'on the basis of',\n",
       " 'in light of the fact that',\n",
       " 'here is why',\n",
       " 'this being so',\n",
       " 'as indicated by',\n",
       " 'on account of the reason that',\n",
       " 'in view of that',\n",
       " 'in addition',\n",
       " 'one can deduce that',\n",
       " 'one may infer that',\n",
       " 'thereby showing that',\n",
       " 'still',\n",
       " 'that is derived from',\n",
       " 'besides',\n",
       " 'justifirs that',\n",
       " 'its proof is that',\n",
       " 'finally',\n",
       " 'is supported by',\n",
       " 'lends credence to',\n",
       " 'leads me to believe tha',\n",
       " 'as a result ',\n",
       " 'demonstrates that',\n",
       " 'signifies that',\n",
       " 'is based on',\n",
       " 'in that case',\n",
       " 'even if',\n",
       " 'you just need to consider that',\n",
       " 'but comes down to',\n",
       " 'that makes me believe that',\n",
       " 'to say that is to say',\n",
       " 'in conclusion ',\n",
       " 'this comes from',\n",
       " 'that authorizes me to say that',\n",
       " \"i'm convinced from\",\n",
       " 'this marshals in favor of',\n",
       " 'on this account',\n",
       " 'for this reason ',\n",
       " 'seeing that']"
      ]
     },
     "execution_count": 36,
     "metadata": {
      "tags": []
     },
     "output_type": "execute_result"
    }
   ],
   "source": [
    "#extract the markers\n",
    "premises_conclusions = [x.rstrip(\"\\n\").lower()  for x in premises_conclusions]\n",
    "premises_conclusions.remove(\"\")\n",
    "premises_conclusions"
   ]
  },
  {
   "cell_type": "markdown",
   "metadata": {
    "id": "SZe6SmTIh_hl"
   },
   "source": [
    "#### True news"
   ]
  },
  {
   "cell_type": "markdown",
   "metadata": {
    "id": "kEHoN0KPckmj"
   },
   "source": [
    "We compute the number of premises and conclusions for the True news"
   ]
  },
  {
   "cell_type": "code",
   "execution_count": null,
   "metadata": {
    "id": "BCyo5A9XZDx-"
   },
   "outputs": [],
   "source": [
    "#add an empty column for the nb of premises and conclusions in the True news dataset\n",
    "df_True_text[['premises_conclusions']]=None"
   ]
  },
  {
   "cell_type": "code",
   "execution_count": null,
   "metadata": {
    "colab": {
     "base_uri": "https://localhost:8080/",
     "height": 363
    },
    "id": "nMOJX0_1ZZ96",
    "outputId": "498471cc-a65a-4662-a53d-51527b49be0a"
   },
   "outputs": [
    {
     "data": {
      "text/html": [
       "<div>\n",
       "<style scoped>\n",
       "    .dataframe tbody tr th:only-of-type {\n",
       "        vertical-align: middle;\n",
       "    }\n",
       "\n",
       "    .dataframe tbody tr th {\n",
       "        vertical-align: top;\n",
       "    }\n",
       "\n",
       "    .dataframe thead th {\n",
       "        text-align: right;\n",
       "    }\n",
       "</style>\n",
       "<table border=\"1\" class=\"dataframe\">\n",
       "  <thead>\n",
       "    <tr style=\"text-align: right;\">\n",
       "      <th></th>\n",
       "      <th>text</th>\n",
       "      <th>numSentence</th>\n",
       "      <th>numWords</th>\n",
       "      <th>totSentiment</th>\n",
       "      <th>avgSentiment</th>\n",
       "      <th>positive_Sentiment</th>\n",
       "      <th>negative_Sentiment</th>\n",
       "      <th>neutral_Sentiment</th>\n",
       "      <th>parses</th>\n",
       "      <th>politeness</th>\n",
       "      <th>premises_conclusions</th>\n",
       "    </tr>\n",
       "  </thead>\n",
       "  <tbody>\n",
       "    <tr>\n",
       "      <th>0</th>\n",
       "      <td>the head of a conservative republican faction ...</td>\n",
       "      <td>31.0</td>\n",
       "      <td>730.0</td>\n",
       "      <td>63.0</td>\n",
       "      <td>2.032258</td>\n",
       "      <td>10.0</td>\n",
       "      <td>9.0</td>\n",
       "      <td>12.0</td>\n",
       "      <td>['(ROOT\\n  (S\\n    (NP\\n      (NP\\n        (NP...</td>\n",
       "      <td>0.456962</td>\n",
       "      <td>None</td>\n",
       "    </tr>\n",
       "    <tr>\n",
       "      <th>1</th>\n",
       "      <td>transgender people will be allowed for the fir...</td>\n",
       "      <td>22.0</td>\n",
       "      <td>614.0</td>\n",
       "      <td>38.0</td>\n",
       "      <td>1.727273</td>\n",
       "      <td>4.0</td>\n",
       "      <td>10.0</td>\n",
       "      <td>8.0</td>\n",
       "      <td>['(ROOT\\n  (S\\n    (S\\n      (NP (JJ transgend...</td>\n",
       "      <td>0.458206</td>\n",
       "      <td>None</td>\n",
       "    </tr>\n",
       "    <tr>\n",
       "      <th>2</th>\n",
       "      <td>the special counsel investigation of links bet...</td>\n",
       "      <td>19.0</td>\n",
       "      <td>452.0</td>\n",
       "      <td>39.0</td>\n",
       "      <td>2.052632</td>\n",
       "      <td>5.0</td>\n",
       "      <td>4.0</td>\n",
       "      <td>10.0</td>\n",
       "      <td>['(ROOT\\n  (S\\n    (S\\n      (NP\\n        (NP ...</td>\n",
       "      <td>0.449653</td>\n",
       "      <td>None</td>\n",
       "    </tr>\n",
       "    <tr>\n",
       "      <th>3</th>\n",
       "      <td>trump campaign adviser george papadopoulos tol...</td>\n",
       "      <td>16.0</td>\n",
       "      <td>374.0</td>\n",
       "      <td>30.0</td>\n",
       "      <td>1.875000</td>\n",
       "      <td>4.0</td>\n",
       "      <td>6.0</td>\n",
       "      <td>6.0</td>\n",
       "      <td>['(ROOT\\n  (S\\n    (S\\n      (NP (NN trump) (N...</td>\n",
       "      <td>0.461039</td>\n",
       "      <td>None</td>\n",
       "    </tr>\n",
       "    <tr>\n",
       "      <th>4</th>\n",
       "      <td>president donald trump called on the u.s. post...</td>\n",
       "      <td>45.0</td>\n",
       "      <td>827.0</td>\n",
       "      <td>77.0</td>\n",
       "      <td>1.711111</td>\n",
       "      <td>8.0</td>\n",
       "      <td>21.0</td>\n",
       "      <td>16.0</td>\n",
       "      <td>['(ROOT\\n  (S\\n    (NP\\n      (NP (NN presiden...</td>\n",
       "      <td>0.450035</td>\n",
       "      <td>None</td>\n",
       "    </tr>\n",
       "  </tbody>\n",
       "</table>\n",
       "</div>"
      ],
      "text/plain": [
       "                                                text  ...  premises_conclusions\n",
       "0  the head of a conservative republican faction ...  ...                  None\n",
       "1  transgender people will be allowed for the fir...  ...                  None\n",
       "2  the special counsel investigation of links bet...  ...                  None\n",
       "3  trump campaign adviser george papadopoulos tol...  ...                  None\n",
       "4  president donald trump called on the u.s. post...  ...                  None\n",
       "\n",
       "[5 rows x 11 columns]"
      ]
     },
     "execution_count": 120,
     "metadata": {
      "tags": []
     },
     "output_type": "execute_result"
    }
   ],
   "source": [
    "df_True_text.head()"
   ]
  },
  {
   "cell_type": "code",
   "execution_count": null,
   "metadata": {
    "colab": {
     "base_uri": "https://localhost:8080/"
    },
    "id": "dG109w9zZFM3",
    "outputId": "5ae687ae-449f-4327-f81d-0af7956284b8"
   },
   "outputs": [],
   "source": [
    "#count the nb of premises and conclusions in each news by checking the number of occurences of the merkers in that news \n",
    "df_True_text['premises_conclusions'] = df_True_text['text'].apply( lambda x :  sum([x.count(i) for i in premises_conclusions])  )"
   ]
  },
  {
   "cell_type": "code",
   "execution_count": null,
   "metadata": {
    "colab": {
     "base_uri": "https://localhost:8080/",
     "height": 363
    },
    "id": "Z-KwhOpCcKq6",
    "outputId": "5f3d8882-fe75-4f07-ad39-f8c1affc9701"
   },
   "outputs": [
    {
     "data": {
      "text/html": [
       "<div>\n",
       "<style scoped>\n",
       "    .dataframe tbody tr th:only-of-type {\n",
       "        vertical-align: middle;\n",
       "    }\n",
       "\n",
       "    .dataframe tbody tr th {\n",
       "        vertical-align: top;\n",
       "    }\n",
       "\n",
       "    .dataframe thead th {\n",
       "        text-align: right;\n",
       "    }\n",
       "</style>\n",
       "<table border=\"1\" class=\"dataframe\">\n",
       "  <thead>\n",
       "    <tr style=\"text-align: right;\">\n",
       "      <th></th>\n",
       "      <th>text</th>\n",
       "      <th>numSentence</th>\n",
       "      <th>numWords</th>\n",
       "      <th>totSentiment</th>\n",
       "      <th>avgSentiment</th>\n",
       "      <th>positive_Sentiment</th>\n",
       "      <th>negative_Sentiment</th>\n",
       "      <th>neutral_Sentiment</th>\n",
       "      <th>parses</th>\n",
       "      <th>politeness</th>\n",
       "      <th>premises_conclusions</th>\n",
       "    </tr>\n",
       "  </thead>\n",
       "  <tbody>\n",
       "    <tr>\n",
       "      <th>0</th>\n",
       "      <td>the head of a conservative republican faction ...</td>\n",
       "      <td>31.0</td>\n",
       "      <td>730.0</td>\n",
       "      <td>63.0</td>\n",
       "      <td>2.032258</td>\n",
       "      <td>10.0</td>\n",
       "      <td>9.0</td>\n",
       "      <td>12.0</td>\n",
       "      <td>['(ROOT\\n  (S\\n    (NP\\n      (NP\\n        (NP...</td>\n",
       "      <td>0.456962</td>\n",
       "      <td>45</td>\n",
       "    </tr>\n",
       "    <tr>\n",
       "      <th>1</th>\n",
       "      <td>transgender people will be allowed for the fir...</td>\n",
       "      <td>22.0</td>\n",
       "      <td>614.0</td>\n",
       "      <td>38.0</td>\n",
       "      <td>1.727273</td>\n",
       "      <td>4.0</td>\n",
       "      <td>10.0</td>\n",
       "      <td>8.0</td>\n",
       "      <td>['(ROOT\\n  (S\\n    (S\\n      (NP (JJ transgend...</td>\n",
       "      <td>0.458206</td>\n",
       "      <td>23</td>\n",
       "    </tr>\n",
       "    <tr>\n",
       "      <th>2</th>\n",
       "      <td>the special counsel investigation of links bet...</td>\n",
       "      <td>19.0</td>\n",
       "      <td>452.0</td>\n",
       "      <td>39.0</td>\n",
       "      <td>2.052632</td>\n",
       "      <td>5.0</td>\n",
       "      <td>4.0</td>\n",
       "      <td>10.0</td>\n",
       "      <td>['(ROOT\\n  (S\\n    (S\\n      (NP\\n        (NP ...</td>\n",
       "      <td>0.449653</td>\n",
       "      <td>23</td>\n",
       "    </tr>\n",
       "    <tr>\n",
       "      <th>3</th>\n",
       "      <td>trump campaign adviser george papadopoulos tol...</td>\n",
       "      <td>16.0</td>\n",
       "      <td>374.0</td>\n",
       "      <td>30.0</td>\n",
       "      <td>1.875000</td>\n",
       "      <td>4.0</td>\n",
       "      <td>6.0</td>\n",
       "      <td>6.0</td>\n",
       "      <td>['(ROOT\\n  (S\\n    (S\\n      (NP (NN trump) (N...</td>\n",
       "      <td>0.461039</td>\n",
       "      <td>28</td>\n",
       "    </tr>\n",
       "    <tr>\n",
       "      <th>4</th>\n",
       "      <td>president donald trump called on the u.s. post...</td>\n",
       "      <td>45.0</td>\n",
       "      <td>827.0</td>\n",
       "      <td>77.0</td>\n",
       "      <td>1.711111</td>\n",
       "      <td>8.0</td>\n",
       "      <td>21.0</td>\n",
       "      <td>16.0</td>\n",
       "      <td>['(ROOT\\n  (S\\n    (NP\\n      (NP (NN presiden...</td>\n",
       "      <td>0.450035</td>\n",
       "      <td>47</td>\n",
       "    </tr>\n",
       "  </tbody>\n",
       "</table>\n",
       "</div>"
      ],
      "text/plain": [
       "                                                text  ...  premises_conclusions\n",
       "0  the head of a conservative republican faction ...  ...                    45\n",
       "1  transgender people will be allowed for the fir...  ...                    23\n",
       "2  the special counsel investigation of links bet...  ...                    23\n",
       "3  trump campaign adviser george papadopoulos tol...  ...                    28\n",
       "4  president donald trump called on the u.s. post...  ...                    47\n",
       "\n",
       "[5 rows x 11 columns]"
      ]
     },
     "execution_count": 198,
     "metadata": {
      "tags": []
     },
     "output_type": "execute_result"
    }
   ],
   "source": [
    "df_True_text.head()"
   ]
  },
  {
   "cell_type": "code",
   "execution_count": null,
   "metadata": {
    "id": "7Q9dyRh0huk9"
   },
   "outputs": [],
   "source": [
    "#save the dataframe\n",
    "df_True_text.to_csv(os.path.join(FEATURES_FOLDER,'df_True_text2.csv'), index=False)"
   ]
  },
  {
   "cell_type": "markdown",
   "metadata": {
    "id": "TR6gmEOwiJ1V"
   },
   "source": [
    "#### Fake news"
   ]
  },
  {
   "cell_type": "markdown",
   "metadata": {
    "id": "HOAnVHPKcsCS"
   },
   "source": [
    "We compute the number of premises and conclusions for the Fake news"
   ]
  },
  {
   "cell_type": "code",
   "execution_count": null,
   "metadata": {
    "id": "6vr2IXA7iLrN"
   },
   "outputs": [],
   "source": [
    "#add an empty column for the nb of premises and conclusions in the Fake news dataset\n",
    "df_Fake_text[['premises_conclusions']]=None"
   ]
  },
  {
   "cell_type": "code",
   "execution_count": null,
   "metadata": {
    "colab": {
     "base_uri": "https://localhost:8080/",
     "height": 635
    },
    "id": "pk2zm9WxiLum",
    "outputId": "3816eb6c-5523-4f69-bcaa-dca0522ef36e"
   },
   "outputs": [
    {
     "data": {
      "text/html": [
       "<div>\n",
       "<style scoped>\n",
       "    .dataframe tbody tr th:only-of-type {\n",
       "        vertical-align: middle;\n",
       "    }\n",
       "\n",
       "    .dataframe tbody tr th {\n",
       "        vertical-align: top;\n",
       "    }\n",
       "\n",
       "    .dataframe thead th {\n",
       "        text-align: right;\n",
       "    }\n",
       "</style>\n",
       "<table border=\"1\" class=\"dataframe\">\n",
       "  <thead>\n",
       "    <tr style=\"text-align: right;\">\n",
       "      <th></th>\n",
       "      <th>text</th>\n",
       "      <th>numSentence</th>\n",
       "      <th>numWords</th>\n",
       "      <th>totSentiment</th>\n",
       "      <th>avgSentiment</th>\n",
       "      <th>positive_Sentiment</th>\n",
       "      <th>negative_Sentiment</th>\n",
       "      <th>neutral_Sentiment</th>\n",
       "      <th>parses</th>\n",
       "      <th>politeness</th>\n",
       "      <th>premises_conclusions</th>\n",
       "    </tr>\n",
       "  </thead>\n",
       "  <tbody>\n",
       "    <tr>\n",
       "      <th>0</th>\n",
       "      <td>donald trump just couldn t wish all americans ...</td>\n",
       "      <td>27.0</td>\n",
       "      <td>462.0</td>\n",
       "      <td>52.0</td>\n",
       "      <td>1.925926</td>\n",
       "      <td>7.0</td>\n",
       "      <td>10.0</td>\n",
       "      <td>10.0</td>\n",
       "      <td>['(ROOT\\n  (S\\n    (NP\\n      (NP (JJ donald) ...</td>\n",
       "      <td>0.422506</td>\n",
       "      <td>None</td>\n",
       "    </tr>\n",
       "    <tr>\n",
       "      <th>1</th>\n",
       "      <td>house intelligence committee chairman devin nu...</td>\n",
       "      <td>10.0</td>\n",
       "      <td>308.0</td>\n",
       "      <td>12.0</td>\n",
       "      <td>1.200000</td>\n",
       "      <td>0.0</td>\n",
       "      <td>8.0</td>\n",
       "      <td>2.0</td>\n",
       "      <td>['(ROOT\\n  (S\\n    (NP (NN house) (NN intellig...</td>\n",
       "      <td>0.455562</td>\n",
       "      <td>None</td>\n",
       "    </tr>\n",
       "    <tr>\n",
       "      <th>2</th>\n",
       "      <td>on friday, it was revealed that former milwauk...</td>\n",
       "      <td>25.0</td>\n",
       "      <td>544.0</td>\n",
       "      <td>41.0</td>\n",
       "      <td>1.640000</td>\n",
       "      <td>3.0</td>\n",
       "      <td>12.0</td>\n",
       "      <td>10.0</td>\n",
       "      <td>['(ROOT\\n  (S\\n    (PP (IN on)\\n      (NP (NNP...</td>\n",
       "      <td>0.44189</td>\n",
       "      <td>None</td>\n",
       "    </tr>\n",
       "    <tr>\n",
       "      <th>3</th>\n",
       "      <td>on christmas day, donald trump announced that ...</td>\n",
       "      <td>17.0</td>\n",
       "      <td>411.0</td>\n",
       "      <td>26.0</td>\n",
       "      <td>1.529412</td>\n",
       "      <td>2.0</td>\n",
       "      <td>10.0</td>\n",
       "      <td>5.0</td>\n",
       "      <td>['(ROOT\\n  (S\\n    (PP (IN on)\\n      (NP (NNP...</td>\n",
       "      <td>0.470385</td>\n",
       "      <td>None</td>\n",
       "    </tr>\n",
       "    <tr>\n",
       "      <th>4</th>\n",
       "      <td>pope francis used his annual christmas day mes...</td>\n",
       "      <td>19.0</td>\n",
       "      <td>420.0</td>\n",
       "      <td>33.0</td>\n",
       "      <td>1.736842</td>\n",
       "      <td>6.0</td>\n",
       "      <td>11.0</td>\n",
       "      <td>2.0</td>\n",
       "      <td>['(ROOT\\n  (S\\n    (NP (NN pope) (NNS francis)...</td>\n",
       "      <td>0.45624</td>\n",
       "      <td>None</td>\n",
       "    </tr>\n",
       "  </tbody>\n",
       "</table>\n",
       "</div>"
      ],
      "text/plain": [
       "                                                text  ...  premises_conclusions\n",
       "0  donald trump just couldn t wish all americans ...  ...                  None\n",
       "1  house intelligence committee chairman devin nu...  ...                  None\n",
       "2  on friday, it was revealed that former milwauk...  ...                  None\n",
       "3  on christmas day, donald trump announced that ...  ...                  None\n",
       "4  pope francis used his annual christmas day mes...  ...                  None\n",
       "\n",
       "[5 rows x 11 columns]"
      ]
     },
     "execution_count": 38,
     "metadata": {
      "tags": []
     },
     "output_type": "execute_result"
    }
   ],
   "source": [
    "df_Fake_text.head()"
   ]
  },
  {
   "cell_type": "code",
   "execution_count": null,
   "metadata": {
    "id": "xLKKZKmLiYyz"
   },
   "outputs": [],
   "source": [
    "#count the nb of premises and conclusions in each news by checking the number of occurences of the merkers in that news \n",
    "df_Fake_text['premises_conclusions'] = df_Fake_text['text'].apply( lambda x :  sum([x.count(i) for i in premises_conclusions])  )"
   ]
  },
  {
   "cell_type": "code",
   "execution_count": null,
   "metadata": {
    "colab": {
     "base_uri": "https://localhost:8080/",
     "height": 635
    },
    "id": "hTuMdyGqid-6",
    "outputId": "724c08ba-c9c6-4d5c-b405-f861199eda12"
   },
   "outputs": [
    {
     "data": {
      "text/html": [
       "<div>\n",
       "<style scoped>\n",
       "    .dataframe tbody tr th:only-of-type {\n",
       "        vertical-align: middle;\n",
       "    }\n",
       "\n",
       "    .dataframe tbody tr th {\n",
       "        vertical-align: top;\n",
       "    }\n",
       "\n",
       "    .dataframe thead th {\n",
       "        text-align: right;\n",
       "    }\n",
       "</style>\n",
       "<table border=\"1\" class=\"dataframe\">\n",
       "  <thead>\n",
       "    <tr style=\"text-align: right;\">\n",
       "      <th></th>\n",
       "      <th>text</th>\n",
       "      <th>numSentence</th>\n",
       "      <th>numWords</th>\n",
       "      <th>totSentiment</th>\n",
       "      <th>avgSentiment</th>\n",
       "      <th>positive_Sentiment</th>\n",
       "      <th>negative_Sentiment</th>\n",
       "      <th>neutral_Sentiment</th>\n",
       "      <th>parses</th>\n",
       "      <th>politeness</th>\n",
       "      <th>premises_conclusions</th>\n",
       "    </tr>\n",
       "  </thead>\n",
       "  <tbody>\n",
       "    <tr>\n",
       "      <th>0</th>\n",
       "      <td>donald trump just couldn t wish all americans ...</td>\n",
       "      <td>27.0</td>\n",
       "      <td>462.0</td>\n",
       "      <td>52.0</td>\n",
       "      <td>1.925926</td>\n",
       "      <td>7.0</td>\n",
       "      <td>10.0</td>\n",
       "      <td>10.0</td>\n",
       "      <td>['(ROOT\\n  (S\\n    (NP\\n      (NP (JJ donald) ...</td>\n",
       "      <td>0.422506</td>\n",
       "      <td>18</td>\n",
       "    </tr>\n",
       "    <tr>\n",
       "      <th>1</th>\n",
       "      <td>house intelligence committee chairman devin nu...</td>\n",
       "      <td>10.0</td>\n",
       "      <td>308.0</td>\n",
       "      <td>12.0</td>\n",
       "      <td>1.200000</td>\n",
       "      <td>0.0</td>\n",
       "      <td>8.0</td>\n",
       "      <td>2.0</td>\n",
       "      <td>['(ROOT\\n  (S\\n    (NP (NN house) (NN intellig...</td>\n",
       "      <td>0.455562</td>\n",
       "      <td>21</td>\n",
       "    </tr>\n",
       "    <tr>\n",
       "      <th>2</th>\n",
       "      <td>on friday, it was revealed that former milwauk...</td>\n",
       "      <td>25.0</td>\n",
       "      <td>544.0</td>\n",
       "      <td>41.0</td>\n",
       "      <td>1.640000</td>\n",
       "      <td>3.0</td>\n",
       "      <td>12.0</td>\n",
       "      <td>10.0</td>\n",
       "      <td>['(ROOT\\n  (S\\n    (PP (IN on)\\n      (NP (NNP...</td>\n",
       "      <td>0.44189</td>\n",
       "      <td>20</td>\n",
       "    </tr>\n",
       "    <tr>\n",
       "      <th>3</th>\n",
       "      <td>on christmas day, donald trump announced that ...</td>\n",
       "      <td>17.0</td>\n",
       "      <td>411.0</td>\n",
       "      <td>26.0</td>\n",
       "      <td>1.529412</td>\n",
       "      <td>2.0</td>\n",
       "      <td>10.0</td>\n",
       "      <td>5.0</td>\n",
       "      <td>['(ROOT\\n  (S\\n    (PP (IN on)\\n      (NP (NNP...</td>\n",
       "      <td>0.470385</td>\n",
       "      <td>22</td>\n",
       "    </tr>\n",
       "    <tr>\n",
       "      <th>4</th>\n",
       "      <td>pope francis used his annual christmas day mes...</td>\n",
       "      <td>19.0</td>\n",
       "      <td>420.0</td>\n",
       "      <td>33.0</td>\n",
       "      <td>1.736842</td>\n",
       "      <td>6.0</td>\n",
       "      <td>11.0</td>\n",
       "      <td>2.0</td>\n",
       "      <td>['(ROOT\\n  (S\\n    (NP (NN pope) (NNS francis)...</td>\n",
       "      <td>0.45624</td>\n",
       "      <td>25</td>\n",
       "    </tr>\n",
       "  </tbody>\n",
       "</table>\n",
       "</div>"
      ],
      "text/plain": [
       "                                                text  ...  premises_conclusions\n",
       "0  donald trump just couldn t wish all americans ...  ...                    18\n",
       "1  house intelligence committee chairman devin nu...  ...                    21\n",
       "2  on friday, it was revealed that former milwauk...  ...                    20\n",
       "3  on christmas day, donald trump announced that ...  ...                    22\n",
       "4  pope francis used his annual christmas day mes...  ...                    25\n",
       "\n",
       "[5 rows x 11 columns]"
      ]
     },
     "execution_count": 42,
     "metadata": {
      "tags": []
     },
     "output_type": "execute_result"
    }
   ],
   "source": [
    "df_Fake_text.head()"
   ]
  },
  {
   "cell_type": "code",
   "execution_count": null,
   "metadata": {
    "id": "heDrKOOqieCH"
   },
   "outputs": [],
   "source": [
    "#save the dataframe\n",
    "df_Fake_text.to_csv(os.path.join(FEATURES_FOLDER,'df_Fake_text.csv'), index=False)"
   ]
  },
  {
   "cell_type": "markdown",
   "metadata": {
    "id": "d8gMiDw08pRb"
   },
   "source": [
    "### Subjectivity and Polarity\n"
   ]
  },
  {
   "cell_type": "markdown",
   "metadata": {
    "id": "19iEqtaIdm7G"
   },
   "source": [
    "Since we weren't able to compute the the sentiments of the entire dataset using the Stanford CoreNLP, we decided to use sentiment method of TextBlob that is much faster. This method computes the polarity of the news and it's subjectivity. Polarity is a float within the range [-1.0, 1.0] and Subjectivity is a float within the range [0.0, 1.0] where 0.0 is very objective and 1.0 is very subjective.\n",
    "TextBlob uses a sentiment lexicon (consisting of predefined words) to assign scores for each word, which are then averaged out using a weighted average to give an overall sentence sentiment score\n",
    "We will later convert the polarity score returned by TextBlob to a fine-grained class label (an integer) by cutting them into equal sized bins. We will compare the results of the two methods to see if they give the same predictions on average."
   ]
  },
  {
   "cell_type": "code",
   "execution_count": null,
   "metadata": {
    "colab": {
     "base_uri": "https://localhost:8080/"
    },
    "id": "fBBhzFwv8wPy",
    "outputId": "1f4ef78a-16cc-4dd3-d9db-ff073256409a"
   },
   "outputs": [
    {
     "data": {
      "text/plain": [
       "Sentiment(polarity=0.08246258885147778, subjectivity=0.5924897119341561)"
      ]
     },
     "execution_count": 73,
     "metadata": {
      "tags": []
     },
     "output_type": "execute_result"
    }
   ],
   "source": [
    "#perform a test on one entry\n",
    "testimonial = TextBlob(df_Fake_text['text'].iloc[0])\n",
    "testimonial.sentiment"
   ]
  },
  {
   "cell_type": "markdown",
   "metadata": {
    "id": "d8oGPicQ9C9U"
   },
   "source": [
    "#### True news"
   ]
  },
  {
   "cell_type": "markdown",
   "metadata": {
    "id": "Vn1nbEGefzcF"
   },
   "source": [
    "We compute the subjectivity and polarity of the True news"
   ]
  },
  {
   "cell_type": "code",
   "execution_count": null,
   "metadata": {
    "colab": {
     "base_uri": "https://localhost:8080/",
     "height": 501
    },
    "id": "810wyr_bE6q5",
    "outputId": "ada2ea86-7e1b-45c9-e075-27eaf3af6235"
   },
   "outputs": [
    {
     "data": {
      "text/html": [
       "<div>\n",
       "<style scoped>\n",
       "    .dataframe tbody tr th:only-of-type {\n",
       "        vertical-align: middle;\n",
       "    }\n",
       "\n",
       "    .dataframe tbody tr th {\n",
       "        vertical-align: top;\n",
       "    }\n",
       "\n",
       "    .dataframe thead th {\n",
       "        text-align: right;\n",
       "    }\n",
       "</style>\n",
       "<table border=\"1\" class=\"dataframe\">\n",
       "  <thead>\n",
       "    <tr style=\"text-align: right;\">\n",
       "      <th></th>\n",
       "      <th>text</th>\n",
       "      <th>numSentence</th>\n",
       "      <th>numWords</th>\n",
       "      <th>totSentiment</th>\n",
       "      <th>avgSentiment</th>\n",
       "      <th>positive_Sentiment</th>\n",
       "      <th>negative_Sentiment</th>\n",
       "      <th>neutral_Sentiment</th>\n",
       "      <th>parses</th>\n",
       "      <th>politeness</th>\n",
       "      <th>premises_conclusions</th>\n",
       "    </tr>\n",
       "  </thead>\n",
       "  <tbody>\n",
       "    <tr>\n",
       "      <th>0</th>\n",
       "      <td>the head of a conservative republican faction ...</td>\n",
       "      <td>31.0</td>\n",
       "      <td>730.0</td>\n",
       "      <td>63.0</td>\n",
       "      <td>2.032258</td>\n",
       "      <td>10.0</td>\n",
       "      <td>9.0</td>\n",
       "      <td>12.0</td>\n",
       "      <td>['(ROOT\\n  (S\\n    (NP\\n      (NP\\n        (NP...</td>\n",
       "      <td>0.456962</td>\n",
       "      <td>45</td>\n",
       "    </tr>\n",
       "    <tr>\n",
       "      <th>1</th>\n",
       "      <td>transgender people will be allowed for the fir...</td>\n",
       "      <td>22.0</td>\n",
       "      <td>614.0</td>\n",
       "      <td>38.0</td>\n",
       "      <td>1.727273</td>\n",
       "      <td>4.0</td>\n",
       "      <td>10.0</td>\n",
       "      <td>8.0</td>\n",
       "      <td>['(ROOT\\n  (S\\n    (S\\n      (NP (JJ transgend...</td>\n",
       "      <td>0.458206</td>\n",
       "      <td>23</td>\n",
       "    </tr>\n",
       "    <tr>\n",
       "      <th>2</th>\n",
       "      <td>the special counsel investigation of links bet...</td>\n",
       "      <td>19.0</td>\n",
       "      <td>452.0</td>\n",
       "      <td>39.0</td>\n",
       "      <td>2.052632</td>\n",
       "      <td>5.0</td>\n",
       "      <td>4.0</td>\n",
       "      <td>10.0</td>\n",
       "      <td>['(ROOT\\n  (S\\n    (S\\n      (NP\\n        (NP ...</td>\n",
       "      <td>0.449653</td>\n",
       "      <td>23</td>\n",
       "    </tr>\n",
       "    <tr>\n",
       "      <th>3</th>\n",
       "      <td>trump campaign adviser george papadopoulos tol...</td>\n",
       "      <td>16.0</td>\n",
       "      <td>374.0</td>\n",
       "      <td>30.0</td>\n",
       "      <td>1.875000</td>\n",
       "      <td>4.0</td>\n",
       "      <td>6.0</td>\n",
       "      <td>6.0</td>\n",
       "      <td>['(ROOT\\n  (S\\n    (S\\n      (NP (NN trump) (N...</td>\n",
       "      <td>0.461039</td>\n",
       "      <td>28</td>\n",
       "    </tr>\n",
       "    <tr>\n",
       "      <th>4</th>\n",
       "      <td>president donald trump called on the u.s. post...</td>\n",
       "      <td>45.0</td>\n",
       "      <td>827.0</td>\n",
       "      <td>77.0</td>\n",
       "      <td>1.711111</td>\n",
       "      <td>8.0</td>\n",
       "      <td>21.0</td>\n",
       "      <td>16.0</td>\n",
       "      <td>['(ROOT\\n  (S\\n    (NP\\n      (NP (NN presiden...</td>\n",
       "      <td>0.450035</td>\n",
       "      <td>47</td>\n",
       "    </tr>\n",
       "  </tbody>\n",
       "</table>\n",
       "</div>"
      ],
      "text/plain": [
       "                                                text  ...  premises_conclusions\n",
       "0  the head of a conservative republican faction ...  ...                    45\n",
       "1  transgender people will be allowed for the fir...  ...                    23\n",
       "2  the special counsel investigation of links bet...  ...                    23\n",
       "3  trump campaign adviser george papadopoulos tol...  ...                    28\n",
       "4  president donald trump called on the u.s. post...  ...                    47\n",
       "\n",
       "[5 rows x 11 columns]"
      ]
     },
     "execution_count": 86,
     "metadata": {
      "tags": []
     },
     "output_type": "execute_result"
    }
   ],
   "source": [
    "df_True_text.head()"
   ]
  },
  {
   "cell_type": "code",
   "execution_count": null,
   "metadata": {
    "id": "aFNaaK839B-F"
   },
   "outputs": [],
   "source": [
    "#add empty columns for the polarity and subjectivity\n",
    "df_True_text[['subjectivity']]= None\n",
    "df_True_text[['polarity']]= None"
   ]
  },
  {
   "cell_type": "code",
   "execution_count": null,
   "metadata": {
    "colab": {
     "base_uri": "https://localhost:8080/",
     "height": 501
    },
    "id": "xkNB23pP9MQc",
    "outputId": "17862573-a48a-4fdf-cf8b-7992782a7296"
   },
   "outputs": [
    {
     "data": {
      "text/html": [
       "<div>\n",
       "<style scoped>\n",
       "    .dataframe tbody tr th:only-of-type {\n",
       "        vertical-align: middle;\n",
       "    }\n",
       "\n",
       "    .dataframe tbody tr th {\n",
       "        vertical-align: top;\n",
       "    }\n",
       "\n",
       "    .dataframe thead th {\n",
       "        text-align: right;\n",
       "    }\n",
       "</style>\n",
       "<table border=\"1\" class=\"dataframe\">\n",
       "  <thead>\n",
       "    <tr style=\"text-align: right;\">\n",
       "      <th></th>\n",
       "      <th>text</th>\n",
       "      <th>numSentence</th>\n",
       "      <th>numWords</th>\n",
       "      <th>totSentiment</th>\n",
       "      <th>avgSentiment</th>\n",
       "      <th>positive_Sentiment</th>\n",
       "      <th>negative_Sentiment</th>\n",
       "      <th>neutral_Sentiment</th>\n",
       "      <th>parses</th>\n",
       "      <th>politeness</th>\n",
       "      <th>premises_conclusions</th>\n",
       "      <th>subjectivity</th>\n",
       "      <th>polarity</th>\n",
       "    </tr>\n",
       "  </thead>\n",
       "  <tbody>\n",
       "    <tr>\n",
       "      <th>0</th>\n",
       "      <td>the head of a conservative republican faction ...</td>\n",
       "      <td>31.0</td>\n",
       "      <td>730.0</td>\n",
       "      <td>63.0</td>\n",
       "      <td>2.032258</td>\n",
       "      <td>10.0</td>\n",
       "      <td>9.0</td>\n",
       "      <td>12.0</td>\n",
       "      <td>['(ROOT\\n  (S\\n    (NP\\n      (NP\\n        (NP...</td>\n",
       "      <td>0.456962</td>\n",
       "      <td>45</td>\n",
       "      <td>None</td>\n",
       "      <td>None</td>\n",
       "    </tr>\n",
       "    <tr>\n",
       "      <th>1</th>\n",
       "      <td>transgender people will be allowed for the fir...</td>\n",
       "      <td>22.0</td>\n",
       "      <td>614.0</td>\n",
       "      <td>38.0</td>\n",
       "      <td>1.727273</td>\n",
       "      <td>4.0</td>\n",
       "      <td>10.0</td>\n",
       "      <td>8.0</td>\n",
       "      <td>['(ROOT\\n  (S\\n    (S\\n      (NP (JJ transgend...</td>\n",
       "      <td>0.458206</td>\n",
       "      <td>23</td>\n",
       "      <td>None</td>\n",
       "      <td>None</td>\n",
       "    </tr>\n",
       "    <tr>\n",
       "      <th>2</th>\n",
       "      <td>the special counsel investigation of links bet...</td>\n",
       "      <td>19.0</td>\n",
       "      <td>452.0</td>\n",
       "      <td>39.0</td>\n",
       "      <td>2.052632</td>\n",
       "      <td>5.0</td>\n",
       "      <td>4.0</td>\n",
       "      <td>10.0</td>\n",
       "      <td>['(ROOT\\n  (S\\n    (S\\n      (NP\\n        (NP ...</td>\n",
       "      <td>0.449653</td>\n",
       "      <td>23</td>\n",
       "      <td>None</td>\n",
       "      <td>None</td>\n",
       "    </tr>\n",
       "    <tr>\n",
       "      <th>3</th>\n",
       "      <td>trump campaign adviser george papadopoulos tol...</td>\n",
       "      <td>16.0</td>\n",
       "      <td>374.0</td>\n",
       "      <td>30.0</td>\n",
       "      <td>1.875000</td>\n",
       "      <td>4.0</td>\n",
       "      <td>6.0</td>\n",
       "      <td>6.0</td>\n",
       "      <td>['(ROOT\\n  (S\\n    (S\\n      (NP (NN trump) (N...</td>\n",
       "      <td>0.461039</td>\n",
       "      <td>28</td>\n",
       "      <td>None</td>\n",
       "      <td>None</td>\n",
       "    </tr>\n",
       "    <tr>\n",
       "      <th>4</th>\n",
       "      <td>president donald trump called on the u.s. post...</td>\n",
       "      <td>45.0</td>\n",
       "      <td>827.0</td>\n",
       "      <td>77.0</td>\n",
       "      <td>1.711111</td>\n",
       "      <td>8.0</td>\n",
       "      <td>21.0</td>\n",
       "      <td>16.0</td>\n",
       "      <td>['(ROOT\\n  (S\\n    (NP\\n      (NP (NN presiden...</td>\n",
       "      <td>0.450035</td>\n",
       "      <td>47</td>\n",
       "      <td>None</td>\n",
       "      <td>None</td>\n",
       "    </tr>\n",
       "  </tbody>\n",
       "</table>\n",
       "</div>"
      ],
      "text/plain": [
       "                                                text  ...  polarity\n",
       "0  the head of a conservative republican faction ...  ...      None\n",
       "1  transgender people will be allowed for the fir...  ...      None\n",
       "2  the special counsel investigation of links bet...  ...      None\n",
       "3  trump campaign adviser george papadopoulos tol...  ...      None\n",
       "4  president donald trump called on the u.s. post...  ...      None\n",
       "\n",
       "[5 rows x 13 columns]"
      ]
     },
     "execution_count": 89,
     "metadata": {
      "tags": []
     },
     "output_type": "execute_result"
    }
   ],
   "source": [
    "df_True_text.head()"
   ]
  },
  {
   "cell_type": "code",
   "execution_count": null,
   "metadata": {
    "colab": {
     "base_uri": "https://localhost:8080/"
    },
    "id": "vr0EFEhc9VZz",
    "outputId": "f11c2d5b-3ae0-436b-fa32-03bfc5ae493d"
   },
   "outputs": [],
   "source": [
    "#for each news compute and store the polarity and subjectivity\n",
    "for i in range( len(df_True_text)):\n",
    "    sentiment = TextBlob(df_True_text['text'].iloc[i]).sentiment\n",
    "    df_True_text['polarity'].iloc[i]= sentiment.polarity\n",
    "    df_True_text['subjectivity'].iloc[i] = sentiment.subjectivity"
   ]
  },
  {
   "cell_type": "code",
   "execution_count": null,
   "metadata": {
    "colab": {
     "base_uri": "https://localhost:8080/",
     "height": 501
    },
    "id": "J0wqu6RK9ioq",
    "outputId": "d87713dd-a2c1-4f0e-c544-81e6856e7f6a"
   },
   "outputs": [
    {
     "data": {
      "text/html": [
       "<div>\n",
       "<style scoped>\n",
       "    .dataframe tbody tr th:only-of-type {\n",
       "        vertical-align: middle;\n",
       "    }\n",
       "\n",
       "    .dataframe tbody tr th {\n",
       "        vertical-align: top;\n",
       "    }\n",
       "\n",
       "    .dataframe thead th {\n",
       "        text-align: right;\n",
       "    }\n",
       "</style>\n",
       "<table border=\"1\" class=\"dataframe\">\n",
       "  <thead>\n",
       "    <tr style=\"text-align: right;\">\n",
       "      <th></th>\n",
       "      <th>text</th>\n",
       "      <th>numSentence</th>\n",
       "      <th>numWords</th>\n",
       "      <th>totSentiment</th>\n",
       "      <th>avgSentiment</th>\n",
       "      <th>positive_Sentiment</th>\n",
       "      <th>negative_Sentiment</th>\n",
       "      <th>neutral_Sentiment</th>\n",
       "      <th>parses</th>\n",
       "      <th>politeness</th>\n",
       "      <th>premises_conclusions</th>\n",
       "      <th>subjectivity</th>\n",
       "      <th>polarity</th>\n",
       "    </tr>\n",
       "  </thead>\n",
       "  <tbody>\n",
       "    <tr>\n",
       "      <th>0</th>\n",
       "      <td>the head of a conservative republican faction ...</td>\n",
       "      <td>31.0</td>\n",
       "      <td>730.0</td>\n",
       "      <td>63.0</td>\n",
       "      <td>2.032258</td>\n",
       "      <td>10.0</td>\n",
       "      <td>9.0</td>\n",
       "      <td>12.0</td>\n",
       "      <td>['(ROOT\\n  (S\\n    (NP\\n      (NP\\n        (NP...</td>\n",
       "      <td>0.456962</td>\n",
       "      <td>45</td>\n",
       "      <td>0.41025</td>\n",
       "      <td>0.0370833</td>\n",
       "    </tr>\n",
       "    <tr>\n",
       "      <th>1</th>\n",
       "      <td>transgender people will be allowed for the fir...</td>\n",
       "      <td>22.0</td>\n",
       "      <td>614.0</td>\n",
       "      <td>38.0</td>\n",
       "      <td>1.727273</td>\n",
       "      <td>4.0</td>\n",
       "      <td>10.0</td>\n",
       "      <td>8.0</td>\n",
       "      <td>['(ROOT\\n  (S\\n    (S\\n      (NP (JJ transgend...</td>\n",
       "      <td>0.458206</td>\n",
       "      <td>23</td>\n",
       "      <td>0.308401</td>\n",
       "      <td>0.0443537</td>\n",
       "    </tr>\n",
       "    <tr>\n",
       "      <th>2</th>\n",
       "      <td>the special counsel investigation of links bet...</td>\n",
       "      <td>19.0</td>\n",
       "      <td>452.0</td>\n",
       "      <td>39.0</td>\n",
       "      <td>2.052632</td>\n",
       "      <td>5.0</td>\n",
       "      <td>4.0</td>\n",
       "      <td>10.0</td>\n",
       "      <td>['(ROOT\\n  (S\\n    (S\\n      (NP\\n        (NP ...</td>\n",
       "      <td>0.449653</td>\n",
       "      <td>23</td>\n",
       "      <td>0.316798</td>\n",
       "      <td>0.11593</td>\n",
       "    </tr>\n",
       "    <tr>\n",
       "      <th>3</th>\n",
       "      <td>trump campaign adviser george papadopoulos tol...</td>\n",
       "      <td>16.0</td>\n",
       "      <td>374.0</td>\n",
       "      <td>30.0</td>\n",
       "      <td>1.875000</td>\n",
       "      <td>4.0</td>\n",
       "      <td>6.0</td>\n",
       "      <td>6.0</td>\n",
       "      <td>['(ROOT\\n  (S\\n    (S\\n      (NP (NN trump) (N...</td>\n",
       "      <td>0.461039</td>\n",
       "      <td>28</td>\n",
       "      <td>0.306569</td>\n",
       "      <td>0.0359684</td>\n",
       "    </tr>\n",
       "    <tr>\n",
       "      <th>4</th>\n",
       "      <td>president donald trump called on the u.s. post...</td>\n",
       "      <td>45.0</td>\n",
       "      <td>827.0</td>\n",
       "      <td>77.0</td>\n",
       "      <td>1.711111</td>\n",
       "      <td>8.0</td>\n",
       "      <td>21.0</td>\n",
       "      <td>16.0</td>\n",
       "      <td>['(ROOT\\n  (S\\n    (NP\\n      (NP (NN presiden...</td>\n",
       "      <td>0.450035</td>\n",
       "      <td>47</td>\n",
       "      <td>0.398611</td>\n",
       "      <td>0.0343216</td>\n",
       "    </tr>\n",
       "  </tbody>\n",
       "</table>\n",
       "</div>"
      ],
      "text/plain": [
       "                                                text  ...   polarity\n",
       "0  the head of a conservative republican faction ...  ...  0.0370833\n",
       "1  transgender people will be allowed for the fir...  ...  0.0443537\n",
       "2  the special counsel investigation of links bet...  ...    0.11593\n",
       "3  trump campaign adviser george papadopoulos tol...  ...  0.0359684\n",
       "4  president donald trump called on the u.s. post...  ...  0.0343216\n",
       "\n",
       "[5 rows x 13 columns]"
      ]
     },
     "execution_count": 91,
     "metadata": {
      "tags": []
     },
     "output_type": "execute_result"
    }
   ],
   "source": [
    "df_True_text.head()"
   ]
  },
  {
   "cell_type": "code",
   "execution_count": null,
   "metadata": {
    "id": "dmicMuMR9kA9"
   },
   "outputs": [],
   "source": [
    "#save the dataframe\n",
    "df_True_text.to_csv(os.path.join(FEATURES_FOLDER,'df_True_text2.csv'), index=False)"
   ]
  },
  {
   "cell_type": "markdown",
   "metadata": {
    "id": "Xmg31SE79E6G"
   },
   "source": [
    "#### Fake news"
   ]
  },
  {
   "cell_type": "markdown",
   "metadata": {
    "id": "JI-ELXIogguz"
   },
   "source": [
    "We compute the subjectivity and polarity of the True news"
   ]
  },
  {
   "cell_type": "code",
   "execution_count": null,
   "metadata": {
    "id": "dYVUQZyM9GyF"
   },
   "outputs": [],
   "source": [
    "#add empty columns for the polarity and subjectivity\n",
    "df_Fake_text[['subjectivity']]= None\n",
    "df_Fake_text[['polarity']]= None"
   ]
  },
  {
   "cell_type": "code",
   "execution_count": null,
   "metadata": {
    "colab": {
     "base_uri": "https://localhost:8080/",
     "height": 635
    },
    "id": "c_eXQUEP9Pza",
    "outputId": "d3f69516-a609-41d6-9b56-43dc49cae26e"
   },
   "outputs": [
    {
     "data": {
      "text/html": [
       "<div>\n",
       "<style scoped>\n",
       "    .dataframe tbody tr th:only-of-type {\n",
       "        vertical-align: middle;\n",
       "    }\n",
       "\n",
       "    .dataframe tbody tr th {\n",
       "        vertical-align: top;\n",
       "    }\n",
       "\n",
       "    .dataframe thead th {\n",
       "        text-align: right;\n",
       "    }\n",
       "</style>\n",
       "<table border=\"1\" class=\"dataframe\">\n",
       "  <thead>\n",
       "    <tr style=\"text-align: right;\">\n",
       "      <th></th>\n",
       "      <th>text</th>\n",
       "      <th>numSentence</th>\n",
       "      <th>numWords</th>\n",
       "      <th>totSentiment</th>\n",
       "      <th>avgSentiment</th>\n",
       "      <th>positive_Sentiment</th>\n",
       "      <th>negative_Sentiment</th>\n",
       "      <th>neutral_Sentiment</th>\n",
       "      <th>parses</th>\n",
       "      <th>politeness</th>\n",
       "      <th>premises_conclusions</th>\n",
       "      <th>subjectivity</th>\n",
       "      <th>polarity</th>\n",
       "    </tr>\n",
       "  </thead>\n",
       "  <tbody>\n",
       "    <tr>\n",
       "      <th>0</th>\n",
       "      <td>donald trump just couldn t wish all americans ...</td>\n",
       "      <td>27.0</td>\n",
       "      <td>462.0</td>\n",
       "      <td>52.0</td>\n",
       "      <td>1.925926</td>\n",
       "      <td>7.0</td>\n",
       "      <td>10.0</td>\n",
       "      <td>10.0</td>\n",
       "      <td>['(ROOT\\n  (S\\n    (NP\\n      (NP (JJ donald) ...</td>\n",
       "      <td>0.422506</td>\n",
       "      <td>18</td>\n",
       "      <td>None</td>\n",
       "      <td>None</td>\n",
       "    </tr>\n",
       "    <tr>\n",
       "      <th>1</th>\n",
       "      <td>house intelligence committee chairman devin nu...</td>\n",
       "      <td>10.0</td>\n",
       "      <td>308.0</td>\n",
       "      <td>12.0</td>\n",
       "      <td>1.200000</td>\n",
       "      <td>0.0</td>\n",
       "      <td>8.0</td>\n",
       "      <td>2.0</td>\n",
       "      <td>['(ROOT\\n  (S\\n    (NP (NN house) (NN intellig...</td>\n",
       "      <td>0.455562</td>\n",
       "      <td>21</td>\n",
       "      <td>None</td>\n",
       "      <td>None</td>\n",
       "    </tr>\n",
       "    <tr>\n",
       "      <th>2</th>\n",
       "      <td>on friday, it was revealed that former milwauk...</td>\n",
       "      <td>25.0</td>\n",
       "      <td>544.0</td>\n",
       "      <td>41.0</td>\n",
       "      <td>1.640000</td>\n",
       "      <td>3.0</td>\n",
       "      <td>12.0</td>\n",
       "      <td>10.0</td>\n",
       "      <td>['(ROOT\\n  (S\\n    (PP (IN on)\\n      (NP (NNP...</td>\n",
       "      <td>0.44189</td>\n",
       "      <td>20</td>\n",
       "      <td>None</td>\n",
       "      <td>None</td>\n",
       "    </tr>\n",
       "    <tr>\n",
       "      <th>3</th>\n",
       "      <td>on christmas day, donald trump announced that ...</td>\n",
       "      <td>17.0</td>\n",
       "      <td>411.0</td>\n",
       "      <td>26.0</td>\n",
       "      <td>1.529412</td>\n",
       "      <td>2.0</td>\n",
       "      <td>10.0</td>\n",
       "      <td>5.0</td>\n",
       "      <td>['(ROOT\\n  (S\\n    (PP (IN on)\\n      (NP (NNP...</td>\n",
       "      <td>0.470385</td>\n",
       "      <td>22</td>\n",
       "      <td>None</td>\n",
       "      <td>None</td>\n",
       "    </tr>\n",
       "    <tr>\n",
       "      <th>4</th>\n",
       "      <td>pope francis used his annual christmas day mes...</td>\n",
       "      <td>19.0</td>\n",
       "      <td>420.0</td>\n",
       "      <td>33.0</td>\n",
       "      <td>1.736842</td>\n",
       "      <td>6.0</td>\n",
       "      <td>11.0</td>\n",
       "      <td>2.0</td>\n",
       "      <td>['(ROOT\\n  (S\\n    (NP (NN pope) (NNS francis)...</td>\n",
       "      <td>0.45624</td>\n",
       "      <td>25</td>\n",
       "      <td>None</td>\n",
       "      <td>None</td>\n",
       "    </tr>\n",
       "  </tbody>\n",
       "</table>\n",
       "</div>"
      ],
      "text/plain": [
       "                                                text  ...  polarity\n",
       "0  donald trump just couldn t wish all americans ...  ...      None\n",
       "1  house intelligence committee chairman devin nu...  ...      None\n",
       "2  on friday, it was revealed that former milwauk...  ...      None\n",
       "3  on christmas day, donald trump announced that ...  ...      None\n",
       "4  pope francis used his annual christmas day mes...  ...      None\n",
       "\n",
       "[5 rows x 13 columns]"
      ]
     },
     "execution_count": 78,
     "metadata": {
      "tags": []
     },
     "output_type": "execute_result"
    }
   ],
   "source": [
    "df_Fake_text.head()"
   ]
  },
  {
   "cell_type": "code",
   "execution_count": null,
   "metadata": {
    "colab": {
     "base_uri": "https://localhost:8080/"
    },
    "id": "6vwiT-V-Djqq",
    "outputId": "e1705f63-a2c2-4015-d5d5-c582d536d049"
   },
   "outputs": [],
   "source": [
    "#for each news compute and store the polarity and subjectivity\n",
    "for i in range( len(df_Fake_text)):\n",
    "    sentiment = TextBlob(df_Fake_text['text'].iloc[i]).sentiment\n",
    "    df_Fake_text['polarity'].iloc[i]= sentiment.polarity\n",
    "    df_Fake_text['subjectivity'].iloc[i] = sentiment.subjectivity"
   ]
  },
  {
   "cell_type": "code",
   "execution_count": null,
   "metadata": {
    "colab": {
     "base_uri": "https://localhost:8080/",
     "height": 635
    },
    "id": "syCgiRCE9oS-",
    "outputId": "e47b6e00-967e-45ba-b93a-5994c342188b"
   },
   "outputs": [
    {
     "data": {
      "text/html": [
       "<div>\n",
       "<style scoped>\n",
       "    .dataframe tbody tr th:only-of-type {\n",
       "        vertical-align: middle;\n",
       "    }\n",
       "\n",
       "    .dataframe tbody tr th {\n",
       "        vertical-align: top;\n",
       "    }\n",
       "\n",
       "    .dataframe thead th {\n",
       "        text-align: right;\n",
       "    }\n",
       "</style>\n",
       "<table border=\"1\" class=\"dataframe\">\n",
       "  <thead>\n",
       "    <tr style=\"text-align: right;\">\n",
       "      <th></th>\n",
       "      <th>text</th>\n",
       "      <th>numSentence</th>\n",
       "      <th>numWords</th>\n",
       "      <th>totSentiment</th>\n",
       "      <th>avgSentiment</th>\n",
       "      <th>positive_Sentiment</th>\n",
       "      <th>negative_Sentiment</th>\n",
       "      <th>neutral_Sentiment</th>\n",
       "      <th>parses</th>\n",
       "      <th>politeness</th>\n",
       "      <th>premises_conclusions</th>\n",
       "      <th>subjectivity</th>\n",
       "      <th>polarity</th>\n",
       "    </tr>\n",
       "  </thead>\n",
       "  <tbody>\n",
       "    <tr>\n",
       "      <th>0</th>\n",
       "      <td>donald trump just couldn t wish all americans ...</td>\n",
       "      <td>27.0</td>\n",
       "      <td>462.0</td>\n",
       "      <td>52.0</td>\n",
       "      <td>1.925926</td>\n",
       "      <td>7.0</td>\n",
       "      <td>10.0</td>\n",
       "      <td>10.0</td>\n",
       "      <td>['(ROOT\\n  (S\\n    (NP\\n      (NP (JJ donald) ...</td>\n",
       "      <td>0.422506</td>\n",
       "      <td>18</td>\n",
       "      <td>0.59249</td>\n",
       "      <td>0.0824626</td>\n",
       "    </tr>\n",
       "    <tr>\n",
       "      <th>1</th>\n",
       "      <td>house intelligence committee chairman devin nu...</td>\n",
       "      <td>10.0</td>\n",
       "      <td>308.0</td>\n",
       "      <td>12.0</td>\n",
       "      <td>1.200000</td>\n",
       "      <td>0.0</td>\n",
       "      <td>8.0</td>\n",
       "      <td>2.0</td>\n",
       "      <td>['(ROOT\\n  (S\\n    (NP (NN house) (NN intellig...</td>\n",
       "      <td>0.455562</td>\n",
       "      <td>21</td>\n",
       "      <td>0.334098</td>\n",
       "      <td>-0.00500448</td>\n",
       "    </tr>\n",
       "    <tr>\n",
       "      <th>2</th>\n",
       "      <td>on friday, it was revealed that former milwauk...</td>\n",
       "      <td>25.0</td>\n",
       "      <td>544.0</td>\n",
       "      <td>41.0</td>\n",
       "      <td>1.640000</td>\n",
       "      <td>3.0</td>\n",
       "      <td>12.0</td>\n",
       "      <td>10.0</td>\n",
       "      <td>['(ROOT\\n  (S\\n    (PP (IN on)\\n      (NP (NNP...</td>\n",
       "      <td>0.44189</td>\n",
       "      <td>20</td>\n",
       "      <td>0.542352</td>\n",
       "      <td>0.00967144</td>\n",
       "    </tr>\n",
       "    <tr>\n",
       "      <th>3</th>\n",
       "      <td>on christmas day, donald trump announced that ...</td>\n",
       "      <td>17.0</td>\n",
       "      <td>411.0</td>\n",
       "      <td>26.0</td>\n",
       "      <td>1.529412</td>\n",
       "      <td>2.0</td>\n",
       "      <td>10.0</td>\n",
       "      <td>5.0</td>\n",
       "      <td>['(ROOT\\n  (S\\n    (PP (IN on)\\n      (NP (NNP...</td>\n",
       "      <td>0.470385</td>\n",
       "      <td>22</td>\n",
       "      <td>0.372581</td>\n",
       "      <td>0.00913978</td>\n",
       "    </tr>\n",
       "    <tr>\n",
       "      <th>4</th>\n",
       "      <td>pope francis used his annual christmas day mes...</td>\n",
       "      <td>19.0</td>\n",
       "      <td>420.0</td>\n",
       "      <td>33.0</td>\n",
       "      <td>1.736842</td>\n",
       "      <td>6.0</td>\n",
       "      <td>11.0</td>\n",
       "      <td>2.0</td>\n",
       "      <td>['(ROOT\\n  (S\\n    (NP (NN pope) (NNS francis)...</td>\n",
       "      <td>0.45624</td>\n",
       "      <td>25</td>\n",
       "      <td>0.495222</td>\n",
       "      <td>-0.0117222</td>\n",
       "    </tr>\n",
       "  </tbody>\n",
       "</table>\n",
       "</div>"
      ],
      "text/plain": [
       "                                                text  ...    polarity\n",
       "0  donald trump just couldn t wish all americans ...  ...   0.0824626\n",
       "1  house intelligence committee chairman devin nu...  ... -0.00500448\n",
       "2  on friday, it was revealed that former milwauk...  ...  0.00967144\n",
       "3  on christmas day, donald trump announced that ...  ...  0.00913978\n",
       "4  pope francis used his annual christmas day mes...  ...  -0.0117222\n",
       "\n",
       "[5 rows x 13 columns]"
      ]
     },
     "execution_count": 82,
     "metadata": {
      "tags": []
     },
     "output_type": "execute_result"
    }
   ],
   "source": [
    "df_Fake_text.head()"
   ]
  },
  {
   "cell_type": "code",
   "execution_count": null,
   "metadata": {
    "id": "P7jAoLjT9tR0"
   },
   "outputs": [],
   "source": [
    "#save the dataframe\n",
    "df_Fake_text.to_csv(os.path.join(FEATURES_FOLDER,'df_Fake_text.csv'), index=False)"
   ]
  },
  {
   "cell_type": "markdown",
   "metadata": {
    "id": "PBGMdjTGyg6p"
   },
   "source": [
    "### Expansion, contingency and comparison  "
   ]
  },
  {
   "cell_type": "markdown",
   "metadata": {
    "id": "guAnlP2pHQLM"
   },
   "source": [
    "Compute the expansion, contingency and comparison   for the two datasets. \n",
    "\n",
    "\n",
    "The discourse markers were collected from various websites on the internet to get the most representative sets. We also combined them with the extracted features from the diplomacy dataset."
   ]
  },
  {
   "cell_type": "code",
   "execution_count": null,
   "metadata": {
    "id": "4vmPRwOIynr8"
   },
   "outputs": [],
   "source": [
    "#expansion markers \n",
    "expansion = set( ['generally', 'thereafter', 'perhaps', 'certainly', 'by', 'meantime', 'separately', 'surely', 'amazingly', \n",
    "'conversly', 'by then', 'typically', 'historically', 'collectively', 'initially', 'then', 'namely', 'unsurprisingly', \n",
    "'ironically', 'in turn', 'supposedly', 'evidently', 'originally', 'this', 'ultimately', 'because of that', 'nontheless', \n",
    "'together', 'especially', 'still', 'realistically', 'theoretically', 'normally', 'technically', 'so', 'frankly', \n",
    "'simultaneously', 'presumably', 'clearly', 'yet', 'naturally', 'coincidentally', 'in the meantime', 'curiously', 'now',\n",
    "'admittedly', 'meaning', 'immediately', 'previously', 'currently', 'but', 'again', 'absolutely', 'and', 'or', 'probably', \n",
    "'well' ])\n",
    "\n",
    "#diplomacy expansion markers\n",
    "expansion_diplomacy = {'additionally',\n",
    " 'also',\n",
    " 'alternatively',\n",
    " 'although',\n",
    " 'as an alternative',\n",
    " 'as if',\n",
    " 'as though',\n",
    " 'as well',\n",
    " 'besides',\n",
    " 'either or',\n",
    " 'else',\n",
    " 'except',\n",
    " 'finally',\n",
    " 'for example',\n",
    " 'for instance',\n",
    " 'further',\n",
    " 'furthermore',\n",
    " 'however',\n",
    " 'in addition',\n",
    " 'in fact',\n",
    " 'in other words',\n",
    " 'in particular',\n",
    " 'in short',\n",
    " 'in the end',\n",
    " 'in turn',\n",
    " 'indeed',\n",
    " 'instead',\n",
    " 'later',\n",
    " 'lest',\n",
    " 'likewise',\n",
    " 'meantime',\n",
    " 'meanwhile',\n",
    " 'moreover',\n",
    " 'much as',\n",
    " 'next',\n",
    " 'nonetheless',\n",
    " 'nor',\n",
    " 'on the other hand',\n",
    " 'otherwise',\n",
    " 'overall',\n",
    " 'plus',\n",
    " 'rather',\n",
    " 'separately',\n",
    " 'similarly',\n",
    " 'specifically',\n",
    " 'then',\n",
    " 'ultimately',\n",
    " 'unless',\n",
    " 'until',\n",
    " 'when',\n",
    " 'while',\n",
    " 'yet'}\n",
    "\n",
    "#combined epansion sets\n",
    "expansion = expansion | expansion_diplomacy"
   ]
  },
  {
   "cell_type": "code",
   "execution_count": null,
   "metadata": {
    "colab": {
     "base_uri": "https://localhost:8080/"
    },
    "id": "R5txRgolC_D2",
    "outputId": "97abeed3-32f9-456d-c19c-ad8a5d5833e8"
   },
   "outputs": [
    {
     "data": {
      "text/plain": [
       "{'absolutely',\n",
       " 'additionally',\n",
       " 'admittedly',\n",
       " 'again',\n",
       " 'also',\n",
       " 'alternatively',\n",
       " 'although',\n",
       " 'amazingly',\n",
       " 'and',\n",
       " 'as an alternative',\n",
       " 'as if',\n",
       " 'as though',\n",
       " 'as well',\n",
       " 'because of that',\n",
       " 'besides',\n",
       " 'but',\n",
       " 'by',\n",
       " 'by then',\n",
       " 'certainly',\n",
       " 'clearly',\n",
       " 'coincidentally',\n",
       " 'collectively',\n",
       " 'conversly',\n",
       " 'curiously',\n",
       " 'currently',\n",
       " 'either or',\n",
       " 'else',\n",
       " 'especially',\n",
       " 'evidently',\n",
       " 'except',\n",
       " 'finally',\n",
       " 'for example',\n",
       " 'for instance',\n",
       " 'frankly',\n",
       " 'further',\n",
       " 'furthermore',\n",
       " 'generally',\n",
       " 'historically',\n",
       " 'however',\n",
       " 'immediately',\n",
       " 'in addition',\n",
       " 'in fact',\n",
       " 'in other words',\n",
       " 'in particular',\n",
       " 'in short',\n",
       " 'in the end',\n",
       " 'in the meantime',\n",
       " 'in turn',\n",
       " 'indeed',\n",
       " 'initially',\n",
       " 'instead',\n",
       " 'ironically',\n",
       " 'later',\n",
       " 'lest',\n",
       " 'likewise',\n",
       " 'meaning',\n",
       " 'meantime',\n",
       " 'meanwhile',\n",
       " 'moreover',\n",
       " 'much as',\n",
       " 'namely',\n",
       " 'naturally',\n",
       " 'next',\n",
       " 'nonetheless',\n",
       " 'nontheless',\n",
       " 'nor',\n",
       " 'normally',\n",
       " 'now',\n",
       " 'on the other hand',\n",
       " 'or',\n",
       " 'originally',\n",
       " 'otherwise',\n",
       " 'overall',\n",
       " 'perhaps',\n",
       " 'plus',\n",
       " 'presumably',\n",
       " 'previously',\n",
       " 'probably',\n",
       " 'rather',\n",
       " 'realistically',\n",
       " 'separately',\n",
       " 'similarly',\n",
       " 'simultaneously',\n",
       " 'so',\n",
       " 'specifically',\n",
       " 'still',\n",
       " 'supposedly',\n",
       " 'surely',\n",
       " 'technically',\n",
       " 'then',\n",
       " 'theoretically',\n",
       " 'thereafter',\n",
       " 'this',\n",
       " 'together',\n",
       " 'typically',\n",
       " 'ultimately',\n",
       " 'unless',\n",
       " 'unsurprisingly',\n",
       " 'until',\n",
       " 'well',\n",
       " 'when',\n",
       " 'while',\n",
       " 'yet'}"
      ]
     },
     "execution_count": 120,
     "metadata": {
      "tags": []
     },
     "output_type": "execute_result"
    }
   ],
   "source": [
    "#explore the expansion markers\n",
    "expansion"
   ]
  },
  {
   "cell_type": "code",
   "execution_count": null,
   "metadata": {
    "id": "fuBAtVc9DCk8"
   },
   "outputs": [],
   "source": [
    "#contingency set\n",
    "contingency= set( [ 'by doing this', 'theoretically', 'realistically', 'so', 'clearly', 'because of that', 'surely', \n",
    "'in sum', 'frankly', 'perhaps','inevitably', 'obviously', 'certainly', 'immediately', 'in short', 'in turn', \n",
    "'increasingly', 'naturally', 'as a result', 'admittedly', 'moreover', 'evidently', 'namely', 'already', 'meaning', \n",
    "'presumably', 'in other words', 'in the meantime', 'now', 'by then', 'on the contrary', 'ultimately', \n",
    "'unfortunately', 'historically', 'undoubtedly', 'ironically', 'supposedly', 'yet', 'presently', 'nontheless', \n",
    "'still', 'indeed', 'essentially', 'arguably', 'rather', 'and', 'personally', 'instead', 'in fact', 'altogether', \n",
    "'meantime', 'colllectively', 'unsurprisingly', 'then', 'originally', 'significantly', 'for instance', 'currently', \n",
    "'separately', 'by contrast', 'initially', 'notably', 'meanwhile' ])\n",
    "\n",
    "#diplomacy contingency set\n",
    "contingency_diplomacy = {'accordingly',\n",
    " 'as a result',\n",
    " 'as long as',\n",
    " 'because',\n",
    " 'consequently',\n",
    " 'hence',\n",
    " 'if and when',\n",
    " 'if then',\n",
    " 'in the end',\n",
    " 'in turn',\n",
    " 'indeed',\n",
    " 'insofar as',\n",
    " 'lest',\n",
    " 'now that',\n",
    " 'once',\n",
    " 'since',\n",
    " 'so that',\n",
    " 'then',\n",
    " 'thereby',\n",
    " 'therefore',\n",
    " 'thus',\n",
    " 'unless',\n",
    " 'until',\n",
    " 'when'}\n",
    "\n",
    "#contingency combined set\n",
    "contingency= contingency | contingency_diplomacy\n"
   ]
  },
  {
   "cell_type": "code",
   "execution_count": null,
   "metadata": {
    "colab": {
     "base_uri": "https://localhost:8080/"
    },
    "id": "C0oRi7YuENXM",
    "outputId": "f2340acd-6b4f-464c-fddf-28ae8dbb3afb"
   },
   "outputs": [
    {
     "data": {
      "text/plain": [
       "{'accordingly',\n",
       " 'admittedly',\n",
       " 'already',\n",
       " 'altogether',\n",
       " 'and',\n",
       " 'arguably',\n",
       " 'as a result',\n",
       " 'as long as',\n",
       " 'because',\n",
       " 'because of that',\n",
       " 'by contrast',\n",
       " 'by doing this',\n",
       " 'by then',\n",
       " 'certainly',\n",
       " 'clearly',\n",
       " 'colllectively',\n",
       " 'consequently',\n",
       " 'currently',\n",
       " 'essentially',\n",
       " 'evidently',\n",
       " 'for instance',\n",
       " 'frankly',\n",
       " 'hence',\n",
       " 'historically',\n",
       " 'if and when',\n",
       " 'if then',\n",
       " 'immediately',\n",
       " 'in fact',\n",
       " 'in other words',\n",
       " 'in short',\n",
       " 'in sum',\n",
       " 'in the end',\n",
       " 'in the meantime',\n",
       " 'in turn',\n",
       " 'increasingly',\n",
       " 'indeed',\n",
       " 'inevitably',\n",
       " 'initially',\n",
       " 'insofar as',\n",
       " 'instead',\n",
       " 'ironically',\n",
       " 'lest',\n",
       " 'meaning',\n",
       " 'meantime',\n",
       " 'meanwhile',\n",
       " 'moreover',\n",
       " 'namely',\n",
       " 'naturally',\n",
       " 'nontheless',\n",
       " 'notably',\n",
       " 'now',\n",
       " 'now that',\n",
       " 'obviously',\n",
       " 'on the contrary',\n",
       " 'once',\n",
       " 'originally',\n",
       " 'perhaps',\n",
       " 'personally',\n",
       " 'presently',\n",
       " 'presumably',\n",
       " 'rather',\n",
       " 'realistically',\n",
       " 'separately',\n",
       " 'significantly',\n",
       " 'since',\n",
       " 'so',\n",
       " 'so that',\n",
       " 'still',\n",
       " 'supposedly',\n",
       " 'surely',\n",
       " 'then',\n",
       " 'theoretically',\n",
       " 'thereby',\n",
       " 'therefore',\n",
       " 'thus',\n",
       " 'ultimately',\n",
       " 'undoubtedly',\n",
       " 'unfortunately',\n",
       " 'unless',\n",
       " 'unsurprisingly',\n",
       " 'until',\n",
       " 'when',\n",
       " 'yet'}"
      ]
     },
     "execution_count": 122,
     "metadata": {
      "tags": []
     },
     "output_type": "execute_result"
    }
   ],
   "source": [
    "#explore the contingency set\n",
    "contingency"
   ]
  },
  {
   "cell_type": "code",
   "execution_count": null,
   "metadata": {
    "id": "hXc4GHlsEP61"
   },
   "outputs": [],
   "source": [
    "#comparison set\n",
    "comparison  = set([ 'however', 'but', 'like', 'likewise', 'same as', 'as well as' ,'also', 'too', 'likewise', \n",
    "'unlike', 'in contrast to', 'as opposed to', 'different from', 'whereas', 'both', 'comparatively', 'in the same way',\n",
    "'in addition', 'just as', 'most important', 'similarly', 'although','besides','but', 'compared with', 'conversely', 'differ',\n",
    "'even though', 'furthermore', 'however', 'in contrast to', 'instead', 'less than', 'more than', 'nevertheless', 'notwithstanding',\n",
    "'on the other hand', 'otherwise', 'rather than', 'regardless', 'though', 'unless', 'unlike', 'while', 'yet' ])\n",
    "\n",
    "#comparison dimplomacy set\n",
    "comparison  _diplomacy = {'after',\n",
    " 'although',\n",
    " 'as if',\n",
    " 'as though',\n",
    " 'besides',\n",
    " 'conversely',\n",
    " 'earlier',\n",
    " 'however',\n",
    " 'in fact',\n",
    " 'in the end',\n",
    " 'indeed',\n",
    " 'instead',\n",
    " 'meanwhile',\n",
    " 'much as',\n",
    " 'nevertheless',\n",
    " 'nonetheless',\n",
    " 'nor',\n",
    " 'on the contrary',\n",
    " 'on the other hand',\n",
    " 'previously',\n",
    " 'rather',\n",
    " 'regardless',\n",
    " 'still',\n",
    " 'then',\n",
    " 'though',\n",
    " 'when',\n",
    " 'whereas',\n",
    " 'while',\n",
    " 'yet'}\n",
    "\n",
    "#combined comparison   set\n",
    "comparison   = comparison   | comparison  _diplomacy"
   ]
  },
  {
   "cell_type": "code",
   "execution_count": null,
   "metadata": {
    "colab": {
     "base_uri": "https://localhost:8080/"
    },
    "id": "vSJblLCTFLmP",
    "outputId": "00c4e86c-02e4-4c87-c71f-060d265559bb"
   },
   "outputs": [
    {
     "data": {
      "text/plain": [
       "{'after',\n",
       " 'also',\n",
       " 'although',\n",
       " 'as if',\n",
       " 'as opposed to',\n",
       " 'as though',\n",
       " 'as well as',\n",
       " 'besides',\n",
       " 'both',\n",
       " 'but',\n",
       " 'comparatively',\n",
       " 'compared with',\n",
       " 'conversely',\n",
       " 'differ',\n",
       " 'different from',\n",
       " 'earlier',\n",
       " 'even though',\n",
       " 'furthermore',\n",
       " 'however',\n",
       " 'in addition',\n",
       " 'in contrast to',\n",
       " 'in fact',\n",
       " 'in the end',\n",
       " 'in the same way',\n",
       " 'indeed',\n",
       " 'instead',\n",
       " 'just as',\n",
       " 'less than',\n",
       " 'like',\n",
       " 'likewise',\n",
       " 'meanwhile',\n",
       " 'more than',\n",
       " 'most important',\n",
       " 'much as',\n",
       " 'nevertheless',\n",
       " 'nonetheless',\n",
       " 'nor',\n",
       " 'notwithstanding',\n",
       " 'on the contrary',\n",
       " 'on the other hand',\n",
       " 'otherwise',\n",
       " 'previously',\n",
       " 'rather',\n",
       " 'rather than',\n",
       " 'regardless',\n",
       " 'same as',\n",
       " 'similarly',\n",
       " 'still',\n",
       " 'then',\n",
       " 'though',\n",
       " 'too',\n",
       " 'unless',\n",
       " 'unlike',\n",
       " 'when',\n",
       " 'whereas',\n",
       " 'while',\n",
       " 'yet'}"
      ]
     },
     "execution_count": 124,
     "metadata": {
      "tags": []
     },
     "output_type": "execute_result"
    }
   ],
   "source": [
    "#explore the comparison   set\n",
    "comparison  "
   ]
  },
  {
   "cell_type": "markdown",
   "metadata": {
    "id": "idTUoSGZFO7Z"
   },
   "source": [
    "#### True news"
   ]
  },
  {
   "cell_type": "markdown",
   "metadata": {
    "id": "gXbww-9CI2qU"
   },
   "source": [
    "compute the expansion, contingency and comparison   for the true news"
   ]
  },
  {
   "cell_type": "code",
   "execution_count": null,
   "metadata": {
    "id": "nRI1FuQuFQzX"
   },
   "outputs": [],
   "source": [
    "#add empty columns for the expansion, contingency and comparison  \n",
    "df_True_text[['comparaison  ', 'contingency' , 'expansion']]= None"
   ]
  },
  {
   "cell_type": "code",
   "execution_count": null,
   "metadata": {
    "colab": {
     "base_uri": "https://localhost:8080/",
     "height": 501
    },
    "id": "IPRmBjaOFRpK",
    "outputId": "d29e66dc-c13a-4d67-d5b3-b3fd04d20231"
   },
   "outputs": [
    {
     "data": {
      "text/html": [
       "<div>\n",
       "<style scoped>\n",
       "    .dataframe tbody tr th:only-of-type {\n",
       "        vertical-align: middle;\n",
       "    }\n",
       "\n",
       "    .dataframe tbody tr th {\n",
       "        vertical-align: top;\n",
       "    }\n",
       "\n",
       "    .dataframe thead th {\n",
       "        text-align: right;\n",
       "    }\n",
       "</style>\n",
       "<table border=\"1\" class=\"dataframe\">\n",
       "  <thead>\n",
       "    <tr style=\"text-align: right;\">\n",
       "      <th></th>\n",
       "      <th>text</th>\n",
       "      <th>numSentence</th>\n",
       "      <th>numWords</th>\n",
       "      <th>totSentiment</th>\n",
       "      <th>avgSentiment</th>\n",
       "      <th>positive_Sentiment</th>\n",
       "      <th>negative_Sentiment</th>\n",
       "      <th>neutral_Sentiment</th>\n",
       "      <th>parses</th>\n",
       "      <th>politeness</th>\n",
       "      <th>premises_conclusions</th>\n",
       "      <th>subjectivity</th>\n",
       "      <th>polarity</th>\n",
       "      <th>comparaison</th>\n",
       "      <th>contingency</th>\n",
       "      <th>expansion</th>\n",
       "    </tr>\n",
       "  </thead>\n",
       "  <tbody>\n",
       "    <tr>\n",
       "      <th>0</th>\n",
       "      <td>the head of a conservative republican faction ...</td>\n",
       "      <td>31.0</td>\n",
       "      <td>730.0</td>\n",
       "      <td>63.0</td>\n",
       "      <td>2.032258</td>\n",
       "      <td>10.0</td>\n",
       "      <td>9.0</td>\n",
       "      <td>12.0</td>\n",
       "      <td>['(ROOT\\n  (S\\n    (NP\\n      (NP\\n        (NP...</td>\n",
       "      <td>0.456962</td>\n",
       "      <td>45</td>\n",
       "      <td>0.41025</td>\n",
       "      <td>0.0370833</td>\n",
       "      <td>None</td>\n",
       "      <td>None</td>\n",
       "      <td>None</td>\n",
       "    </tr>\n",
       "    <tr>\n",
       "      <th>1</th>\n",
       "      <td>transgender people will be allowed for the fir...</td>\n",
       "      <td>22.0</td>\n",
       "      <td>614.0</td>\n",
       "      <td>38.0</td>\n",
       "      <td>1.727273</td>\n",
       "      <td>4.0</td>\n",
       "      <td>10.0</td>\n",
       "      <td>8.0</td>\n",
       "      <td>['(ROOT\\n  (S\\n    (S\\n      (NP (JJ transgend...</td>\n",
       "      <td>0.458206</td>\n",
       "      <td>23</td>\n",
       "      <td>0.308401</td>\n",
       "      <td>0.0443537</td>\n",
       "      <td>None</td>\n",
       "      <td>None</td>\n",
       "      <td>None</td>\n",
       "    </tr>\n",
       "    <tr>\n",
       "      <th>2</th>\n",
       "      <td>the special counsel investigation of links bet...</td>\n",
       "      <td>19.0</td>\n",
       "      <td>452.0</td>\n",
       "      <td>39.0</td>\n",
       "      <td>2.052632</td>\n",
       "      <td>5.0</td>\n",
       "      <td>4.0</td>\n",
       "      <td>10.0</td>\n",
       "      <td>['(ROOT\\n  (S\\n    (S\\n      (NP\\n        (NP ...</td>\n",
       "      <td>0.449653</td>\n",
       "      <td>23</td>\n",
       "      <td>0.316798</td>\n",
       "      <td>0.11593</td>\n",
       "      <td>None</td>\n",
       "      <td>None</td>\n",
       "      <td>None</td>\n",
       "    </tr>\n",
       "    <tr>\n",
       "      <th>3</th>\n",
       "      <td>trump campaign adviser george papadopoulos tol...</td>\n",
       "      <td>16.0</td>\n",
       "      <td>374.0</td>\n",
       "      <td>30.0</td>\n",
       "      <td>1.875000</td>\n",
       "      <td>4.0</td>\n",
       "      <td>6.0</td>\n",
       "      <td>6.0</td>\n",
       "      <td>['(ROOT\\n  (S\\n    (S\\n      (NP (NN trump) (N...</td>\n",
       "      <td>0.461039</td>\n",
       "      <td>28</td>\n",
       "      <td>0.306569</td>\n",
       "      <td>0.0359684</td>\n",
       "      <td>None</td>\n",
       "      <td>None</td>\n",
       "      <td>None</td>\n",
       "    </tr>\n",
       "    <tr>\n",
       "      <th>4</th>\n",
       "      <td>president donald trump called on the u.s. post...</td>\n",
       "      <td>45.0</td>\n",
       "      <td>827.0</td>\n",
       "      <td>77.0</td>\n",
       "      <td>1.711111</td>\n",
       "      <td>8.0</td>\n",
       "      <td>21.0</td>\n",
       "      <td>16.0</td>\n",
       "      <td>['(ROOT\\n  (S\\n    (NP\\n      (NP (NN presiden...</td>\n",
       "      <td>0.450035</td>\n",
       "      <td>47</td>\n",
       "      <td>0.398611</td>\n",
       "      <td>0.0343216</td>\n",
       "      <td>None</td>\n",
       "      <td>None</td>\n",
       "      <td>None</td>\n",
       "    </tr>\n",
       "  </tbody>\n",
       "</table>\n",
       "</div>"
      ],
      "text/plain": [
       "                                                text  ...  expansion\n",
       "0  the head of a conservative republican faction ...  ...       None\n",
       "1  transgender people will be allowed for the fir...  ...       None\n",
       "2  the special counsel investigation of links bet...  ...       None\n",
       "3  trump campaign adviser george papadopoulos tol...  ...       None\n",
       "4  president donald trump called on the u.s. post...  ...       None\n",
       "\n",
       "[5 rows x 16 columns]"
      ]
     },
     "execution_count": 129,
     "metadata": {
      "tags": []
     },
     "output_type": "execute_result"
    }
   ],
   "source": [
    "df_True_text.head()"
   ]
  },
  {
   "cell_type": "code",
   "execution_count": null,
   "metadata": {
    "id": "8S_CzsnzFtSX"
   },
   "outputs": [],
   "source": [
    "#count the nb of comparison  s in each news by checking the number of occurences of the merkers in that news \n",
    "df_True_text['comparaison  '] = df_True_text['text'].apply( lambda x :  sum([x.count(i) for i in comparison  ])  )"
   ]
  },
  {
   "cell_type": "code",
   "execution_count": null,
   "metadata": {
    "id": "Mn0Ft4phGND7"
   },
   "outputs": [],
   "source": [
    "#count the nb of contingency in each news by checking the number of occurences of the merkers in that news \n",
    "df_True_text['contingency'] = df_True_text['text'].apply( lambda x :  sum([x.count(i) for i in contingency])  )"
   ]
  },
  {
   "cell_type": "code",
   "execution_count": null,
   "metadata": {
    "id": "WOOm3fy4GNHB"
   },
   "outputs": [],
   "source": [
    "#count the nb of expansion in each news by checking the number of occurences of the merkers in that news \n",
    "df_True_text['expansion'] = df_True_text['text'].apply( lambda x :  sum([x.count(i) for i in expansion])  )"
   ]
  },
  {
   "cell_type": "code",
   "execution_count": null,
   "metadata": {
    "id": "ob7DY2TwGNRg"
   },
   "outputs": [],
   "source": [
    "#save the dataframe\n",
    "df_True_text.to_csv(os.path.join(FEATURES_FOLDER,'df_True_text2.csv'), index=False)"
   ]
  },
  {
   "cell_type": "code",
   "execution_count": null,
   "metadata": {
    "colab": {
     "base_uri": "https://localhost:8080/",
     "height": 501
    },
    "id": "9TD8umNSGy1H",
    "outputId": "a4ae21e1-cc89-4fdb-e12c-d71ffd2a33f2"
   },
   "outputs": [
    {
     "data": {
      "text/html": [
       "<div>\n",
       "<style scoped>\n",
       "    .dataframe tbody tr th:only-of-type {\n",
       "        vertical-align: middle;\n",
       "    }\n",
       "\n",
       "    .dataframe tbody tr th {\n",
       "        vertical-align: top;\n",
       "    }\n",
       "\n",
       "    .dataframe thead th {\n",
       "        text-align: right;\n",
       "    }\n",
       "</style>\n",
       "<table border=\"1\" class=\"dataframe\">\n",
       "  <thead>\n",
       "    <tr style=\"text-align: right;\">\n",
       "      <th></th>\n",
       "      <th>text</th>\n",
       "      <th>numSentence</th>\n",
       "      <th>numWords</th>\n",
       "      <th>totSentiment</th>\n",
       "      <th>avgSentiment</th>\n",
       "      <th>positive_Sentiment</th>\n",
       "      <th>negative_Sentiment</th>\n",
       "      <th>neutral_Sentiment</th>\n",
       "      <th>parses</th>\n",
       "      <th>politeness</th>\n",
       "      <th>premises_conclusions</th>\n",
       "      <th>subjectivity</th>\n",
       "      <th>polarity</th>\n",
       "      <th>comparaison</th>\n",
       "      <th>contingency</th>\n",
       "      <th>expansion</th>\n",
       "    </tr>\n",
       "  </thead>\n",
       "  <tbody>\n",
       "    <tr>\n",
       "      <th>0</th>\n",
       "      <td>the head of a conservative republican faction ...</td>\n",
       "      <td>31.0</td>\n",
       "      <td>730.0</td>\n",
       "      <td>63.0</td>\n",
       "      <td>2.032258</td>\n",
       "      <td>10.0</td>\n",
       "      <td>9.0</td>\n",
       "      <td>12.0</td>\n",
       "      <td>['(ROOT\\n  (S\\n    (NP\\n      (NP\\n        (NP...</td>\n",
       "      <td>0.456962</td>\n",
       "      <td>45</td>\n",
       "      <td>0.41025</td>\n",
       "      <td>0.0370833</td>\n",
       "      <td>15</td>\n",
       "      <td>26</td>\n",
       "      <td>82</td>\n",
       "    </tr>\n",
       "    <tr>\n",
       "      <th>1</th>\n",
       "      <td>transgender people will be allowed for the fir...</td>\n",
       "      <td>22.0</td>\n",
       "      <td>614.0</td>\n",
       "      <td>38.0</td>\n",
       "      <td>1.727273</td>\n",
       "      <td>4.0</td>\n",
       "      <td>10.0</td>\n",
       "      <td>8.0</td>\n",
       "      <td>['(ROOT\\n  (S\\n    (S\\n      (NP (JJ transgend...</td>\n",
       "      <td>0.458206</td>\n",
       "      <td>23</td>\n",
       "      <td>0.308401</td>\n",
       "      <td>0.0443537</td>\n",
       "      <td>10</td>\n",
       "      <td>25</td>\n",
       "      <td>57</td>\n",
       "    </tr>\n",
       "    <tr>\n",
       "      <th>2</th>\n",
       "      <td>the special counsel investigation of links bet...</td>\n",
       "      <td>19.0</td>\n",
       "      <td>452.0</td>\n",
       "      <td>39.0</td>\n",
       "      <td>2.052632</td>\n",
       "      <td>5.0</td>\n",
       "      <td>4.0</td>\n",
       "      <td>10.0</td>\n",
       "      <td>['(ROOT\\n  (S\\n    (S\\n      (NP\\n        (NP ...</td>\n",
       "      <td>0.449653</td>\n",
       "      <td>23</td>\n",
       "      <td>0.316798</td>\n",
       "      <td>0.11593</td>\n",
       "      <td>9</td>\n",
       "      <td>20</td>\n",
       "      <td>49</td>\n",
       "    </tr>\n",
       "    <tr>\n",
       "      <th>3</th>\n",
       "      <td>trump campaign adviser george papadopoulos tol...</td>\n",
       "      <td>16.0</td>\n",
       "      <td>374.0</td>\n",
       "      <td>30.0</td>\n",
       "      <td>1.875000</td>\n",
       "      <td>4.0</td>\n",
       "      <td>6.0</td>\n",
       "      <td>6.0</td>\n",
       "      <td>['(ROOT\\n  (S\\n    (S\\n      (NP (NN trump) (N...</td>\n",
       "      <td>0.461039</td>\n",
       "      <td>28</td>\n",
       "      <td>0.306569</td>\n",
       "      <td>0.0359684</td>\n",
       "      <td>8</td>\n",
       "      <td>22</td>\n",
       "      <td>51</td>\n",
       "    </tr>\n",
       "    <tr>\n",
       "      <th>4</th>\n",
       "      <td>president donald trump called on the u.s. post...</td>\n",
       "      <td>45.0</td>\n",
       "      <td>827.0</td>\n",
       "      <td>77.0</td>\n",
       "      <td>1.711111</td>\n",
       "      <td>8.0</td>\n",
       "      <td>21.0</td>\n",
       "      <td>16.0</td>\n",
       "      <td>['(ROOT\\n  (S\\n    (NP\\n      (NP (NN presiden...</td>\n",
       "      <td>0.450035</td>\n",
       "      <td>47</td>\n",
       "      <td>0.398611</td>\n",
       "      <td>0.0343216</td>\n",
       "      <td>20</td>\n",
       "      <td>34</td>\n",
       "      <td>85</td>\n",
       "    </tr>\n",
       "  </tbody>\n",
       "</table>\n",
       "</div>"
      ],
      "text/plain": [
       "                                                text  ...  expansion\n",
       "0  the head of a conservative republican faction ...  ...         82\n",
       "1  transgender people will be allowed for the fir...  ...         57\n",
       "2  the special counsel investigation of links bet...  ...         49\n",
       "3  trump campaign adviser george papadopoulos tol...  ...         51\n",
       "4  president donald trump called on the u.s. post...  ...         85\n",
       "\n",
       "[5 rows x 16 columns]"
      ]
     },
     "execution_count": 134,
     "metadata": {
      "tags": []
     },
     "output_type": "execute_result"
    }
   ],
   "source": [
    "df_True_text.head()"
   ]
  },
  {
   "cell_type": "markdown",
   "metadata": {
    "id": "9DB4E2EhFR2X"
   },
   "source": [
    "#### Fake news"
   ]
  },
  {
   "cell_type": "code",
   "execution_count": null,
   "metadata": {
    "id": "vzJYJsEGFUFC"
   },
   "outputs": [],
   "source": [
    "#add empty columns for the expansion, contingency and comparison  \n",
    "df_Fake_text[['comparaison  ', 'contingency' , 'expansion']]= None"
   ]
  },
  {
   "cell_type": "code",
   "execution_count": null,
   "metadata": {
    "colab": {
     "base_uri": "https://localhost:8080/",
     "height": 635
    },
    "id": "GtWpuBwVFURz",
    "outputId": "c9b51904-ec79-4f81-969f-1b5b07f10549"
   },
   "outputs": [
    {
     "data": {
      "text/html": [
       "<div>\n",
       "<style scoped>\n",
       "    .dataframe tbody tr th:only-of-type {\n",
       "        vertical-align: middle;\n",
       "    }\n",
       "\n",
       "    .dataframe tbody tr th {\n",
       "        vertical-align: top;\n",
       "    }\n",
       "\n",
       "    .dataframe thead th {\n",
       "        text-align: right;\n",
       "    }\n",
       "</style>\n",
       "<table border=\"1\" class=\"dataframe\">\n",
       "  <thead>\n",
       "    <tr style=\"text-align: right;\">\n",
       "      <th></th>\n",
       "      <th>text</th>\n",
       "      <th>numSentence</th>\n",
       "      <th>numWords</th>\n",
       "      <th>totSentiment</th>\n",
       "      <th>avgSentiment</th>\n",
       "      <th>positive_Sentiment</th>\n",
       "      <th>negative_Sentiment</th>\n",
       "      <th>neutral_Sentiment</th>\n",
       "      <th>parses</th>\n",
       "      <th>politeness</th>\n",
       "      <th>premises_conclusions</th>\n",
       "      <th>subjectivity</th>\n",
       "      <th>polarity</th>\n",
       "      <th>comparaison</th>\n",
       "      <th>contingency</th>\n",
       "      <th>expansion</th>\n",
       "    </tr>\n",
       "  </thead>\n",
       "  <tbody>\n",
       "    <tr>\n",
       "      <th>0</th>\n",
       "      <td>donald trump just couldn t wish all americans ...</td>\n",
       "      <td>27.0</td>\n",
       "      <td>462.0</td>\n",
       "      <td>52.0</td>\n",
       "      <td>1.925926</td>\n",
       "      <td>7.0</td>\n",
       "      <td>10.0</td>\n",
       "      <td>10.0</td>\n",
       "      <td>['(ROOT\\n  (S\\n    (NP\\n      (NP (JJ donald) ...</td>\n",
       "      <td>0.422506</td>\n",
       "      <td>18</td>\n",
       "      <td>0.59249</td>\n",
       "      <td>0.0824626</td>\n",
       "      <td>None</td>\n",
       "      <td>None</td>\n",
       "      <td>None</td>\n",
       "    </tr>\n",
       "    <tr>\n",
       "      <th>1</th>\n",
       "      <td>house intelligence committee chairman devin nu...</td>\n",
       "      <td>10.0</td>\n",
       "      <td>308.0</td>\n",
       "      <td>12.0</td>\n",
       "      <td>1.200000</td>\n",
       "      <td>0.0</td>\n",
       "      <td>8.0</td>\n",
       "      <td>2.0</td>\n",
       "      <td>['(ROOT\\n  (S\\n    (NP (NN house) (NN intellig...</td>\n",
       "      <td>0.455562</td>\n",
       "      <td>21</td>\n",
       "      <td>0.334098</td>\n",
       "      <td>-0.00500448</td>\n",
       "      <td>None</td>\n",
       "      <td>None</td>\n",
       "      <td>None</td>\n",
       "    </tr>\n",
       "    <tr>\n",
       "      <th>2</th>\n",
       "      <td>on friday, it was revealed that former milwauk...</td>\n",
       "      <td>25.0</td>\n",
       "      <td>544.0</td>\n",
       "      <td>41.0</td>\n",
       "      <td>1.640000</td>\n",
       "      <td>3.0</td>\n",
       "      <td>12.0</td>\n",
       "      <td>10.0</td>\n",
       "      <td>['(ROOT\\n  (S\\n    (PP (IN on)\\n      (NP (NNP...</td>\n",
       "      <td>0.44189</td>\n",
       "      <td>20</td>\n",
       "      <td>0.542352</td>\n",
       "      <td>0.00967144</td>\n",
       "      <td>None</td>\n",
       "      <td>None</td>\n",
       "      <td>None</td>\n",
       "    </tr>\n",
       "    <tr>\n",
       "      <th>3</th>\n",
       "      <td>on christmas day, donald trump announced that ...</td>\n",
       "      <td>17.0</td>\n",
       "      <td>411.0</td>\n",
       "      <td>26.0</td>\n",
       "      <td>1.529412</td>\n",
       "      <td>2.0</td>\n",
       "      <td>10.0</td>\n",
       "      <td>5.0</td>\n",
       "      <td>['(ROOT\\n  (S\\n    (PP (IN on)\\n      (NP (NNP...</td>\n",
       "      <td>0.470385</td>\n",
       "      <td>22</td>\n",
       "      <td>0.372581</td>\n",
       "      <td>0.00913978</td>\n",
       "      <td>None</td>\n",
       "      <td>None</td>\n",
       "      <td>None</td>\n",
       "    </tr>\n",
       "    <tr>\n",
       "      <th>4</th>\n",
       "      <td>pope francis used his annual christmas day mes...</td>\n",
       "      <td>19.0</td>\n",
       "      <td>420.0</td>\n",
       "      <td>33.0</td>\n",
       "      <td>1.736842</td>\n",
       "      <td>6.0</td>\n",
       "      <td>11.0</td>\n",
       "      <td>2.0</td>\n",
       "      <td>['(ROOT\\n  (S\\n    (NP (NN pope) (NNS francis)...</td>\n",
       "      <td>0.45624</td>\n",
       "      <td>25</td>\n",
       "      <td>0.495222</td>\n",
       "      <td>-0.0117222</td>\n",
       "      <td>None</td>\n",
       "      <td>None</td>\n",
       "      <td>None</td>\n",
       "    </tr>\n",
       "  </tbody>\n",
       "</table>\n",
       "</div>"
      ],
      "text/plain": [
       "                                                text  ...  expansion\n",
       "0  donald trump just couldn t wish all americans ...  ...       None\n",
       "1  house intelligence committee chairman devin nu...  ...       None\n",
       "2  on friday, it was revealed that former milwauk...  ...       None\n",
       "3  on christmas day, donald trump announced that ...  ...       None\n",
       "4  pope francis used his annual christmas day mes...  ...       None\n",
       "\n",
       "[5 rows x 16 columns]"
      ]
     },
     "execution_count": 127,
     "metadata": {
      "tags": []
     },
     "output_type": "execute_result"
    }
   ],
   "source": [
    "df_Fake_text.head()"
   ]
  },
  {
   "cell_type": "code",
   "execution_count": null,
   "metadata": {
    "id": "PV6eAExEFt-i"
   },
   "outputs": [],
   "source": [
    "#count the nb of comparison  s and conclusions in each news by checking the number of occurences of the merkers in that news \n",
    "df_Fake_text['comparaison  '] = df_Fake_text['text'].apply( lambda x :  sum([x.count(i) for i in comparison  ])  )"
   ]
  },
  {
   "cell_type": "code",
   "execution_count": null,
   "metadata": {
    "id": "WuNBhYRdFuFJ"
   },
   "outputs": [],
   "source": [
    "#count the nb of contingency and conclusions in each news by checking the number of occurences of the merkers in that news \n",
    "df_Fake_text['contingency'] = df_Fake_text['text'].apply( lambda x :  sum([x.count(i) for i in contingency])  )"
   ]
  },
  {
   "cell_type": "code",
   "execution_count": null,
   "metadata": {
    "id": "WGoMCUjfGLLf"
   },
   "outputs": [],
   "source": [
    "#count the nb of expansion in each news by checking the number of occurences of the merkers in that news \n",
    "df_Fake_text['expansion'] = df_Fake_text['text'].apply( lambda x :  sum([x.count(i) for i in expansion])  )"
   ]
  },
  {
   "cell_type": "code",
   "execution_count": null,
   "metadata": {
    "id": "z2VmyUr4GfYP"
   },
   "outputs": [],
   "source": [
    "#save the dataframe\n",
    "df_Fake_text.to_csv(os.path.join(FEATURES_FOLDER,'df_Fake_text.csv'), index=False)"
   ]
  },
  {
   "cell_type": "code",
   "execution_count": null,
   "metadata": {
    "colab": {
     "base_uri": "https://localhost:8080/",
     "height": 635
    },
    "id": "Uc9hEU_jG4-I",
    "outputId": "f5b4d234-ee73-4deb-cdbe-f69fafa46a24"
   },
   "outputs": [
    {
     "data": {
      "text/html": [
       "<div>\n",
       "<style scoped>\n",
       "    .dataframe tbody tr th:only-of-type {\n",
       "        vertical-align: middle;\n",
       "    }\n",
       "\n",
       "    .dataframe tbody tr th {\n",
       "        vertical-align: top;\n",
       "    }\n",
       "\n",
       "    .dataframe thead th {\n",
       "        text-align: right;\n",
       "    }\n",
       "</style>\n",
       "<table border=\"1\" class=\"dataframe\">\n",
       "  <thead>\n",
       "    <tr style=\"text-align: right;\">\n",
       "      <th></th>\n",
       "      <th>text</th>\n",
       "      <th>numSentence</th>\n",
       "      <th>numWords</th>\n",
       "      <th>totSentiment</th>\n",
       "      <th>avgSentiment</th>\n",
       "      <th>positive_Sentiment</th>\n",
       "      <th>negative_Sentiment</th>\n",
       "      <th>neutral_Sentiment</th>\n",
       "      <th>parses</th>\n",
       "      <th>politeness</th>\n",
       "      <th>premises_conclusions</th>\n",
       "      <th>subjectivity</th>\n",
       "      <th>polarity</th>\n",
       "      <th>comparaison</th>\n",
       "      <th>contingency</th>\n",
       "      <th>expansion</th>\n",
       "    </tr>\n",
       "  </thead>\n",
       "  <tbody>\n",
       "    <tr>\n",
       "      <th>0</th>\n",
       "      <td>donald trump just couldn t wish all americans ...</td>\n",
       "      <td>27.0</td>\n",
       "      <td>462.0</td>\n",
       "      <td>52.0</td>\n",
       "      <td>1.925926</td>\n",
       "      <td>7.0</td>\n",
       "      <td>10.0</td>\n",
       "      <td>10.0</td>\n",
       "      <td>['(ROOT\\n  (S\\n    (NP\\n      (NP (JJ donald) ...</td>\n",
       "      <td>0.422506</td>\n",
       "      <td>18</td>\n",
       "      <td>0.59249</td>\n",
       "      <td>0.0824626</td>\n",
       "      <td>8</td>\n",
       "      <td>27</td>\n",
       "      <td>50</td>\n",
       "    </tr>\n",
       "    <tr>\n",
       "      <th>1</th>\n",
       "      <td>house intelligence committee chairman devin nu...</td>\n",
       "      <td>10.0</td>\n",
       "      <td>308.0</td>\n",
       "      <td>12.0</td>\n",
       "      <td>1.200000</td>\n",
       "      <td>0.0</td>\n",
       "      <td>8.0</td>\n",
       "      <td>2.0</td>\n",
       "      <td>['(ROOT\\n  (S\\n    (NP (NN house) (NN intellig...</td>\n",
       "      <td>0.455562</td>\n",
       "      <td>21</td>\n",
       "      <td>0.334098</td>\n",
       "      <td>-0.00500448</td>\n",
       "      <td>7</td>\n",
       "      <td>16</td>\n",
       "      <td>40</td>\n",
       "    </tr>\n",
       "    <tr>\n",
       "      <th>2</th>\n",
       "      <td>on friday, it was revealed that former milwauk...</td>\n",
       "      <td>25.0</td>\n",
       "      <td>544.0</td>\n",
       "      <td>41.0</td>\n",
       "      <td>1.640000</td>\n",
       "      <td>3.0</td>\n",
       "      <td>12.0</td>\n",
       "      <td>10.0</td>\n",
       "      <td>['(ROOT\\n  (S\\n    (PP (IN on)\\n      (NP (NNP...</td>\n",
       "      <td>0.44189</td>\n",
       "      <td>20</td>\n",
       "      <td>0.542352</td>\n",
       "      <td>0.00967144</td>\n",
       "      <td>9</td>\n",
       "      <td>24</td>\n",
       "      <td>47</td>\n",
       "    </tr>\n",
       "    <tr>\n",
       "      <th>3</th>\n",
       "      <td>on christmas day, donald trump announced that ...</td>\n",
       "      <td>17.0</td>\n",
       "      <td>411.0</td>\n",
       "      <td>26.0</td>\n",
       "      <td>1.529412</td>\n",
       "      <td>2.0</td>\n",
       "      <td>10.0</td>\n",
       "      <td>5.0</td>\n",
       "      <td>['(ROOT\\n  (S\\n    (PP (IN on)\\n      (NP (NNP...</td>\n",
       "      <td>0.470385</td>\n",
       "      <td>22</td>\n",
       "      <td>0.372581</td>\n",
       "      <td>0.00913978</td>\n",
       "      <td>13</td>\n",
       "      <td>18</td>\n",
       "      <td>48</td>\n",
       "    </tr>\n",
       "    <tr>\n",
       "      <th>4</th>\n",
       "      <td>pope francis used his annual christmas day mes...</td>\n",
       "      <td>19.0</td>\n",
       "      <td>420.0</td>\n",
       "      <td>33.0</td>\n",
       "      <td>1.736842</td>\n",
       "      <td>6.0</td>\n",
       "      <td>11.0</td>\n",
       "      <td>2.0</td>\n",
       "      <td>['(ROOT\\n  (S\\n    (NP (NN pope) (NNS francis)...</td>\n",
       "      <td>0.45624</td>\n",
       "      <td>25</td>\n",
       "      <td>0.495222</td>\n",
       "      <td>-0.0117222</td>\n",
       "      <td>4</td>\n",
       "      <td>26</td>\n",
       "      <td>48</td>\n",
       "    </tr>\n",
       "  </tbody>\n",
       "</table>\n",
       "</div>"
      ],
      "text/plain": [
       "                                                text  ...  expansion\n",
       "0  donald trump just couldn t wish all americans ...  ...         50\n",
       "1  house intelligence committee chairman devin nu...  ...         40\n",
       "2  on friday, it was revealed that former milwauk...  ...         47\n",
       "3  on christmas day, donald trump announced that ...  ...         48\n",
       "4  pope francis used his annual christmas day mes...  ...         48\n",
       "\n",
       "[5 rows x 16 columns]"
      ]
     },
     "execution_count": 139,
     "metadata": {
      "tags": []
     },
     "output_type": "execute_result"
    }
   ],
   "source": [
    "df_Fake_text.head()"
   ]
  }
 ],
 "metadata": {
  "colab": {
   "collapsed_sections": [],
   "name": "politeness_clean.ipynb",
   "provenance": [],
   "toc_visible": true
  },
  "kernelspec": {
   "display_name": "Python 3",
   "language": "python",
   "name": "python3"
  },
  "language_info": {
   "codemirror_mode": {
    "name": "ipython",
    "version": 3
   },
   "file_extension": ".py",
   "mimetype": "text/x-python",
   "name": "python",
   "nbconvert_exporter": "python",
   "pygments_lexer": "ipython3",
   "version": "3.8.5"
  }
 },
 "nbformat": 4,
 "nbformat_minor": 1
}
